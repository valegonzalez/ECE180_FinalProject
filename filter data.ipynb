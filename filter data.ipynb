{
 "cells": [
  {
   "cell_type": "code",
   "execution_count": null,
   "metadata": {
    "collapsed": true
   },
   "outputs": [],
   "source": [
    "import pandas as pd\n",
    "crime_data=pd.read_csv('https://data.lacity.org/api/views/y8tr-7khq/rows.csv?accessType=DOWNLOAD',header=0)\n",
    "\n",
    "\n",
    "crime_data.columns =['DR_Number','date_reported','date_occurred','time_occurred','area_ID','area_name','reporting_district','crime_code','crime_code_description','MO_code','victim_age','victim_sex','victim_descent',\t'premise_code',\t'premise_description','weapon_used_code','weapon_description','status_code','status_description','crime_code1','crime_code2','crime_code3','crime_code4','address','cross_street','location']\n",
    "\n",
    "\n",
    "young_victim = df[crime_data.victim_age < 18]\n",
    "female_victim = df[crime_data.victim_sex == 'F']\n",
    "male_victim = df[crime_data.victim_sex == 'M']\n",
    "strong_arm = df[crime_data.weapon_description == 'STRONG-ARM (HANDS, FIST, FEET OR BODILY FORCE)']\n",
    "in2015 = df[crime_data.date_occurred.str.endswith('15')]\n",
    "young_victim_in2015 = df[(crime_data.victim_age < 18) & (crime_data.date_occurred.str.endswith('15'))]\n",
    "# categery dataframes are as shown above, I am not sure what data we need, please feel free to change it#\n",
    "\n",
    "#unique entries for each column#\n",
    "weapon_types= crime_data.weapon_description.unique()\n",
    "crime_types=crime_data.crime_code_description.unique()\n",
    "victim_sex_types=crime_data.victim_sex.unique()\n",
    "victim_age_types=crime_data.victim_age.unique()\n",
    "victim_descent_types=crime_data.victim_descent.unique()\n",
    "location=crime_data.location\n",
    "area= crime_data.groupby('area_name')\n",
    "area.count"
   ]
  }
 ],
 "metadata": {
  "kernelspec": {
   "display_name": "Python 2",
   "language": "python",
   "name": "python2"
  },
  "language_info": {
   "codemirror_mode": {
    "name": "ipython",
    "version": 2
   },
   "file_extension": ".py",
   "mimetype": "text/x-python",
   "name": "python",
   "nbconvert_exporter": "python",
   "pygments_lexer": "ipython2",
   "version": "2.7.6"
  }
 },
 "nbformat": 4,
 "nbformat_minor": 0
}

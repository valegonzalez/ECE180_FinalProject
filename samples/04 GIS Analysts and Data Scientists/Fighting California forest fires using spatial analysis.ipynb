{
 "cells": [
  {
   "cell_type": "markdown",
   "metadata": {},
   "source": [
    "Refer here for instructions to [download and run this sample locally](https://developers.arcgis.com/python/sample-notebooks/#Download-and-run-the-sample-notebooks) on your computer"
   ]
  },
  {
   "cell_type": "markdown",
   "metadata": {},
   "source": [
    "# Fighting California forest fires using spatial analysis\n",
    "\n",
    "The state of California has had a dangerous fire season in 2015 and 2016. A standard procedure while fighting these fires is identifying facilities that are at risk and evacuating them. Tasks such as this can be accomplished easily using **spatial analysis** tools available on your GIS. Spatial analysis tools allow overlaying the extent of fire and the locations of the facilities on a map and identifying the ones that fall within the fire's extent.\n",
    "\n",
    "Thus, this sample demonstrates the application spatial analysis tools such as **buffer and overlay**.\n",
    "\n",
    "## Data preparation\n",
    "To run through this sample, we need a web feature layer with 2 layers, one representing the extent of fire and another with the locations of facilities. To accomplish this, let us publish a zipped file geodatabase (.fgdb) containing this data. To learn more about publishing, see the samples under \"05 Content Publishers\" section."
   ]
  },
  {
   "cell_type": "code",
   "execution_count": 1,
   "metadata": {
    "collapsed": true
   },
   "outputs": [],
   "source": [
    "#Create a GIS connection\n",
    "from arcgis import GIS\n",
    "\n",
    "gis = GIS(\"https://yourorg.arcgis.com\",\"username\",\"password\")"
   ]
  },
  {
   "cell_type": "code",
   "execution_count": 2,
   "metadata": {
    "collapsed": true
   },
   "outputs": [],
   "source": [
    "#Upload the zipped file geodatabase and add it as an item\n",
    "shp_file_path = \".\\data\\CA_Fires_Facilities.gdb.zip\"\n",
    "item_properties = {'title':'California fires'}\n",
    "added_item = gis.content.add(item_properties, shp_file_path)"
   ]
  },
  {
   "cell_type": "code",
   "execution_count": 3,
   "metadata": {
    "collapsed": false
   },
   "outputs": [
    {
     "data": {
      "text/html": [
       "<div class=\"item_container\" style=\"height: auto; overflow: hidden; border: 1px solid #cfcfcf; border-radius: 2px; background: #f6fafa; line-height: 1.21429em; padding: 10px;\">\n",
       "                    <div class=\"item_left\" style=\"width: 210px; float: left;\">\n",
       "                       <a href='https://portalhostds.ags.esri.com/gis/home/item.html?id=9716665ac5334d2d812cc6eb3952c05e' target='_blank'>\n",
       "                        <img src='http://static.arcgis.com/images/desktopapp.png' class=\"itemThumbnail\">\n",
       "                       </a>\n",
       "                    </div>\n",
       "\n",
       "                    <div class=\"item_right\"     style=\"float: none; width: auto; overflow: hidden;\">\n",
       "                        <a href='https://portalhostds.ags.esri.com/gis/home/item.html?id=9716665ac5334d2d812cc6eb3952c05e' target='_blank'><b>California fires</b>\n",
       "                        </a>\n",
       "                        <br><img src='http://www.arcgis.com/home/js/jsapi/esri/css/images/item_type_icons/featureshosted16.png' style=\"vertical-align:middle;\">Feature Service by sharing1\n",
       "                        <br>Last Modified: September 12, 2016\n",
       "                        <br>0 comments, 0 views\n",
       "                    </div>\n",
       "                </div>\n",
       "                "
      ],
      "text/plain": [
       "<Item title:\"California fires\" type:Feature Service owner:sharing1>"
      ]
     },
     "execution_count": 3,
     "metadata": {},
     "output_type": "execute_result"
    }
   ],
   "source": [
    "#Publish as a web layer\n",
    "CA_fires_item = added_item.publish()\n",
    "CA_fires_item"
   ]
  },
  {
   "cell_type": "markdown",
   "metadata": {},
   "source": [
    "## Visualize the fire data\n",
    "Let us create a map widget and display the fire datasets."
   ]
  },
  {
   "cell_type": "code",
   "execution_count": 4,
   "metadata": {
    "collapsed": false
   },
   "outputs": [],
   "source": [
    "map1 = gis.map(\"San Bernardino, CA\", zoomlevel = 8)\n",
    "map1"
   ]
  },
  {
   "cell_type": "code",
   "execution_count": 5,
   "metadata": {
    "collapsed": true
   },
   "outputs": [],
   "source": [
    "map1.add_layer(CA_fires_item)"
   ]
  },
  {
   "cell_type": "markdown",
   "metadata": {
    "collapsed": true
   },
   "source": [
    "The feature layer we just published contains two layers, the first is a point layer representing the facility locations and second is a polygon layer representing the fire boundaries. As you interact with the map widget, you can notice that a few facilities are in the vicinity of fires. The rest of the sample shows how to extract these facilities programmatically using GIS spatial analysis. "
   ]
  },
  {
   "cell_type": "markdown",
   "metadata": {},
   "source": [
    "## Create a buffer of 4 miles around fire boundaries\n",
    "To minimize the risk, let us create a buffer of 4 miles around the fire boundaries and consider all facilities that fall within this are at risk. The process of buffer expands the feature's boundaries in all directions. To learn more about buffers, refer to the [tool documentation](http://desktop.arcgis.com/en/arcmap/latest/tools/analysis-toolbox/buffer.htm). To learn more about the REST API used for the tool, refer to the [API documentation](https://developers.arcgis.com/rest/analysis/api-reference/create-buffers.htm)\n",
    "\n",
    "To perform buffers, we use the **`FeatureAnalysisTools`** class available from **`tools`** module. We access this via `featureanalysis` property of the `tools` property of your `GIS` object. \n",
    "\n",
    "As an input to the tool, we provide a **`FeatureLayer`** object created from the first layer of the web layer we just published. `FeatureLayer` objects can be accessed from the `layers` property of **`FeatureService`** object. A `FeatureService` object is constructed from the url of the feature service item we just published in the data preparation section. Both `FeatureLayer` and `FeatureService` can be accessed through the **`lyr`** module."
   ]
  },
  {
   "cell_type": "code",
   "execution_count": 6,
   "metadata": {
    "collapsed": false
   },
   "outputs": [],
   "source": [
    "from arcgis.lyr import FeatureLayer, FeatureService\n",
    "\n",
    "#Create a FeatureService object using the url property of the item\n",
    "CA_fires_FS = FeatureService(CA_fires_item.url, gis)\n",
    "\n",
    "#Query the FeatureService object's layers property to obtain both the layers\n",
    "fire_boundaries_layer = CA_fires_FS.layers[1]\n",
    "facility_location_layer = CA_fires_item.layers[0]"
   ]
  },
  {
   "cell_type": "code",
   "execution_count": 7,
   "metadata": {
    "collapsed": false
   },
   "outputs": [
    {
     "name": "stdout",
     "output_type": "stream",
     "text": [
      "Submitted.\n",
      "Executing...\n"
     ]
    }
   ],
   "source": [
    "#Access the tools via the GIS object.\n",
    "tools = gis.tools\n",
    "fire_buffers = tools.featureanalysis.create_buffers(fire_boundaries_layer,\n",
    "                                                    distances = [4],\n",
    "                                                    units = \"miles\",\n",
    "                                                    output_name = \"California_fire_buffers\")"
   ]
  },
  {
   "cell_type": "code",
   "execution_count": 8,
   "metadata": {
    "collapsed": false
   },
   "outputs": [
    {
     "data": {
      "text/html": [
       "<div class=\"item_container\" style=\"height: auto; overflow: hidden; border: 1px solid #cfcfcf; border-radius: 2px; background: #f6fafa; line-height: 1.21429em; padding: 10px;\">\n",
       "                    <div class=\"item_left\" style=\"width: 210px; float: left;\">\n",
       "                       <a href='https://portalhostds.ags.esri.com/gis/home/item.html?id=f9f778a2b7b14b3e87a6bcc83c05d602' target='_blank'>\n",
       "                        <img src='http://static.arcgis.com/images/desktopapp.png' class=\"itemThumbnail\">\n",
       "                       </a>\n",
       "                    </div>\n",
       "\n",
       "                    <div class=\"item_right\"     style=\"float: none; width: auto; overflow: hidden;\">\n",
       "                        <a href='https://portalhostds.ags.esri.com/gis/home/item.html?id=f9f778a2b7b14b3e87a6bcc83c05d602' target='_blank'><b>California_fire_buffers</b>\n",
       "                        </a>\n",
       "                        <br><img src='http://www.arcgis.com/home/js/jsapi/esri/css/images/item_type_icons/featureshosted16.png' style=\"vertical-align:middle;\">Feature Service by sharing1\n",
       "                        <br>Last Modified: September 12, 2016\n",
       "                        <br>0 comments, 0 views\n",
       "                    </div>\n",
       "                </div>\n",
       "                "
      ],
      "text/plain": [
       "<Item title:\"California_fire_buffers\" type:Feature Service owner:sharing1>"
      ]
     },
     "execution_count": 8,
     "metadata": {},
     "output_type": "execute_result"
    }
   ],
   "source": [
    "fire_buffers"
   ]
  },
  {
   "cell_type": "markdown",
   "metadata": {},
   "source": [
    "Since the `output_name` parameter was specified, the tool created a few feature service for output. We can visualize this by adding it to a new map."
   ]
  },
  {
   "cell_type": "code",
   "execution_count": 9,
   "metadata": {
    "collapsed": true
   },
   "outputs": [],
   "source": [
    "map2 = gis.map(\"San Bernardino, CA\", zoomlevel = 8)\n",
    "map2"
   ]
  },
  {
   "cell_type": "code",
   "execution_count": 10,
   "metadata": {
    "collapsed": false
   },
   "outputs": [],
   "source": [
    "map2.add_layer(fire_buffers)"
   ]
  },
  {
   "cell_type": "markdown",
   "metadata": {},
   "source": [
    "To illustrate the effect of buffers, let us add the original layers to the map. Now we can observe more facilities falling within the buffered area."
   ]
  },
  {
   "cell_type": "code",
   "execution_count": 11,
   "metadata": {
    "collapsed": true
   },
   "outputs": [],
   "source": [
    "map2.add_layer(CA_fires_item)"
   ]
  },
  {
   "cell_type": "markdown",
   "metadata": {},
   "source": [
    "## Perform overlay analysis to extract facilities that fall within the fire buffers\n",
    "\n",
    "To programattically extract the locations that fall within the fire buffers, we use **`overlay_layers`** tool under `FeatureAnalysisTools` class just like we did for `create_buffers` tool earlier. The overlay layers tool supports a few overlay types, here we use **`Intersect`** as we need to perform a spatial intersection to identify the facilities that are located within the fire boundaries. To learn more about this operation, refer to the [documentation](https://developers.arcgis.com/rest/analysis/api-reference/overlay-layers.htm)."
   ]
  },
  {
   "cell_type": "code",
   "execution_count": 12,
   "metadata": {
    "collapsed": false
   },
   "outputs": [
    {
     "name": "stdout",
     "output_type": "stream",
     "text": [
      "Submitted.\n",
      "Executing...\n"
     ]
    }
   ],
   "source": [
    "# Create a FeatureLayer object from the buffer output created in the previous step\n",
    "fire_buffers_FS = FeatureService(fire_buffers.url, gis)\n",
    "fire_buffers_feature_layer = fire_buffers_FS.layers[0]\n",
    "\n",
    "#Feed the fire buffer feature layer \n",
    "overlay_result = tools.featureanalysis.overlay_layers(input_layer = fire_buffers_feature_layer,\n",
    "                                                     overlay_layer = facility_location_layer,\n",
    "                                                     overlay_type = \"Intersect\",\n",
    "                                                     output_name = \"At_risk_infrastructure\")"
   ]
  },
  {
   "cell_type": "code",
   "execution_count": 13,
   "metadata": {
    "collapsed": false
   },
   "outputs": [
    {
     "data": {
      "text/html": [
       "<div class=\"item_container\" style=\"height: auto; overflow: hidden; border: 1px solid #cfcfcf; border-radius: 2px; background: #f6fafa; line-height: 1.21429em; padding: 10px;\">\n",
       "                    <div class=\"item_left\" style=\"width: 210px; float: left;\">\n",
       "                       <a href='https://portalhostds.ags.esri.com/gis/home/item.html?id=e520f766cd7f4fe896493c25651e1c60' target='_blank'>\n",
       "                        <img src='http://static.arcgis.com/images/desktopapp.png' class=\"itemThumbnail\">\n",
       "                       </a>\n",
       "                    </div>\n",
       "\n",
       "                    <div class=\"item_right\"     style=\"float: none; width: auto; overflow: hidden;\">\n",
       "                        <a href='https://portalhostds.ags.esri.com/gis/home/item.html?id=e520f766cd7f4fe896493c25651e1c60' target='_blank'><b>At_risk_infrastructure</b>\n",
       "                        </a>\n",
       "                        <br><img src='http://www.arcgis.com/home/js/jsapi/esri/css/images/item_type_icons/featureshosted16.png' style=\"vertical-align:middle;\">Feature Service by sharing1\n",
       "                        <br>Last Modified: September 12, 2016\n",
       "                        <br>0 comments, 0 views\n",
       "                    </div>\n",
       "                </div>\n",
       "                "
      ],
      "text/plain": [
       "<Item title:\"At_risk_infrastructure\" type:Feature Service owner:sharing1>"
      ]
     },
     "execution_count": 13,
     "metadata": {},
     "output_type": "execute_result"
    }
   ],
   "source": [
    "overlay_result"
   ]
  },
  {
   "cell_type": "markdown",
   "metadata": {
    "collapsed": true
   },
   "source": [
    "Let us create another map and display only the overlay result"
   ]
  },
  {
   "cell_type": "code",
   "execution_count": 14,
   "metadata": {
    "collapsed": true
   },
   "outputs": [],
   "source": [
    "map3 = gis.map(\"San Bernardino, CA\", zoomlevel = 8)\n",
    "map3"
   ]
  },
  {
   "cell_type": "code",
   "execution_count": 15,
   "metadata": {
    "collapsed": true
   },
   "outputs": [],
   "source": [
    "map3.add_layer(overlay_result)"
   ]
  },
  {
   "cell_type": "markdown",
   "metadata": {},
   "source": [
    "Let us read this result as a `FeatureLayer` and display the attribute table to get a sense of the results."
   ]
  },
  {
   "cell_type": "code",
   "execution_count": 16,
   "metadata": {
    "collapsed": false
   },
   "outputs": [
    {
     "data": {
      "text/plain": [
       "{'attributes': {'acres': 10850,\n",
       "  'addrln1': ' ',\n",
       "  'addrln2': ' ',\n",
       "  'analysisarea': 112.45956964,\n",
       "  'buff_dist': 4.0,\n",
       "  'cat1': 'Physical Features',\n",
       "  'cat2': 'Power Plants',\n",
       "  'cat3': ' ',\n",
       "  'city': ' ',\n",
       "  'containmen': 0.5,\n",
       "  'date_updat': 1288569600000,\n",
       "  'descriptio': ' ',\n",
       "  'dis_status': ' ',\n",
       "  'email': ' ',\n",
       "  'ext_id': '1654548',\n",
       "  'hours': ' ',\n",
       "  'info1': ' ',\n",
       "  'info2': ' ',\n",
       "  'join_count': 1,\n",
       "  'latitude': 34.1766729,\n",
       "  'link': 'http://egis3.lacounty.gov/lms/?p=24626',\n",
       "  'longitude': -117.872006,\n",
       "  'name': 'Azusa Powerplant Conduit',\n",
       "  'name_1': 'Fish Fire',\n",
       "  'objectid': 40242905,\n",
       "  'objectid_1': 1,\n",
       "  'org_name': 'US Geological Survey (USGS)',\n",
       "  'orig_fid': 5,\n",
       "  'perimeter1': 1300,\n",
       "  'perimeter_': 1466924400000,\n",
       "  'phones': ' ',\n",
       "  'point_x': 6600383.59242,\n",
       "  'point_y': 1886699.63928,\n",
       "  'post_id': 24626.0,\n",
       "  'source': 'HSIP Freedom Gnis_cultural_fe',\n",
       "  'state': ' ',\n",
       "  'status': 'Active',\n",
       "  'target_fid': 15,\n",
       "  'url': ' ',\n",
       "  'use_type': 'publish',\n",
       "  'zip': ' '},\n",
       " 'geometry': {'x': -13121451.693100002, 'y': 4052549.617800005}}"
      ]
     },
     "execution_count": 16,
     "metadata": {},
     "output_type": "execute_result"
    }
   ],
   "source": [
    "at_risk_facilities_FS = FeatureService(overlay_result.url, gis)\n",
    "at_risk_facilities = at_risk_facilities_FS.layers[0]\n",
    "\n",
    "at_risk_facilities.query()[0] #only the first item is displayed for brevity"
   ]
  },
  {
   "cell_type": "markdown",
   "metadata": {},
   "source": [
    "## Read analysis results as a pandas dataframe for analysis\n",
    "The query we ran in the previous step returned a list of dictionaries representing the features. To inspect this further, let us convert it into a [pandas](http://pandas.pydata.org/) [dataframe](http://pandas.pydata.org/pandas-docs/stable/generated/pandas.DataFrame.html)."
   ]
  },
  {
   "cell_type": "code",
   "execution_count": 17,
   "metadata": {
    "collapsed": true
   },
   "outputs": [],
   "source": [
    "import pandas as pd"
   ]
  },
  {
   "cell_type": "code",
   "execution_count": 18,
   "metadata": {
    "collapsed": false
   },
   "outputs": [
    {
     "data": {
      "text/html": [
       "<div>\n",
       "<table border=\"1\" class=\"dataframe\">\n",
       "  <thead>\n",
       "    <tr style=\"text-align: right;\">\n",
       "      <th></th>\n",
       "      <th>acres</th>\n",
       "      <th>addrln1</th>\n",
       "      <th>addrln2</th>\n",
       "      <th>analysisarea</th>\n",
       "      <th>buff_dist</th>\n",
       "      <th>cat1</th>\n",
       "      <th>cat2</th>\n",
       "      <th>cat3</th>\n",
       "      <th>city</th>\n",
       "      <th>containmen</th>\n",
       "      <th>...</th>\n",
       "      <th>point_x</th>\n",
       "      <th>point_y</th>\n",
       "      <th>post_id</th>\n",
       "      <th>source</th>\n",
       "      <th>state</th>\n",
       "      <th>status</th>\n",
       "      <th>target_fid</th>\n",
       "      <th>url</th>\n",
       "      <th>use_type</th>\n",
       "      <th>zip</th>\n",
       "    </tr>\n",
       "  </thead>\n",
       "  <tbody>\n",
       "    <tr>\n",
       "      <th>0</th>\n",
       "      <td>10850</td>\n",
       "      <td></td>\n",
       "      <td></td>\n",
       "      <td>112.459570</td>\n",
       "      <td>4.0</td>\n",
       "      <td>Physical Features</td>\n",
       "      <td>Power Plants</td>\n",
       "      <td></td>\n",
       "      <td></td>\n",
       "      <td>0.50</td>\n",
       "      <td>...</td>\n",
       "      <td>6.600384e+06</td>\n",
       "      <td>1.886700e+06</td>\n",
       "      <td>24626.0</td>\n",
       "      <td>HSIP Freedom Gnis_cultural_fe</td>\n",
       "      <td></td>\n",
       "      <td>Active</td>\n",
       "      <td>15</td>\n",
       "      <td></td>\n",
       "      <td>publish</td>\n",
       "      <td></td>\n",
       "    </tr>\n",
       "    <tr>\n",
       "      <th>1</th>\n",
       "      <td>1080</td>\n",
       "      <td></td>\n",
       "      <td></td>\n",
       "      <td>57.433120</td>\n",
       "      <td>4.0</td>\n",
       "      <td>Health and Mental Health</td>\n",
       "      <td>Hospitals and Medical Centers</td>\n",
       "      <td></td>\n",
       "      <td></td>\n",
       "      <td>0.65</td>\n",
       "      <td>...</td>\n",
       "      <td>6.369202e+06</td>\n",
       "      <td>1.880309e+06</td>\n",
       "      <td>26620.0</td>\n",
       "      <td>HSIP Freedom Gnis_structures</td>\n",
       "      <td></td>\n",
       "      <td>Active</td>\n",
       "      <td>17</td>\n",
       "      <td></td>\n",
       "      <td>publish</td>\n",
       "      <td></td>\n",
       "    </tr>\n",
       "    <tr>\n",
       "      <th>2</th>\n",
       "      <td>8940</td>\n",
       "      <td></td>\n",
       "      <td></td>\n",
       "      <td>60.135538</td>\n",
       "      <td>4.0</td>\n",
       "      <td>Health and Mental Health</td>\n",
       "      <td>Hospitals and Medical Centers</td>\n",
       "      <td></td>\n",
       "      <td></td>\n",
       "      <td>0.80</td>\n",
       "      <td>...</td>\n",
       "      <td>6.445879e+06</td>\n",
       "      <td>1.924838e+06</td>\n",
       "      <td>27055.0</td>\n",
       "      <td>HSIP Freedom Gnis_structures</td>\n",
       "      <td></td>\n",
       "      <td>Active</td>\n",
       "      <td>48</td>\n",
       "      <td></td>\n",
       "      <td>publish</td>\n",
       "      <td></td>\n",
       "    </tr>\n",
       "    <tr>\n",
       "      <th>3</th>\n",
       "      <td>8940</td>\n",
       "      <td>12653 Osborne St.</td>\n",
       "      <td></td>\n",
       "      <td>60.135538</td>\n",
       "      <td>4.0</td>\n",
       "      <td>Transportation</td>\n",
       "      <td>Airports</td>\n",
       "      <td></td>\n",
       "      <td>Pacoima</td>\n",
       "      <td>0.80</td>\n",
       "      <td>...</td>\n",
       "      <td>6.436785e+06</td>\n",
       "      <td>1.916959e+06</td>\n",
       "      <td>13559.0</td>\n",
       "      <td>Current Services Locator</td>\n",
       "      <td>CA</td>\n",
       "      <td>Active</td>\n",
       "      <td>57</td>\n",
       "      <td></td>\n",
       "      <td>publish</td>\n",
       "      <td>91331</td>\n",
       "    </tr>\n",
       "    <tr>\n",
       "      <th>4</th>\n",
       "      <td>1080</td>\n",
       "      <td>5601 De Soto Ave.</td>\n",
       "      <td></td>\n",
       "      <td>57.433120</td>\n",
       "      <td>4.0</td>\n",
       "      <td>Health and Mental Health</td>\n",
       "      <td>Hospitals and Medical Centers</td>\n",
       "      <td>911 Receiving</td>\n",
       "      <td>Woodland Hills</td>\n",
       "      <td>0.65</td>\n",
       "      <td>...</td>\n",
       "      <td>6.383286e+06</td>\n",
       "      <td>1.885131e+06</td>\n",
       "      <td>730.0</td>\n",
       "      <td>Current Services Locator</td>\n",
       "      <td>CA</td>\n",
       "      <td>Active</td>\n",
       "      <td>59</td>\n",
       "      <td>www.kaiserpermanente.org</td>\n",
       "      <td>publish</td>\n",
       "      <td>91365</td>\n",
       "    </tr>\n",
       "    <tr>\n",
       "      <th>5</th>\n",
       "      <td>8940</td>\n",
       "      <td>9449 San Fernando Rd.</td>\n",
       "      <td></td>\n",
       "      <td>60.135538</td>\n",
       "      <td>4.0</td>\n",
       "      <td>Health and Mental Health</td>\n",
       "      <td>Hospitals and Medical Centers</td>\n",
       "      <td>911 Receiving</td>\n",
       "      <td>Sun Valley</td>\n",
       "      <td>0.80</td>\n",
       "      <td>...</td>\n",
       "      <td>6.441925e+06</td>\n",
       "      <td>1.910013e+06</td>\n",
       "      <td>637.0</td>\n",
       "      <td>211</td>\n",
       "      <td>CA</td>\n",
       "      <td>Active</td>\n",
       "      <td>166</td>\n",
       "      <td>www.pacificahospital.com</td>\n",
       "      <td>publish</td>\n",
       "      <td>91352</td>\n",
       "    </tr>\n",
       "    <tr>\n",
       "      <th>6</th>\n",
       "      <td>8940</td>\n",
       "      <td>12756 Van Nuys Blvd</td>\n",
       "      <td></td>\n",
       "      <td>60.135538</td>\n",
       "      <td>4.0</td>\n",
       "      <td>Health and Mental Health</td>\n",
       "      <td>Hospitals and Medical Centers</td>\n",
       "      <td></td>\n",
       "      <td>Pacoima</td>\n",
       "      <td>0.80</td>\n",
       "      <td>...</td>\n",
       "      <td>6.437589e+06</td>\n",
       "      <td>1.922409e+06</td>\n",
       "      <td>70599.0</td>\n",
       "      <td>211</td>\n",
       "      <td>CA</td>\n",
       "      <td>Active</td>\n",
       "      <td>218</td>\n",
       "      <td>www.nevhc.org/</td>\n",
       "      <td>publish</td>\n",
       "      <td>91331</td>\n",
       "    </tr>\n",
       "  </tbody>\n",
       "</table>\n",
       "<p>7 rows × 41 columns</p>\n",
       "</div>"
      ],
      "text/plain": [
       "   acres                addrln1 addrln2  analysisarea  buff_dist  \\\n",
       "0  10850                                   112.459570        4.0   \n",
       "1   1080                                    57.433120        4.0   \n",
       "2   8940                                    60.135538        4.0   \n",
       "3   8940      12653 Osborne St.             60.135538        4.0   \n",
       "4   1080      5601 De Soto Ave.             57.433120        4.0   \n",
       "5   8940  9449 San Fernando Rd.             60.135538        4.0   \n",
       "6   8940    12756 Van Nuys Blvd             60.135538        4.0   \n",
       "\n",
       "                       cat1                           cat2           cat3  \\\n",
       "0         Physical Features                   Power Plants                  \n",
       "1  Health and Mental Health  Hospitals and Medical Centers                  \n",
       "2  Health and Mental Health  Hospitals and Medical Centers                  \n",
       "3            Transportation                       Airports                  \n",
       "4  Health and Mental Health  Hospitals and Medical Centers  911 Receiving   \n",
       "5  Health and Mental Health  Hospitals and Medical Centers  911 Receiving   \n",
       "6  Health and Mental Health  Hospitals and Medical Centers                  \n",
       "\n",
       "             city  containmen  ...         point_x       point_y  post_id  \\\n",
       "0                        0.50  ...    6.600384e+06  1.886700e+06  24626.0   \n",
       "1                        0.65  ...    6.369202e+06  1.880309e+06  26620.0   \n",
       "2                        0.80  ...    6.445879e+06  1.924838e+06  27055.0   \n",
       "3         Pacoima        0.80  ...    6.436785e+06  1.916959e+06  13559.0   \n",
       "4  Woodland Hills        0.65  ...    6.383286e+06  1.885131e+06    730.0   \n",
       "5      Sun Valley        0.80  ...    6.441925e+06  1.910013e+06    637.0   \n",
       "6         Pacoima        0.80  ...    6.437589e+06  1.922409e+06  70599.0   \n",
       "\n",
       "                          source state  status target_fid  \\\n",
       "0  HSIP Freedom Gnis_cultural_fe        Active         15   \n",
       "1   HSIP Freedom Gnis_structures        Active         17   \n",
       "2   HSIP Freedom Gnis_structures        Active         48   \n",
       "3       Current Services Locator    CA  Active         57   \n",
       "4       Current Services Locator    CA  Active         59   \n",
       "5                            211    CA  Active        166   \n",
       "6                            211    CA  Active        218   \n",
       "\n",
       "                        url  use_type    zip  \n",
       "0                             publish         \n",
       "1                             publish         \n",
       "2                             publish         \n",
       "3                             publish  91331  \n",
       "4  www.kaiserpermanente.org   publish  91365  \n",
       "5  www.pacificahospital.com   publish  91352  \n",
       "6            www.nevhc.org/   publish  91331  \n",
       "\n",
       "[7 rows x 41 columns]"
      ]
     },
     "execution_count": 18,
     "metadata": {},
     "output_type": "execute_result"
    }
   ],
   "source": [
    "# Let us filter the query such that it only returns the attributes and not the geometries\n",
    "query_results = at_risk_facilities.query(returnGeometry = False)\n",
    "\n",
    "# Let us simplfy the dictionary\n",
    "query_results_att = [q['attributes'] for q in query_results]\n",
    "\n",
    "# Read it as a data frame\n",
    "df1 = pd.DataFrame(query_results_att)\n",
    "df1"
   ]
  },
  {
   "cell_type": "markdown",
   "metadata": {},
   "source": [
    "From the data frame, we can see there are 7 features which fell within the fire buffers. To make this result usable, let us export a CSV with only the facility name and other critical details."
   ]
  },
  {
   "cell_type": "code",
   "execution_count": 19,
   "metadata": {
    "collapsed": false
   },
   "outputs": [
    {
     "data": {
      "text/html": [
       "<div>\n",
       "<table border=\"1\" class=\"dataframe\">\n",
       "  <thead>\n",
       "    <tr style=\"text-align: right;\">\n",
       "      <th></th>\n",
       "      <th>name</th>\n",
       "      <th>cat1</th>\n",
       "      <th>post_id</th>\n",
       "    </tr>\n",
       "  </thead>\n",
       "  <tbody>\n",
       "    <tr>\n",
       "      <th>0</th>\n",
       "      <td>Azusa Powerplant Conduit</td>\n",
       "      <td>Physical Features</td>\n",
       "      <td>24626.0</td>\n",
       "    </tr>\n",
       "    <tr>\n",
       "      <th>1</th>\n",
       "      <td>Motion Picture And Television Fund Hospital</td>\n",
       "      <td>Health and Mental Health</td>\n",
       "      <td>26620.0</td>\n",
       "    </tr>\n",
       "    <tr>\n",
       "      <th>2</th>\n",
       "      <td>Pacoima Memorial Hospital</td>\n",
       "      <td>Health and Mental Health</td>\n",
       "      <td>27055.0</td>\n",
       "    </tr>\n",
       "    <tr>\n",
       "      <th>3</th>\n",
       "      <td>Whiteman Airport</td>\n",
       "      <td>Transportation</td>\n",
       "      <td>13559.0</td>\n",
       "    </tr>\n",
       "    <tr>\n",
       "      <th>4</th>\n",
       "      <td>Kaiser Permanente - Woodland Hills Medical Center</td>\n",
       "      <td>Health and Mental Health</td>\n",
       "      <td>730.0</td>\n",
       "    </tr>\n",
       "    <tr>\n",
       "      <th>5</th>\n",
       "      <td>Pacifica Hospital Of The Valley</td>\n",
       "      <td>Health and Mental Health</td>\n",
       "      <td>637.0</td>\n",
       "    </tr>\n",
       "    <tr>\n",
       "      <th>6</th>\n",
       "      <td>Northeast Valley Health Corporation - Pacoima ...</td>\n",
       "      <td>Health and Mental Health</td>\n",
       "      <td>70599.0</td>\n",
       "    </tr>\n",
       "  </tbody>\n",
       "</table>\n",
       "</div>"
      ],
      "text/plain": [
       "                                                name  \\\n",
       "0                           Azusa Powerplant Conduit   \n",
       "1        Motion Picture And Television Fund Hospital   \n",
       "2                          Pacoima Memorial Hospital   \n",
       "3                                   Whiteman Airport   \n",
       "4  Kaiser Permanente - Woodland Hills Medical Center   \n",
       "5                    Pacifica Hospital Of The Valley   \n",
       "6  Northeast Valley Health Corporation - Pacoima ...   \n",
       "\n",
       "                       cat1  post_id  \n",
       "0         Physical Features  24626.0  \n",
       "1  Health and Mental Health  26620.0  \n",
       "2  Health and Mental Health  27055.0  \n",
       "3            Transportation  13559.0  \n",
       "4  Health and Mental Health    730.0  \n",
       "5  Health and Mental Health    637.0  \n",
       "6  Health and Mental Health  70599.0  "
      ]
     },
     "execution_count": 19,
     "metadata": {},
     "output_type": "execute_result"
    }
   ],
   "source": [
    "df1_simplified = df1[['name', 'cat1', 'post_id']]\n",
    "df1_simplified"
   ]
  },
  {
   "cell_type": "code",
   "execution_count": 20,
   "metadata": {
    "collapsed": false
   },
   "outputs": [],
   "source": [
    "# Export this to a csv file. This CSV can then be shared with fire fighters.\n",
    "csv_file = r'.\\data\\at_risk_facilities.csv'\n",
    "df1_simplified.to_csv(csv_file)"
   ]
  },
  {
   "cell_type": "markdown",
   "metadata": {},
   "source": [
    "## Summary\n",
    "Thus this sample demonstrated how **spatial analysis** can be easily performed using ArcGIS Python API. The first part of the sample showed how **buffers** can be used to expand the boundary of features. The second part showed how **overlay analysis** can be used to perform *point in polygon* search which allowed us to programmatically identify the facilities that fell within the risk zones. Finally the sample showed how other powerful data science libraries such as **pandas** can be used in conjunction with ArcGIS to explore the results.\n",
    "\n",
    "Throught out the sample, the analysis tasks were performed remotely on the ArcGIS server as geoprocessing tasks instead of on the local machine which can greatly speed up the processing time for larger datasets."
   ]
  },
  {
   "cell_type": "code",
   "execution_count": null,
   "metadata": {
    "collapsed": true
   },
   "outputs": [],
   "source": []
  }
 ],
 "metadata": {
  "kernelspec": {
   "display_name": "Python 3",
   "language": "python",
   "name": "python3"
  },
  "language_info": {
   "codemirror_mode": {
    "name": "ipython",
    "version": 3
   },
   "file_extension": ".py",
   "mimetype": "text/x-python",
   "name": "python",
   "nbconvert_exporter": "python",
   "pygments_lexer": "ipython3",
   "version": "3.5.2"
  }
 },
 "nbformat": 4,
 "nbformat_minor": 0
}

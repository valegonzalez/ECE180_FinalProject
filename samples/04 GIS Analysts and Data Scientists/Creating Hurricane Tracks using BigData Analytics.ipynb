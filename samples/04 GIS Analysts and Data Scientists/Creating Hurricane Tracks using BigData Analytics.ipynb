{
 "cells": [
  {
   "cell_type": "markdown",
   "metadata": {},
   "source": [
    "Refer here for instructions to [download and run this sample locally](https://developers.arcgis.com/python/sample-notebooks/#Download-and-run-the-sample-notebooks) on your computer"
   ]
  },
  {
   "cell_type": "markdown",
   "metadata": {},
   "source": [
    "# Creating hurricane tracks using bigdata analytics\n",
    "\n",
    "The sample code below uses big data analytics (GeoAnalytics) to reconstruct hurricane tracks using data registered on a big data file share in the GIS. Note that this functionality is currently available on ArcGIS Enterprise 10.5 and not yet with ArcGIS Online.\n",
    "\n",
    "## Reconstruct tracks\n",
    "Reconstruct tracks is a type of data aggregation tool available under big data tools. This tool works with a layer of point features or polygon features that are time enabled. It first determines which points belong to a track using an identification number or identification string. Using the time at each location, the tracks are ordered sequentially and transformed into a line representing the path of movement.\n",
    "\n",
    "## Data used\n",
    "For this sample, hurricane data from over a period of 50 years, totalling about 150,000 points split into 5 shape files was used. The [National Hurricane Center](http://www.nhc.noaa.gov/gis/) provides similar datasets that can be used for exploratory purposes.\n",
    "\n",
    "To illustrate the nature of the data a subset was published as a feature service and can be visualized as below:"
   ]
  },
  {
   "cell_type": "code",
   "execution_count": 1,
   "metadata": {
    "collapsed": false
   },
   "outputs": [
    {
     "data": {
      "text/html": [
       "<div class=\"item_container\" style=\"height: auto; overflow: hidden; border: 1px solid #cfcfcf; border-radius: 2px; background: #f6fafa; line-height: 1.21429em; padding: 10px;\">\n",
       "                    <div class=\"item_left\" style=\"width: 210px; float: left;\">\n",
       "                       <a href='http://www.arcgis.com/home/item.html?id=8ebd08e3d0c04d249b29afba7a5e1b8f' target='_blank'>\n",
       "                        <img src='http://www.arcgis.com/sharing/rest//content/items/8ebd08e3d0c04d249b29afba7a5e1b8f/info/thumbnail/thumbnail.png' class=\"itemThumbnail\">\n",
       "                       </a>\n",
       "                    </div>\n",
       "\n",
       "                    <div class=\"item_right\"     style=\"float: none; width: auto; overflow: hidden;\">\n",
       "                        <a href='http://www.arcgis.com/home/item.html?id=8ebd08e3d0c04d249b29afba7a5e1b8f' target='_blank'><b>Hurricane_tracks_points</b>\n",
       "                        </a>\n",
       "                        <br>Years 1932 - 1942<img src='http://www.arcgis.com/home/js/jsapi/esri/css/images/item_type_icons/featureshosted16.png' style=\"vertical-align:middle;\">Feature Service by atma.mani\n",
       "                        <br>Last Modified: September 15, 2016\n",
       "                        <br>0 comments, 0 views\n",
       "                    </div>\n",
       "                </div>\n",
       "                "
      ],
      "text/plain": [
       "<Item title:\"Hurricane_tracks_points\" type:Feature Service owner:atma.mani>"
      ]
     },
     "execution_count": 1,
     "metadata": {},
     "output_type": "execute_result"
    }
   ],
   "source": [
    "from arcgis import GIS\n",
    "\n",
    "# Create an anonymous connection to ArcGIS Online\n",
    "ago_gis = GIS()\n",
    "subset_search = ago_gis.content.search(\"Hurricane_tracks_points AND owner:atma.mani\", \"Feature Service\")\n",
    "subset_search[0]"
   ]
  },
  {
   "cell_type": "code",
   "execution_count": 2,
   "metadata": {
    "collapsed": true
   },
   "outputs": [],
   "source": [
    "subset_map = ago_gis.map(\"USA\", zoomlevel = 2)\n",
    "subset_map"
   ]
  },
  {
   "cell_type": "code",
   "execution_count": 3,
   "metadata": {
    "collapsed": true
   },
   "outputs": [],
   "source": [
    "subset_map.add_layer(subset_search[0])"
   ]
  },
  {
   "cell_type": "markdown",
   "metadata": {},
   "source": [
    "## Inspect the data attributes\n",
    "Let us read the subset as a FeatureLayer to view its attribute table"
   ]
  },
  {
   "cell_type": "code",
   "execution_count": 4,
   "metadata": {
    "collapsed": false
   },
   "outputs": [
    {
     "data": {
      "text/html": [
       "<div>\n",
       "<table border=\"1\" class=\"dataframe\">\n",
       "  <thead>\n",
       "    <tr style=\"text-align: right;\">\n",
       "      <th></th>\n",
       "      <th>ATC_eye</th>\n",
       "      <th>ATC_grade</th>\n",
       "      <th>ATC_poci</th>\n",
       "      <th>ATC_pres</th>\n",
       "      <th>ATC_rmw</th>\n",
       "      <th>ATC_roci</th>\n",
       "      <th>ATC_w34_r1</th>\n",
       "      <th>ATC_w34_r2</th>\n",
       "      <th>ATC_w34_r3</th>\n",
       "      <th>ATC_w34_r4</th>\n",
       "      <th>...</th>\n",
       "      <th>basin_1</th>\n",
       "      <th>day</th>\n",
       "      <th>hour</th>\n",
       "      <th>min_</th>\n",
       "      <th>month</th>\n",
       "      <th>wmo_pres</th>\n",
       "      <th>wmo_pres__</th>\n",
       "      <th>wmo_wind</th>\n",
       "      <th>wmo_wind__</th>\n",
       "      <th>year</th>\n",
       "    </tr>\n",
       "  </thead>\n",
       "  <tbody>\n",
       "    <tr>\n",
       "      <th>0</th>\n",
       "      <td>-999</td>\n",
       "      <td>-999.</td>\n",
       "      <td>-999</td>\n",
       "      <td>-999</td>\n",
       "      <td>-999</td>\n",
       "      <td>-999</td>\n",
       "      <td>-999</td>\n",
       "      <td>-999</td>\n",
       "      <td>-999</td>\n",
       "      <td>-999</td>\n",
       "      <td>...</td>\n",
       "      <td>SI</td>\n",
       "      <td>1</td>\n",
       "      <td>0</td>\n",
       "      <td>0</td>\n",
       "      <td>1</td>\n",
       "      <td>-999</td>\n",
       "      <td>-999</td>\n",
       "      <td>-999</td>\n",
       "      <td>-999</td>\n",
       "      <td>1932</td>\n",
       "    </tr>\n",
       "    <tr>\n",
       "      <th>1</th>\n",
       "      <td>-999</td>\n",
       "      <td>-999.</td>\n",
       "      <td>-999</td>\n",
       "      <td>-999</td>\n",
       "      <td>-999</td>\n",
       "      <td>-999</td>\n",
       "      <td>-999</td>\n",
       "      <td>-999</td>\n",
       "      <td>-999</td>\n",
       "      <td>-999</td>\n",
       "      <td>...</td>\n",
       "      <td>SI</td>\n",
       "      <td>1</td>\n",
       "      <td>6</td>\n",
       "      <td>0</td>\n",
       "      <td>1</td>\n",
       "      <td>0</td>\n",
       "      <td>-100</td>\n",
       "      <td>0</td>\n",
       "      <td>-100</td>\n",
       "      <td>1932</td>\n",
       "    </tr>\n",
       "    <tr>\n",
       "      <th>2</th>\n",
       "      <td>-999</td>\n",
       "      <td>-999.</td>\n",
       "      <td>-999</td>\n",
       "      <td>-999</td>\n",
       "      <td>-999</td>\n",
       "      <td>-999</td>\n",
       "      <td>-999</td>\n",
       "      <td>-999</td>\n",
       "      <td>-999</td>\n",
       "      <td>-999</td>\n",
       "      <td>...</td>\n",
       "      <td>SI</td>\n",
       "      <td>1</td>\n",
       "      <td>12</td>\n",
       "      <td>0</td>\n",
       "      <td>1</td>\n",
       "      <td>-999</td>\n",
       "      <td>-999</td>\n",
       "      <td>-999</td>\n",
       "      <td>-999</td>\n",
       "      <td>1932</td>\n",
       "    </tr>\n",
       "    <tr>\n",
       "      <th>3</th>\n",
       "      <td>-999</td>\n",
       "      <td>-999.</td>\n",
       "      <td>-999</td>\n",
       "      <td>-999</td>\n",
       "      <td>-999</td>\n",
       "      <td>-999</td>\n",
       "      <td>-999</td>\n",
       "      <td>-999</td>\n",
       "      <td>-999</td>\n",
       "      <td>-999</td>\n",
       "      <td>...</td>\n",
       "      <td>SI</td>\n",
       "      <td>1</td>\n",
       "      <td>18</td>\n",
       "      <td>0</td>\n",
       "      <td>1</td>\n",
       "      <td>-999</td>\n",
       "      <td>-999</td>\n",
       "      <td>-999</td>\n",
       "      <td>-999</td>\n",
       "      <td>1932</td>\n",
       "    </tr>\n",
       "  </tbody>\n",
       "</table>\n",
       "<p>4 rows × 147 columns</p>\n",
       "</div>"
      ],
      "text/plain": [
       "   ATC_eye ATC_grade  ATC_poci  ATC_pres  ATC_rmw  ATC_roci  ATC_w34_r1  \\\n",
       "0     -999     -999.      -999      -999     -999      -999        -999   \n",
       "1     -999     -999.      -999      -999     -999      -999        -999   \n",
       "2     -999     -999.      -999      -999     -999      -999        -999   \n",
       "3     -999     -999.      -999      -999     -999      -999        -999   \n",
       "\n",
       "   ATC_w34_r2  ATC_w34_r3  ATC_w34_r4  ...   basin_1  day  hour  min_  month  \\\n",
       "0        -999        -999        -999  ...        SI    1     0     0      1   \n",
       "1        -999        -999        -999  ...        SI    1     6     0      1   \n",
       "2        -999        -999        -999  ...        SI    1    12     0      1   \n",
       "3        -999        -999        -999  ...        SI    1    18     0      1   \n",
       "\n",
       "   wmo_pres  wmo_pres__  wmo_wind  wmo_wind__  year  \n",
       "0      -999        -999      -999        -999  1932  \n",
       "1         0        -100         0        -100  1932  \n",
       "2      -999        -999      -999        -999  1932  \n",
       "3      -999        -999      -999        -999  1932  \n",
       "\n",
       "[4 rows x 147 columns]"
      ]
     },
     "execution_count": 4,
     "metadata": {},
     "output_type": "execute_result"
    }
   ],
   "source": [
    "from pandas.io.json import json_normalize\n",
    "\n",
    "subset_FL = subset_search[0].layers[0]\n",
    "\n",
    "query_result = subset_FL.query(where ='FID < 5', \n",
    "                                out_fields = \"*\", \n",
    "                                returnGeometry = False)\n",
    "\n",
    "att_data_frame = json_normalize(query_result)\n",
    "att_data_frame.columns = att_data_frame.columns.str.replace(\"attributes.\",\"\")\n",
    "att_data_frame"
   ]
  },
  {
   "cell_type": "markdown",
   "metadata": {},
   "source": [
    "## Create a data store\n",
    "For the GeoAnalytics server to process your big data, it needs the data to be registered as a data store. In our case, the data is in multiple shape files and we will register the folder containing the files as a data store of type `bigDataFileShare`.\n",
    "\n",
    "Let us connect to an ArcGIS Enterprise"
   ]
  },
  {
   "cell_type": "code",
   "execution_count": 5,
   "metadata": {
    "collapsed": true
   },
   "outputs": [],
   "source": [
    "gis = GIS(\"portal or org url\",\"username\",\"password\")"
   ]
  },
  {
   "cell_type": "markdown",
   "metadata": {},
   "source": [
    "The datastore property of GIS provides you with a DatastoreManager object. This object allows you to query, inspect and manipulate the [datastores](http://server.arcgis.com/en/portal/latest/administer/windows/what-is-arcgis-data-store.htm) available to your ArcGIS Server."
   ]
  },
  {
   "cell_type": "code",
   "execution_count": 6,
   "metadata": {
    "collapsed": false
   },
   "outputs": [
    {
     "data": {
      "text/plain": [
       "[<Datastore title:\"/bigDataFileShares/Fortune_500\" type:\"bigDataFileShare\">,\n",
       " <Datastore title:\"/bigDataFileShares/NYCdata\" type:\"bigDataFileShare\">,\n",
       " <Datastore title:\"/enterpriseDatabases/AGSDataStore_ds_t6qywzm8\" type:\"egdb\">,\n",
       " <Datastore title:\"/fileShares/_raster_store\" type:\"folder\">,\n",
       " <Datastore title:\"/nosqlDatabases/AGSDataStore_bigdata_bds_jn7cdee2\" type:\"nosql\">,\n",
       " <Datastore title:\"/nosqlDatabases/AGSDataStore_nosqldb_tcs_5p0kacid\" type:\"nosql\">]"
      ]
     },
     "execution_count": 6,
     "metadata": {},
     "output_type": "execute_result"
    }
   ],
   "source": [
    "# Query the data stores available\n",
    "data_mgr = gis.datastore\n",
    "data_mgr.search()"
   ]
  },
  {
   "cell_type": "markdown",
   "metadata": {},
   "source": [
    "There is no big data file share for hurricane track data registered on the server. So let us register one that points to the shared folder containing the shape files."
   ]
  },
  {
   "cell_type": "code",
   "execution_count": 7,
   "metadata": {
    "collapsed": false
   },
   "outputs": [
    {
     "name": "stdout",
     "output_type": "stream",
     "text": [
      "Created Big Data file share for Hurricane_tracks\n"
     ]
    }
   ],
   "source": [
    "data_item = data_mgr.add_bigdata(\"Hurricane_tracks\",\n",
    "                                 r\"\\\\path_to_hurricane_data\")"
   ]
  },
  {
   "cell_type": "markdown",
   "metadata": {},
   "source": [
    "Once a big data file share is created, the GeoAnalytics server processes all the valid file types to discern the schema of the data. This process can take a few minutes depending on the size of your data. Once processed, querying the manifest property returns the schema. As you can see from below, the schema is similar to the subset we observed earlier in this sample."
   ]
  },
  {
   "cell_type": "code",
   "execution_count": 8,
   "metadata": {
    "collapsed": false
   },
   "outputs": [
    {
     "data": {
      "text/plain": [
       "{'format': {'extension': 'shp', 'type': 'shapefile'},\n",
       " 'geometry': {'geometryType': 'esriGeometryPoint',\n",
       "  'spatialReference': {'wkid': 4326}},\n",
       " 'name': 'h1842_92',\n",
       " 'schema': {'fields': [{'name': 'Serial_Num', 'type': 'esriFieldTypeString'},\n",
       "   {'name': 'Season', 'type': 'esriFieldTypeInteger'},\n",
       "   {'name': 'Num', 'type': 'esriFieldTypeBigInteger'},\n",
       "   {'name': 'Basin', 'type': 'esriFieldTypeString'},\n",
       "   {'name': 'Sub_basin', 'type': 'esriFieldTypeString'},\n",
       "   {'name': 'Name', 'type': 'esriFieldTypeString'},\n",
       "   {'name': 'ISO_time', 'type': 'esriFieldTypeString'},\n",
       "   {'name': 'Nature', 'type': 'esriFieldTypeString'},\n",
       "   {'name': 'wmo_wind', 'type': 'esriFieldTypeSingle'},\n",
       "   {'name': 'wmo_pres', 'type': 'esriFieldTypeSingle'},\n",
       "   {'name': 'Center', 'type': 'esriFieldTypeString'},\n",
       "   {'name': 'wmo_wind__', 'type': 'esriFieldTypeSingle'},\n",
       "   {'name': 'wmo_pres__', 'type': 'esriFieldTypeSingle'},\n",
       "   {'name': 'Track_type', 'type': 'esriFieldTypeString'},\n",
       "   {'name': 'basin_1', 'type': 'esriFieldTypeString'},\n",
       "   {'name': 'HDA_grade', 'type': 'esriFieldTypeString'},\n",
       "   {'name': 'HDA_wind', 'type': 'esriFieldTypeSingle'},\n",
       "   {'name': 'HDA_pres', 'type': 'esriFieldTypeSingle'},\n",
       "   {'name': 'TD9_grade', 'type': 'esriFieldTypeString'},\n",
       "   {'name': 'TD9_wind', 'type': 'esriFieldTypeSingle'},\n",
       "   {'name': 'TD9_pres', 'type': 'esriFieldTypeSingle'},\n",
       "   {'name': 'REU_grade', 'type': 'esriFieldTypeString'},\n",
       "   {'name': 'REU_wind', 'type': 'esriFieldTypeSingle'},\n",
       "   {'name': 'REU_pres', 'type': 'esriFieldTypeSingle'},\n",
       "   {'name': 'ATC_grade', 'type': 'esriFieldTypeString'},\n",
       "   {'name': 'ATC_wind', 'type': 'esriFieldTypeSingle'},\n",
       "   {'name': 'ATC_pres', 'type': 'esriFieldTypeSingle'},\n",
       "   {'name': 'DSS_grade', 'type': 'esriFieldTypeString'},\n",
       "   {'name': 'DSS_wind', 'type': 'esriFieldTypeSingle'},\n",
       "   {'name': 'DSS_pres', 'type': 'esriFieldTypeSingle'},\n",
       "   {'name': 'DSI_grade', 'type': 'esriFieldTypeString'},\n",
       "   {'name': 'DSI_wind', 'type': 'esriFieldTypeSingle'},\n",
       "   {'name': 'DSI_pres', 'type': 'esriFieldTypeSingle'},\n",
       "   {'name': 'BOM_grade', 'type': 'esriFieldTypeString'},\n",
       "   {'name': 'BOM_wind', 'type': 'esriFieldTypeSingle'},\n",
       "   {'name': 'BOM_pres', 'type': 'esriFieldTypeSingle'},\n",
       "   {'name': 'DSA_grade', 'type': 'esriFieldTypeString'},\n",
       "   {'name': 'DSA_wind', 'type': 'esriFieldTypeSingle'},\n",
       "   {'name': 'DSA_pres', 'type': 'esriFieldTypeSingle'},\n",
       "   {'name': 'JTS_grade', 'type': 'esriFieldTypeString'},\n",
       "   {'name': 'JTS_wind', 'type': 'esriFieldTypeSingle'},\n",
       "   {'name': 'JTS_pres', 'type': 'esriFieldTypeSingle'},\n",
       "   {'name': 'JTW_grade', 'type': 'esriFieldTypeString'},\n",
       "   {'name': 'JTW_wind', 'type': 'esriFieldTypeSingle'},\n",
       "   {'name': 'JTW_pres', 'type': 'esriFieldTypeSingle'},\n",
       "   {'name': 'TD5_grade', 'type': 'esriFieldTypeString'},\n",
       "   {'name': 'TD5_wind', 'type': 'esriFieldTypeSingle'},\n",
       "   {'name': 'TD5_pres', 'type': 'esriFieldTypeSingle'},\n",
       "   {'name': 'DSW_grade', 'type': 'esriFieldTypeString'},\n",
       "   {'name': 'DSW_wind', 'type': 'esriFieldTypeSingle'},\n",
       "   {'name': 'DSW_pres', 'type': 'esriFieldTypeSingle'},\n",
       "   {'name': 'JTI_grade', 'type': 'esriFieldTypeString'},\n",
       "   {'name': 'JTI_wind', 'type': 'esriFieldTypeSingle'},\n",
       "   {'name': 'JTI_pres', 'type': 'esriFieldTypeSingle'},\n",
       "   {'name': 'CMA_grade', 'type': 'esriFieldTypeString'},\n",
       "   {'name': 'CMA_wind', 'type': 'esriFieldTypeSingle'},\n",
       "   {'name': 'CMA_pres', 'type': 'esriFieldTypeSingle'},\n",
       "   {'name': 'HDE_grade', 'type': 'esriFieldTypeString'},\n",
       "   {'name': 'HDE_wind', 'type': 'esriFieldTypeSingle'},\n",
       "   {'name': 'HDE_pres', 'type': 'esriFieldTypeSingle'},\n",
       "   {'name': 'JTE_grade', 'type': 'esriFieldTypeString'},\n",
       "   {'name': 'JTE_wind', 'type': 'esriFieldTypeSingle'},\n",
       "   {'name': 'JTE_pres', 'type': 'esriFieldTypeSingle'},\n",
       "   {'name': 'DSE_grade', 'type': 'esriFieldTypeString'},\n",
       "   {'name': 'DSE_wind', 'type': 'esriFieldTypeSingle'},\n",
       "   {'name': 'DSE_pres', 'type': 'esriFieldTypeSingle'},\n",
       "   {'name': 'JTC_grade', 'type': 'esriFieldTypeString'},\n",
       "   {'name': 'JTC_wind', 'type': 'esriFieldTypeSingle'},\n",
       "   {'name': 'JTC_pres', 'type': 'esriFieldTypeSingle'},\n",
       "   {'name': 'JMA_grade', 'type': 'esriFieldTypeString'},\n",
       "   {'name': 'JMA_wind', 'type': 'esriFieldTypeSingle'},\n",
       "   {'name': 'JMA_pres', 'type': 'esriFieldTypeSingle'},\n",
       "   {'name': 'NEU_grade', 'type': 'esriFieldTypeString'},\n",
       "   {'name': 'NEU_wind', 'type': 'esriFieldTypeSingle'},\n",
       "   {'name': 'NEU_pres', 'type': 'esriFieldTypeSingle'},\n",
       "   {'name': 'HKO_grade', 'type': 'esriFieldTypeString'},\n",
       "   {'name': 'HKO_wind', 'type': 'esriFieldTypeSingle'},\n",
       "   {'name': 'HKO_pres', 'type': 'esriFieldTypeSingle'},\n",
       "   {'name': 'CPH_grade', 'type': 'esriFieldTypeString'},\n",
       "   {'name': 'CPH_wind', 'type': 'esriFieldTypeSingle'},\n",
       "   {'name': 'CPH_pres', 'type': 'esriFieldTypeSingle'},\n",
       "   {'name': 'NZ_grade', 'type': 'esriFieldTypeString'},\n",
       "   {'name': 'NZ_wind', 'type': 'esriFieldTypeSingle'},\n",
       "   {'name': 'NZ_pres', 'type': 'esriFieldTypeSingle'},\n",
       "   {'name': 'IMD_grade', 'type': 'esriFieldTypeString'},\n",
       "   {'name': 'IMD_wind', 'type': 'esriFieldTypeSingle'},\n",
       "   {'name': 'IMD_pres', 'type': 'esriFieldTypeSingle'},\n",
       "   {'name': 'NAD_grade', 'type': 'esriFieldTypeString'},\n",
       "   {'name': 'NAD_wind', 'type': 'esriFieldTypeSingle'},\n",
       "   {'name': 'NAD_pres', 'type': 'esriFieldTypeSingle'},\n",
       "   {'name': 'REU_rmw', 'type': 'esriFieldTypeBigInteger'},\n",
       "   {'name': 'REU_wr1_ne', 'type': 'esriFieldTypeBigInteger'},\n",
       "   {'name': 'REU_wr1_se', 'type': 'esriFieldTypeBigInteger'},\n",
       "   {'name': 'REU_wr1_sw', 'type': 'esriFieldTypeBigInteger'},\n",
       "   {'name': 'REU_wr1_nw', 'type': 'esriFieldTypeBigInteger'},\n",
       "   {'name': 'REU_wr2_ne', 'type': 'esriFieldTypeBigInteger'},\n",
       "   {'name': 'REU_wr2_se', 'type': 'esriFieldTypeBigInteger'},\n",
       "   {'name': 'REU_wr2_sw', 'type': 'esriFieldTypeBigInteger'},\n",
       "   {'name': 'REU_wr2_nw', 'type': 'esriFieldTypeBigInteger'},\n",
       "   {'name': 'BOM_hurrad', 'type': 'esriFieldTypeBigInteger'},\n",
       "   {'name': 'BOM_galrad', 'type': 'esriFieldTypeBigInteger'},\n",
       "   {'name': 'BOM_eye', 'type': 'esriFieldTypeBigInteger'},\n",
       "   {'name': 'BOM_roci', 'type': 'esriFieldTypeBigInteger'},\n",
       "   {'name': 'ATC_rmw', 'type': 'esriFieldTypeBigInteger'},\n",
       "   {'name': 'ATC_poci', 'type': 'esriFieldTypeBigInteger'},\n",
       "   {'name': 'ATC_roci', 'type': 'esriFieldTypeBigInteger'},\n",
       "   {'name': 'ATC_eye', 'type': 'esriFieldTypeBigInteger'},\n",
       "   {'name': 'ATC_w34_r1', 'type': 'esriFieldTypeBigInteger'},\n",
       "   {'name': 'ATC_w34_r2', 'type': 'esriFieldTypeBigInteger'},\n",
       "   {'name': 'ATC_w34_r3', 'type': 'esriFieldTypeBigInteger'},\n",
       "   {'name': 'ATC_w34_r4', 'type': 'esriFieldTypeBigInteger'},\n",
       "   {'name': 'ATC_w50_r1', 'type': 'esriFieldTypeBigInteger'},\n",
       "   {'name': 'ATC_w50_r2', 'type': 'esriFieldTypeBigInteger'},\n",
       "   {'name': 'ATC_w50_r3', 'type': 'esriFieldTypeBigInteger'},\n",
       "   {'name': 'ATC_w50_r4', 'type': 'esriFieldTypeBigInteger'},\n",
       "   {'name': 'ATC_w64_r1', 'type': 'esriFieldTypeBigInteger'},\n",
       "   {'name': 'ATC_w64_r2', 'type': 'esriFieldTypeBigInteger'},\n",
       "   {'name': 'ATC_w64_r3', 'type': 'esriFieldTypeBigInteger'},\n",
       "   {'name': 'ATC_w64_r4', 'type': 'esriFieldTypeBigInteger'},\n",
       "   {'name': 'JMA_dir50', 'type': 'esriFieldTypeBigInteger'},\n",
       "   {'name': 'JMA_long50', 'type': 'esriFieldTypeBigInteger'},\n",
       "   {'name': 'JMA_shrt50', 'type': 'esriFieldTypeBigInteger'},\n",
       "   {'name': 'JMA_dir30', 'type': 'esriFieldTypeBigInteger'},\n",
       "   {'name': 'JMA_long30', 'type': 'esriFieldTypeBigInteger'},\n",
       "   {'name': 'JMA_shrt30', 'type': 'esriFieldTypeBigInteger'},\n",
       "   {'name': 'JTX_rmw', 'type': 'esriFieldTypeBigInteger'},\n",
       "   {'name': 'JTX_poci', 'type': 'esriFieldTypeBigInteger'},\n",
       "   {'name': 'JTX_roci', 'type': 'esriFieldTypeBigInteger'},\n",
       "   {'name': 'JTX_eye', 'type': 'esriFieldTypeBigInteger'},\n",
       "   {'name': 'JTX_w34_r1', 'type': 'esriFieldTypeBigInteger'},\n",
       "   {'name': 'JTX_w34_r2', 'type': 'esriFieldTypeBigInteger'},\n",
       "   {'name': 'JTX_w34_r3', 'type': 'esriFieldTypeBigInteger'},\n",
       "   {'name': 'JTX_w34_r4', 'type': 'esriFieldTypeBigInteger'},\n",
       "   {'name': 'JTX_w50_r1', 'type': 'esriFieldTypeBigInteger'},\n",
       "   {'name': 'JTX_w50_r2', 'type': 'esriFieldTypeBigInteger'},\n",
       "   {'name': 'JTX_w50_r3', 'type': 'esriFieldTypeBigInteger'},\n",
       "   {'name': 'JTX_w50_r4', 'type': 'esriFieldTypeBigInteger'},\n",
       "   {'name': 'JTX_w64_r1', 'type': 'esriFieldTypeBigInteger'},\n",
       "   {'name': 'JTX_w64_r2', 'type': 'esriFieldTypeBigInteger'},\n",
       "   {'name': 'JTX_w64_r3', 'type': 'esriFieldTypeBigInteger'},\n",
       "   {'name': 'JTX_w64_r4', 'type': 'esriFieldTypeBigInteger'},\n",
       "   {'name': 'year', 'type': 'esriFieldTypeInteger'},\n",
       "   {'name': 'month', 'type': 'esriFieldTypeInteger'},\n",
       "   {'name': 'day', 'type': 'esriFieldTypeInteger'},\n",
       "   {'name': 'hour', 'type': 'esriFieldTypeInteger'},\n",
       "   {'name': 'min', 'type': 'esriFieldTypeInteger'}]},\n",
       " 'time': {'fields': [{'formats': ['yyyy-MM-dd HH:mm:ss'], 'name': 'ISO_time'}],\n",
       "  'timeReference': {'timeZone': 'UTC'},\n",
       "  'timeType': 'instant'}}"
      ]
     },
     "metadata": {},
     "output_type": "display_data"
    }
   ],
   "source": [
    "from IPython.display import display\n",
    "display(data_item.manifest['datasets'][0]) #for brevity only a portion is printed"
   ]
  },
  {
   "cell_type": "markdown",
   "metadata": {},
   "source": [
    "## Perform data aggregation using reconstruct tracks tool\n",
    "When you add a big data file share datastore, a corresponding item gets created on your portal. You can search for it like a regular item and query its layers."
   ]
  },
  {
   "cell_type": "code",
   "execution_count": 9,
   "metadata": {
    "collapsed": false
   },
   "outputs": [
    {
     "data": {
      "text/plain": [
       "[<Item title:\"bigDataFileShares_NYCdata\" type:Big Data File Share owner:Admin>,\n",
       " <Item title:\"bigDataFileShares_Hurricane_tracks\" type:Big Data File Share owner:Admin>,\n",
       " <Item title:\"bigDataFileShares_Fortune_500\" type:Big Data File Share owner:Admin>]"
      ]
     },
     "execution_count": 9,
     "metadata": {},
     "output_type": "execute_result"
    }
   ],
   "source": [
    "search_result = gis.content.search(\"\", item_type = \"big data file share\")\n",
    "search_result"
   ]
  },
  {
   "cell_type": "code",
   "execution_count": 10,
   "metadata": {
    "collapsed": false
   },
   "outputs": [
    {
     "data": {
      "text/plain": [
       "'https://portalname.domain.com/server/rest/services/DataStoreCatalogs/bigDataFileShares_Hurricane_tracks/BigDataCatalogServer'"
      ]
     },
     "execution_count": 10,
     "metadata": {},
     "output_type": "execute_result"
    }
   ],
   "source": [
    "data_item = search_result[1]\n",
    "data_item.url"
   ]
  },
  {
   "cell_type": "code",
   "execution_count": 11,
   "metadata": {
    "collapsed": false
   },
   "outputs": [
    {
     "data": {
      "text/plain": [
       "<Layer url:\"https://portalname.domain.com/server/rest/services/DataStoreCatalogs/bigDataFileShares_Hurricane_tracks/BigDataCatalogServer/h1842_92\">"
      ]
     },
     "execution_count": 11,
     "metadata": {},
     "output_type": "execute_result"
    }
   ],
   "source": [
    "years_50 = data_item.layers[0]\n",
    "years_50"
   ]
  },
  {
   "cell_type": "markdown",
   "metadata": {},
   "source": [
    "### Reconstruct tracks tool\n",
    "\n",
    "The `reconstruct_tracks()` tool can be accessed through the tools.bigdata property of your GIS. In this example, we are using this tool to aggregate the numerous points into line segments showing the tracks followed by the hurricanes. The tool creates a feature service as an output which can be accessed once the processing is complete."
   ]
  },
  {
   "cell_type": "code",
   "execution_count": 12,
   "metadata": {
    "collapsed": false
   },
   "outputs": [
    {
     "name": "stdout",
     "output_type": "stream",
     "text": [
      "Submitted.\n",
      "Executing...\n",
      "Executing (ReconstructTracks): ReconstructTracks \"Feature Set\" Serial_Num GEODESIC # # # # {\"itemProperties\":{\"itemId\":\"0f614d26acb3481fa34f62f1dda0be63\"},\"serviceProperties\":{\"serviceUrl\":\"http://portalname.domain.com/server/rest/services/Hosted/hurricane_tracks_agg_result/FeatureServer\",\"name\":\"hurricane_tracks_agg_result\"}} # # GDB #\n",
      "Start Time: Thu Sep 15 22:43:45 2016\n",
      "Using URL based GPRecordSet param: https://portalname.domain.com/server/rest/services/DataStoreCatalogs/bigDataFileShares_Hurricane_tracks/BigDataCatalogServer/h1842_92\n",
      "Starting new distributed job with 7 tasks.\n",
      "1/7 distributed tasks completed.\n",
      "5/7 distributed tasks completed.\n",
      "7/7 distributed tasks completed.\n",
      "Finished writing\n",
      "  extent = Some(Envelope: [-103.0, -38.529998779296875, 109.0999984741211, 55.0])\n",
      "  interval = Some(Interval(MutableInstant(1842-10-25 06:00:00.000),MutableInstant(1882-11-30 06:00:00.000)))\n",
      "  count = 618\n"
     ]
    }
   ],
   "source": [
    "agg_result = gis.tools.bigdata.reconstruct_tracks(years_50,\n",
    "                                                 track_fields = 'Serial_Num',\n",
    "                                                 output_name = 'hurricane_tracks_agg_result',\n",
    "                                                 method = 'GEODESIC')"
   ]
  },
  {
   "cell_type": "markdown",
   "metadata": {},
   "source": [
    "## Inspect the results\n",
    "Let us create a map and load the processed result which is a feature service"
   ]
  },
  {
   "cell_type": "code",
   "execution_count": 13,
   "metadata": {
    "collapsed": true
   },
   "outputs": [],
   "source": [
    "processed_map = gis.map(\"USA\", zoomlevel = 2)\n",
    "processed_map"
   ]
  },
  {
   "cell_type": "code",
   "execution_count": 14,
   "metadata": {
    "collapsed": false
   },
   "outputs": [
    {
     "data": {
      "text/plain": [
       "[<Item title:\"hurricane_tracks_agg_result\" type:Feature Service owner:Admin>]"
      ]
     },
     "execution_count": 14,
     "metadata": {},
     "output_type": "execute_result"
    }
   ],
   "source": [
    "sr = gis.content.search(\"hurricane_tracks_agg_result\")\n",
    "sr"
   ]
  },
  {
   "cell_type": "code",
   "execution_count": 15,
   "metadata": {
    "collapsed": true
   },
   "outputs": [],
   "source": [
    "processed_map.add_layer(sr[0])"
   ]
  },
  {
   "cell_type": "markdown",
   "metadata": {},
   "source": [
    "Thus we transformed a bunch of ponints into tracks that represents paths taken by the hurricanes over a period of 50 years. We can pull up another map and inspect the results a bit more closely"
   ]
  },
  {
   "cell_type": "code",
   "execution_count": 16,
   "metadata": {
    "collapsed": true
   },
   "outputs": [],
   "source": [
    "map2 = gis.map('USA', zoomlevel = 2)\n",
    "map2"
   ]
  },
  {
   "cell_type": "code",
   "execution_count": 17,
   "metadata": {
    "collapsed": false
   },
   "outputs": [
    {
     "data": {
      "text/plain": [
       "<FeatureLayer url:\"http://portalname.domain.com/server/rest/services/Hosted/hurricane_tracks_agg_result/FeatureServer/0\">"
      ]
     },
     "execution_count": 17,
     "metadata": {},
     "output_type": "execute_result"
    }
   ],
   "source": [
    "tracks_layer = sr[0].layers[0]\n",
    "tracks_layer"
   ]
  },
  {
   "cell_type": "code",
   "execution_count": 18,
   "metadata": {
    "collapsed": false
   },
   "outputs": [],
   "source": [
    "map2.add_layer(tracks_layer)"
   ]
  },
  {
   "cell_type": "markdown",
   "metadata": {},
   "source": [
    "Our input data and the map widget is time enabled. Thus we can filter the data to represent the tracks from only the years 1852 to 1860"
   ]
  },
  {
   "cell_type": "code",
   "execution_count": 19,
   "metadata": {
    "collapsed": true
   },
   "outputs": [],
   "source": [
    "map2.start_time = '1852'\n",
    "map2.end_time = '1860'"
   ]
  },
  {
   "cell_type": "markdown",
   "metadata": {},
   "source": [
    "## What can big data tools do for you?\n",
    "\n",
    "With this sample we just scratched the surface of what big data analysis can do for you. ArcGIS Enterprise at 10.5 packs a powerful set of tools that let you derive a lot of value from your data. You can do so by asking the right questions, for instance, a weather dataset such as this could be used to answer a few interesting questions such as\n",
    " \n",
    " - did the number of hurricanes per season increase over the years?\n",
    " - give me the hurricanes that travelled longest distance\n",
    " - give me the ones that stayed for longest time. Do we see a trend?\n",
    " - how are wind speed and distance travelled correlated?\n",
    " - my assets are located in a tornado corridor. How many times in the past century, was there a hurricane within 50 miles from my assets?\n",
    " - my industry is dependent on tourism, which is heavily impacted by the vagaries of weather. From historical weather data, can I correlate my profits with major weather events? How well is my business insulated from freak weather events?\n",
    " - over the years do we see any shifts in major weather events - do we notice a shift in when the hurricane season starts?\n",
    " \n",
    "The ArcGIS Python API gives you a gateway to easily access the big data tools from your ArcGIS Enterprise. By combining it with other powerful libraries from the pandas and scipy stack and the rich visualization capabilities of the Jupyter notebook, you can extract a lot of value from your data, big or small."
   ]
  }
 ],
 "metadata": {
  "kernelspec": {
   "display_name": "Python 3",
   "language": "python",
   "name": "python3"
  },
  "language_info": {
   "codemirror_mode": {
    "name": "ipython",
    "version": 3
   },
   "file_extension": ".py",
   "mimetype": "text/x-python",
   "name": "python",
   "nbconvert_exporter": "python",
   "pygments_lexer": "ipython3",
   "version": "3.5.2"
  }
 },
 "nbformat": 4,
 "nbformat_minor": 0
}

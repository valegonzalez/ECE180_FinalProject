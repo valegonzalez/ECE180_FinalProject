{
 "cells": [
  {
   "cell_type": "markdown",
   "metadata": {},
   "source": [
    "Refer here for instructions to [download and run this sample locally](https://developers.arcgis.com/python/sample-notebooks/#Download-and-run-the-sample-notebooks) on your computer"
   ]
  },
  {
   "cell_type": "markdown",
   "metadata": {},
   "source": [
    "# Publishing web maps and web scenes\n",
    "\n",
    "An ArcGIS web map is an interactive display of geographic information through a composition of web layers, basemap and much more. A web scene is analogous to a web map but in the 3D space. To get and overview, visit the product documentation for [web maps](http://doc.arcgis.com/en/arcgis-online/reference/what-is-web-map.htm) and [web scenes](http://doc.arcgis.com/en/arcgis-online/reference/what-is-web-scene.htm).\n",
    "\n",
    "Web maps and scenes are stored as items on your portal and their content is in JavaScript Object Notation (JSON), a text format that can easily be transferred, stored, and edited. This sample demonstrates how to create and publish simple examples of web maps and scenes. If you are interested in learning more about the specification to author and publish complex and more illustrative maps, refer to this [documentation](https://developers.arcgis.com/web-map-specification/)."
   ]
  },
  {
   "cell_type": "code",
   "execution_count": 1,
   "metadata": {
    "collapsed": true
   },
   "outputs": [],
   "source": [
    "import os\n",
    "import json\n",
    "from IPython.display import display\n",
    "from arcgis import GIS\n",
    "import arcgis.viz\n",
    "\n",
    "# connect to your GIS\n",
    "gis = GIS(\"portal or org url\",\"username\",\"password\")"
   ]
  },
  {
   "cell_type": "markdown",
   "metadata": {},
   "source": [
    "# Publish a web map\n",
    "For this sample, we will read a simple web map json from a text file and use that to publish a web map item."
   ]
  },
  {
   "cell_type": "code",
   "execution_count": 2,
   "metadata": {
    "collapsed": false
   },
   "outputs": [
    {
     "data": {
      "text/plain": [
       "{'baseMap': {'baseMapLayers': [{'id': 'defaultBasemap',\n",
       "    'layerType': 'ArcGISTiledMapServiceLayer',\n",
       "    'opacity': 1,\n",
       "    'title': 'World Topographic Map',\n",
       "    'url': 'https://services.arcgisonline.com/ArcGIS/rest/services/World_Topo_Map/MapServer',\n",
       "    'visibility': True}],\n",
       "  'title': 'Topographic'},\n",
       " 'operationalLayers': [{'itemId': '',\n",
       "   'layerType': '',\n",
       "   'opacity': 1,\n",
       "   'title': '',\n",
       "   'url': '',\n",
       "   'visibility': True}],\n",
       " 'spatialReference': {'latestWkid': 3857, 'wkid': 102100},\n",
       " 'version': '2.5'}"
      ]
     },
     "metadata": {},
     "output_type": "display_data"
    }
   ],
   "source": [
    "# Read sample web map json from text file. We use built in json module to parse it into a Python dictionary\n",
    "web_map_dict = dict()\n",
    "with open(\"./data/web_map_simple.json\",\"r\") as file_handle:\n",
    "    web_map_dict = json.load(file_handle)\n",
    "\n",
    "display(web_map_dict)"
   ]
  },
  {
   "cell_type": "markdown",
   "metadata": {},
   "source": [
    "The above represents a template of a simple web map json. This web map consists of a basemap web layer and an array of operational web layers. Notice the opertaional layer is empty without any web layer urls. We will search for a public web layer titled **2012 USA Median Age** published by **esri** account and apply that as an operational layer for this web map."
   ]
  },
  {
   "cell_type": "code",
   "execution_count": 3,
   "metadata": {
    "collapsed": true
   },
   "outputs": [],
   "source": [
    "search_result = gis.content.search(\"title:2012 USA Median Age AND owner:esri\", \n",
    "                                   item_type = \"Map Service\", outside_org = True)"
   ]
  },
  {
   "cell_type": "code",
   "execution_count": 4,
   "metadata": {
    "collapsed": false
   },
   "outputs": [
    {
     "data": {
      "text/plain": [
       "[<Item title:\"2012 USA Median Household Income (Mature Support)\" type:Map Service owner:esri>,\n",
       " <Item title:\"2012 USA Median Age (Mature Support)\" type:Map Service owner:esri>,\n",
       " <Item title:\"2012 USA Median Home Value (Mature Support)\" type:Map Service owner:esri>,\n",
       " <Item title:\"2012 USA Median Net Worth (Mature Support)\" type:Map Service owner:esri>]"
      ]
     },
     "metadata": {},
     "output_type": "display_data"
    }
   ],
   "source": [
    "display(search_result)"
   ]
  },
  {
   "cell_type": "code",
   "execution_count": 5,
   "metadata": {
    "collapsed": false
   },
   "outputs": [
    {
     "data": {
      "text/html": [
       "<div class=\"item_container\" style=\"height: auto; overflow: hidden; border: 1px solid #cfcfcf; border-radius: 2px; background: #f6fafa; line-height: 1.21429em; padding: 10px;\">\n",
       "                    <div class=\"item_left\" style=\"width: 210px; float: left;\">\n",
       "                       <a href='http://www.arcgis.com/home/item.html?id=fce0ca8972ae4268bc4a69443b8d1ef5' target='_blank'>\n",
       "                        <img src='data:image/png;base64,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' width='200' height='133' class=\"itemThumbnail\">\n",
       "                       </a>\n",
       "                    </div>\n",
       "\n",
       "                    <div class=\"item_right\"     style=\"float: none; width: auto; overflow: hidden;\">\n",
       "                        <a href='http://www.arcgis.com/home/item.html?id=fce0ca8972ae4268bc4a69443b8d1ef5' target='_blank'><b>2012 USA Median Age (Mature Support)</b>\n",
       "                        </a>\n",
       "                        <br>This map service shows the median age of people in the United States in 2012.<img src='http://www.arcgis.com/home/js/jsapi/esri/css/images/item_type_icons/mapimages16.png' style=\"vertical-align:middle;\">Map Service by esri\n",
       "                        <br>Last Modified: February 02, 2016\n",
       "                        <br>2 comments, 1,172,631 views\n",
       "                    </div>\n",
       "                </div>\n",
       "                "
      ],
      "text/plain": [
       "<Item title:\"2012 USA Median Age (Mature Support)\" type:Map Service owner:esri>"
      ]
     },
     "metadata": {},
     "output_type": "display_data"
    }
   ],
   "source": [
    "median_age_weblayer = search_result[1] #pick the second search result\n",
    "display(median_age_weblayer)"
   ]
  },
  {
   "cell_type": "markdown",
   "metadata": {},
   "source": [
    "### Add an operational layer to the web map\n",
    "To add 'USA median age' web layer as an operational layer, we update that part of the web map dictionary with the item id and url of the web layer."
   ]
  },
  {
   "cell_type": "code",
   "execution_count": 6,
   "metadata": {
    "collapsed": true
   },
   "outputs": [],
   "source": [
    "web_map_dict['operationalLayers'][0]['itemId'] = median_age_weblayer.itemid\n",
    "web_map_dict['operationalLayers'][0]['layerType'] = \"ArcGISMapServiceLayer\"\n",
    "web_map_dict['operationalLayers'][0]['title'] = median_age_weblayer.title\n",
    "web_map_dict['operationalLayers'][0]['url'] = median_age_weblayer.url"
   ]
  },
  {
   "cell_type": "code",
   "execution_count": 7,
   "metadata": {
    "collapsed": false
   },
   "outputs": [
    {
     "data": {
      "text/plain": [
       "{'baseMap': {'baseMapLayers': [{'id': 'defaultBasemap',\n",
       "    'layerType': 'ArcGISTiledMapServiceLayer',\n",
       "    'opacity': 1,\n",
       "    'title': 'World Topographic Map',\n",
       "    'url': 'https://services.arcgisonline.com/ArcGIS/rest/services/World_Topo_Map/MapServer',\n",
       "    'visibility': True}],\n",
       "  'title': 'Topographic'},\n",
       " 'operationalLayers': [{'itemId': 'fce0ca8972ae4268bc4a69443b8d1ef5',\n",
       "   'layerType': 'ArcGISMapServiceLayer',\n",
       "   'opacity': 1,\n",
       "   'title': '2012 USA Median Age (Mature Support)',\n",
       "   'url': 'http://server.arcgisonline.com/ArcGIS/rest/services/Demographics/USA_Median_Age/MapServer',\n",
       "   'visibility': True}],\n",
       " 'spatialReference': {'latestWkid': 3857, 'wkid': 102100},\n",
       " 'version': '2.5'}"
      ]
     },
     "metadata": {},
     "output_type": "display_data"
    }
   ],
   "source": [
    "# display the updated web map dictionary\n",
    "display(web_map_dict)"
   ]
  },
  {
   "cell_type": "markdown",
   "metadata": {},
   "source": [
    "### Publish the web map as an item to the portal\n",
    "Now that the web map content is ready, we will use the `add()` method to create a new web map item. As parameters to the `add()` method, we need to specify some essential properties for the new web map item. The `text` property of the item holds the web map content. Since our web map content is in the form of a Python dictionary, we use `dumps()` function on `json` module to convert the dictionary to a string."
   ]
  },
  {
   "cell_type": "code",
   "execution_count": 8,
   "metadata": {
    "collapsed": false
   },
   "outputs": [
    {
     "data": {
      "text/html": [
       "<div class=\"item_container\" style=\"height: auto; overflow: hidden; border: 1px solid #cfcfcf; border-radius: 2px; background: #f6fafa; line-height: 1.21429em; padding: 10px;\">\n",
       "                    <div class=\"item_left\" style=\"width: 210px; float: left;\">\n",
       "                       <a href='http://www.arcgis.com/home/item.html?id=35c6c53edb8040e891597f92fc321b83' target='_blank'>\n",
       "                        <img src='http://static.arcgis.com/images/desktopapp.png' class=\"itemThumbnail\">\n",
       "                       </a>\n",
       "                    </div>\n",
       "\n",
       "                    <div class=\"item_right\"     style=\"float: none; width: auto; overflow: hidden;\">\n",
       "                        <a href='http://www.arcgis.com/home/item.html?id=35c6c53edb8040e891597f92fc321b83' target='_blank'><b>USA median age map</b>\n",
       "                        </a>\n",
       "                        <br>This map service shows the median age of peoplein the United States as of 2012 census. The Median Age forthe U.S. is 37 years of age.<img src='http://www.arcgis.com/home/js/jsapi/esri/css/images/item_type_icons/maps16.png' style=\"vertical-align:middle;\">Web Map by atma.mani\n",
       "                        <br>Last Modified: August 23, 2016\n",
       "                        <br>0 comments, 0 views\n",
       "                    </div>\n",
       "                </div>\n",
       "                "
      ],
      "text/plain": [
       "<Item title:\"USA median age map\" type:Web Map owner:atma.mani>"
      ]
     },
     "metadata": {},
     "output_type": "display_data"
    }
   ],
   "source": [
    "web_map_properties = {'title':'USA median age map',\n",
    "                     'type':'Web Map',\n",
    "                     'snippet':'This map service shows the median age of people' +\\\n",
    "                     'in the United States as of 2012 census. The Median Age for' +\\\n",
    "                      'the U.S. is 37 years of age.',\n",
    "                     'tags':'ArcGIS Python API',\n",
    "                     'text':json.dumps(web_map_dict)}\n",
    "\n",
    "# Call the add() with web map item's properties and content.\n",
    "web_map_item = gis.content.add(web_map_properties)\n",
    "display(web_map_item)"
   ]
  },
  {
   "cell_type": "markdown",
   "metadata": {},
   "source": [
    "### Display the web map\n",
    "We have successfully published a web map with consisting of a basemap and desired web layer as the operational layer. We will use `arcgis.viz` module to read the published map as a `WebMap` object and interact with it."
   ]
  },
  {
   "cell_type": "code",
   "execution_count": 9,
   "metadata": {
    "collapsed": true
   },
   "outputs": [],
   "source": [
    "web_map_obj = arcgis.viz.WebMap(web_map_item)\n",
    "\n",
    "# display the web map in an interactive widget\n",
    "web_map_obj"
   ]
  },
  {
   "cell_type": "markdown",
   "metadata": {},
   "source": [
    "The map by zooms to the extent of the content by default. You can interact with the widget and explore the spatial distribution of people's age."
   ]
  },
  {
   "cell_type": "markdown",
   "metadata": {},
   "source": [
    "# Publish a web scene\n",
    "So far, we have seen how to publish a web map. The steps to publish a web scene is identical and will be demonstrated in this part of the sample. We will read a template web scene json from a text file, add an interesting 3D Scene Service as an operational layer. Then using the `add()` method, we will publish this as a web scene item."
   ]
  },
  {
   "cell_type": "code",
   "execution_count": 10,
   "metadata": {
    "collapsed": false
   },
   "outputs": [
    {
     "data": {
      "text/plain": [
       "{'baseMap': {'baseMapLayers': [{'id': '933075fa973f49948a88b84dae743704',\n",
       "    'layerDefinition': {},\n",
       "    'layerType': 'ArcGISTiledMapServiceLayer',\n",
       "    'opacity': 1,\n",
       "    'url': 'http://services.arcgisonline.com/ArcGIS/rest/services/World_Street_Map/MapServer',\n",
       "    'visibility': True}],\n",
       "  'elevationLayers': [{'id': 'globalElevation_0',\n",
       "    'layerType': 'ArcGISTiledElevationServiceLayer',\n",
       "    'url': 'https://elevation3d.arcgis.com/arcgis/rest/services/WorldElevation3D/Terrain3D/ImageServer'}],\n",
       "  'title': 'World Street Map'},\n",
       " 'operationalLayers': [{'itemId': '',\n",
       "   'layerType': '',\n",
       "   'opacity': 1,\n",
       "   'title': '',\n",
       "   'url': '',\n",
       "   'visibility': True}],\n",
       " 'spatialReference': {'latestWkid': 3857, 'wkid': 102100},\n",
       " 'tables': [],\n",
       " 'version': '1.4',\n",
       " 'viewingMode': 'global'}"
      ]
     },
     "metadata": {},
     "output_type": "display_data"
    }
   ],
   "source": [
    "# Read sample web scene json from text file. We use built-in json module to parse it into a Python dictionary\n",
    "web_scene_dict = dict()\n",
    "with open(\"./data/web_scene_simple.json\",\"r\") as file_handle:\n",
    "    web_scene_dict = json.load(file_handle)\n",
    "\n",
    "display(web_scene_dict)"
   ]
  },
  {
   "cell_type": "markdown",
   "metadata": {},
   "source": [
    "Similar to the web map template, the web scene above is pretty simple. Notice the `operationalLayers` array does not contain `url` to the service. Now we will search for a scene service titled **Montreal, Canada Buildings** published by **esri_3d** and apply that to the web scene."
   ]
  },
  {
   "cell_type": "code",
   "execution_count": 11,
   "metadata": {
    "collapsed": false
   },
   "outputs": [
    {
     "data": {
      "text/plain": [
       "[<Item title:\"Montreal, Canada Buildings\" type:Scene Service owner:esri_3d>]"
      ]
     },
     "metadata": {},
     "output_type": "display_data"
    }
   ],
   "source": [
    "search_result = gis.content.search(\"title:Montreal, Canada Buildings AND owner:esri_3d\", \n",
    "                                   item_type=\"scene service\", outside_org = True)\n",
    "display(search_result)"
   ]
  },
  {
   "cell_type": "code",
   "execution_count": 12,
   "metadata": {
    "collapsed": false
   },
   "outputs": [
    {
     "data": {
      "text/html": [
       "<div class=\"item_container\" style=\"height: auto; overflow: hidden; border: 1px solid #cfcfcf; border-radius: 2px; background: #f6fafa; line-height: 1.21429em; padding: 10px;\">\n",
       "                    <div class=\"item_left\" style=\"width: 210px; float: left;\">\n",
       "                       <a href='http://www.arcgis.com/home/item.html?id=f4b4881270124343a4cc2f847f86f54c' target='_blank'>\n",
       "                        <img src='data:image/png;base64,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' width='200' height='133' class=\"itemThumbnail\">\n",
       "                       </a>\n",
       "                    </div>\n",
       "\n",
       "                    <div class=\"item_right\"     style=\"float: none; width: auto; overflow: hidden;\">\n",
       "                        <a href='http://www.arcgis.com/home/item.html?id=f4b4881270124343a4cc2f847f86f54c' target='_blank'><b>Montreal, Canada Buildings</b>\n",
       "                        </a>\n",
       "                        <br>This layer provides 3D models of buildings for Montreal, Canada to support your work in 3D<img src='http://www.arcgis.com/home/js/jsapi/esri/css/images/item_type_icons/layers16.png' style=\"vertical-align:middle;\">Scene Service by esri_3d\n",
       "                        <br>Last Modified: July 13, 2015\n",
       "                        <br>0 comments, 1,358 views\n",
       "                    </div>\n",
       "                </div>\n",
       "                "
      ],
      "text/plain": [
       "<Item title:\"Montreal, Canada Buildings\" type:Scene Service owner:esri_3d>"
      ]
     },
     "metadata": {},
     "output_type": "display_data"
    }
   ],
   "source": [
    "buildings_layer = search_result[0]\n",
    "display(buildings_layer)"
   ]
  },
  {
   "cell_type": "code",
   "execution_count": 13,
   "metadata": {
    "collapsed": true
   },
   "outputs": [],
   "source": [
    "# Update web scene's opertaional layer with properties of buildings_layer\n",
    "web_scene_dict['operationalLayers'][0]['itemId'] = buildings_layer.itemid\n",
    "web_scene_dict['operationalLayers'][0]['layerType'] = \"ArcGISSceneServiceLayer\"\n",
    "web_scene_dict['operationalLayers'][0]['title'] = buildings_layer.title\n",
    "web_scene_dict['operationalLayers'][0]['url'] = buildings_layer.url"
   ]
  },
  {
   "cell_type": "markdown",
   "metadata": {},
   "source": [
    "### Publish the web scene as an item to the portal\n",
    "Similar to publishing the web map, we will use the `add()` method to create a web scene item. As parameters we will send a dictionary containing properties of the web scene item. The `text` property will contain the web scene dictionary updated in the previous step as a string."
   ]
  },
  {
   "cell_type": "code",
   "execution_count": 14,
   "metadata": {
    "collapsed": false
   },
   "outputs": [
    {
     "data": {
      "text/html": [
       "<div class=\"item_container\" style=\"height: auto; overflow: hidden; border: 1px solid #cfcfcf; border-radius: 2px; background: #f6fafa; line-height: 1.21429em; padding: 10px;\">\n",
       "                    <div class=\"item_left\" style=\"width: 210px; float: left;\">\n",
       "                       <a href='http://www.arcgis.com/home/item.html?id=11be0f73bb734b05b2ea85bbf94c788f' target='_blank'>\n",
       "                        <img src='http://static.arcgis.com/images/desktopapp.png' class=\"itemThumbnail\">\n",
       "                       </a>\n",
       "                    </div>\n",
       "\n",
       "                    <div class=\"item_right\"     style=\"float: none; width: auto; overflow: hidden;\">\n",
       "                        <a href='http://www.arcgis.com/home/item.html?id=11be0f73bb734b05b2ea85bbf94c788f' target='_blank'><b>Web scene with photo realistic buildings</b>\n",
       "                        </a>\n",
       "                        <br>This scene highlights buildings of Montreal, Canada<img src='http://www.arcgis.com/home/js/jsapi/esri/css/images/item_type_icons/webscene16.png' style=\"vertical-align:middle;\">Web Scene by atma.mani\n",
       "                        <br>Last Modified: August 23, 2016\n",
       "                        <br>0 comments, 0 views\n",
       "                    </div>\n",
       "                </div>\n",
       "                "
      ],
      "text/plain": [
       "<Item title:\"Web scene with photo realistic buildings\" type:Web Scene owner:atma.mani>"
      ]
     },
     "metadata": {},
     "output_type": "display_data"
    }
   ],
   "source": [
    "web_scene_item_properties = {'title':'Web scene with photo realistic buildings',\n",
    "                            'type':'Web Scene',\n",
    "                            'snippet':'This scene highlights buildings of Montreal, Canada',\n",
    "                            'tags':'ArcGIS Python API',\n",
    "                            'text': json.dumps(web_scene_dict)}\n",
    "\n",
    "# Use the add() method to publish a new web scenej\n",
    "web_scene_item = gis.content.add(web_scene_item_properties)\n",
    "display(web_scene_item)"
   ]
  },
  {
   "cell_type": "markdown",
   "metadata": {},
   "source": [
    "### Display the web scene\n",
    "We have successfully published a web scene with consisting of a basemap, elevation layer and desired web layer as the operational layer. We will use arcgis.viz module to read the published scene as a `WebScene` object and interact with it."
   ]
  },
  {
   "cell_type": "code",
   "execution_count": 15,
   "metadata": {
    "collapsed": false
   },
   "outputs": [
    {
     "data": {
      "text/html": [
       "<iframe width=960 height=600 src=\"http://www.arcgis.com/home/webscene/viewer.html?webscene=11be0f73bb734b05b2ea85bbf94c788f\"/>"
      ],
      "text/plain": [
       "WebScene([('operationalLayers',\n",
       "           [{'itemId': 'f4b4881270124343a4cc2f847f86f54c',\n",
       "             'layerType': 'ArcGISSceneServiceLayer',\n",
       "             'opacity': 1,\n",
       "             'title': 'Montreal, Canada Buildings',\n",
       "             'url': 'http://scene.arcgis.com/arcgis/rest/services/Hosted/Buildings_Montreal/SceneServer',\n",
       "             'visibility': True}]),\n",
       "          ('tables', []),\n",
       "          ('baseMap',\n",
       "           {'baseMapLayers': [{'id': '933075fa973f49948a88b84dae743704',\n",
       "              'layerDefinition': {},\n",
       "              'layerType': 'ArcGISTiledMapServiceLayer',\n",
       "              'opacity': 1,\n",
       "              'url': 'http://services.arcgisonline.com/ArcGIS/rest/services/World_Street_Map/MapServer',\n",
       "              'visibility': True}],\n",
       "            'elevationLayers': [{'id': 'globalElevation_0',\n",
       "              'layerType': 'ArcGISTiledElevationServiceLayer',\n",
       "              'url': 'https://elevation3d.arcgis.com/arcgis/rest/services/WorldElevation3D/Terrain3D/ImageServer'}],\n",
       "            'title': 'World Street Map'}),\n",
       "          ('version', '1.4'),\n",
       "          ('viewingMode', 'global'),\n",
       "          ('spatialReference', {'latestWkid': 3857, 'wkid': 102100})])"
      ]
     },
     "execution_count": 15,
     "metadata": {},
     "output_type": "execute_result"
    }
   ],
   "source": [
    "web_scene_obj = arcgis.viz.WebScene(web_scene_item)\n",
    "\n",
    "# display the web scene in an interactive widget\n",
    "web_scene_obj"
   ]
  },
  {
   "cell_type": "code",
   "execution_count": null,
   "metadata": {
    "collapsed": true
   },
   "outputs": [],
   "source": []
  }
 ],
 "metadata": {
  "kernelspec": {
   "display_name": "Python 3",
   "language": "python",
   "name": "python3"
  },
  "language_info": {
   "codemirror_mode": {
    "name": "ipython",
    "version": 3
   },
   "file_extension": ".py",
   "mimetype": "text/x-python",
   "name": "python",
   "nbconvert_exporter": "python",
   "pygments_lexer": "ipython3",
   "version": "3.5.2"
  }
 },
 "nbformat": 4,
 "nbformat_minor": 0
}

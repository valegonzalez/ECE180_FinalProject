{
 "cells": [
  {
   "cell_type": "markdown",
   "metadata": {},
   "source": [
    "Refer here for instructions to [download and run this sample locally](https://developers.arcgis.com/python/sample-notebooks/#Download-and-run-the-sample-notebooks) on your computer"
   ]
  },
  {
   "cell_type": "markdown",
   "metadata": {},
   "source": [
    "# Using and updating GIS content\n",
    "\n",
    "The GIS is a warehouse of geographic content and services. Arcgis includes several classes to make use of these content, publish new items and update the them when needed. This sample on updating the content of web maps and web scenes will demonstrate the following\n",
    " * **Replace web layers** of a web map. For instance, you can use this to update a web map when the services it points to were deleted. During the process, the sample shows how to read a web feature layer as a **FeatureService** object and inspect its properties.\n",
    " * **Drive the map widget by code**. In addition to displaying the interactive map widget, you can also set it to load at a particular extent. This is great for presentation purposes. During this process, the sample shows how to create and use a **MapView** object and a **Geocoder** object.\n",
    " * Make a **copy of a public web scene** item into your contents and then update it.\n",
    "     * Edit the list of layers to remove unnecessary ones.\n",
    "     * **Replace the basemap** of the web scene. In this step the sample shows how to search for **groups** and query the member items.\n",
    "     * Change visibility of layers."
   ]
  },
  {
   "cell_type": "code",
   "execution_count": 1,
   "metadata": {
    "collapsed": false
   },
   "outputs": [],
   "source": [
    "from arcgis import GIS\n",
    "from IPython.display import display\n",
    "import arcgis.viz\n",
    "\n",
    "gis = GIS(\"portal or org url\",\"username\",\"password\")"
   ]
  },
  {
   "cell_type": "markdown",
   "metadata": {},
   "source": [
    "## Data preparation\n",
    "To run through the sample, we require some published web layers, web maps and web scene items. This section contains cells that show how to publish them. If you would like to work with your own datasets or have these items already published, you can skip this section. To understand the publishing process in detail, check out other samples within this samples directory."
   ]
  },
  {
   "cell_type": "code",
   "execution_count": 2,
   "metadata": {
    "collapsed": false
   },
   "outputs": [],
   "source": [
    "sd_file = \"./data/updating_gis_content/Ebola_Treatment_Units.sd\"\n",
    "# add the sd file as an item and publish it as a web layer\n",
    "item = gis.content.add({},sd_file)\n",
    "new_item = item.publish()"
   ]
  },
  {
   "cell_type": "markdown",
   "metadata": {},
   "source": [
    "Now that the web layers are published, run through this section to publish a web map. To understand how this part of the sample works, refer to the sample titled **Publishing web maps and web scenes**"
   ]
  },
  {
   "cell_type": "code",
   "execution_count": 3,
   "metadata": {
    "collapsed": false
   },
   "outputs": [],
   "source": [
    "import json\n",
    "web_map_json = str()\n",
    "\n",
    "# read web map json from text file\n",
    "with open(\"./data/updating_gis_content/web_map_Ebola.json\",\"r\") as file_handle:\n",
    "    web_map_json = json.load(file_handle)\n",
    "\n",
    "# publish a web map\n",
    "web_map_item_properties = {'title':'Ebola treatment locations',\n",
    "                          'type':'Web Map',\n",
    "                          'snippet':'This map shows locations of Ebola treatment centers in Africa',\n",
    "                          'tags':'ArcGIS Python API',\n",
    "                          'text':json.dumps(web_map_json)}\n",
    "web_map_item = gis.content.add(web_map_item_properties)"
   ]
  },
  {
   "cell_type": "markdown",
   "metadata": {},
   "source": [
    "# Using and updating a web map\n",
    "In the data preparation section above, we published a web map to play with. We will search for that web map, draw it and update it if necessary."
   ]
  },
  {
   "cell_type": "code",
   "execution_count": 4,
   "metadata": {
    "collapsed": false
   },
   "outputs": [
    {
     "data": {
      "text/plain": [
       "[<Item title:\"Ebola treatment locations\" type:Web Map owner:atma.mani>,\n",
       " <Item title:\"Ebola treatment locations\" type:Web Map owner:atma.mani>]"
      ]
     },
     "metadata": {},
     "output_type": "display_data"
    }
   ],
   "source": [
    "search_result = gis.content.search(\"title:Ebola treatment locations\", item_type = \"Web Map\")\n",
    "display(search_result)"
   ]
  },
  {
   "cell_type": "code",
   "execution_count": 5,
   "metadata": {
    "collapsed": false
   },
   "outputs": [
    {
     "data": {
      "text/html": [
       "<div class=\"item_container\" style=\"height: auto; overflow: hidden; border: 1px solid #cfcfcf; border-radius: 2px; background: #f6fafa; line-height: 1.21429em; padding: 10px;\">\n",
       "                    <div class=\"item_left\" style=\"width: 210px; float: left;\">\n",
       "                       <a href='http://www.arcgis.com/home/item.html?id=805a520d65bf4b3d9355b906771f0f96' target='_blank'>\n",
       "                        <img src='http://static.arcgis.com/images/desktopapp.png' class=\"itemThumbnail\">\n",
       "                       </a>\n",
       "                    </div>\n",
       "\n",
       "                    <div class=\"item_right\"     style=\"float: none; width: auto; overflow: hidden;\">\n",
       "                        <a href='http://www.arcgis.com/home/item.html?id=805a520d65bf4b3d9355b906771f0f96' target='_blank'><b>Ebola treatment locations</b>\n",
       "                        </a>\n",
       "                        <br>This map shows locations of Ebola treatment centers in Africa<img src='http://www.arcgis.com/home/js/jsapi/esri/css/images/item_type_icons/maps16.png' style=\"vertical-align:middle;\">Web Map by atma.mani\n",
       "                        <br>Last Modified: August 26, 2016\n",
       "                        <br>0 comments, 0 views\n",
       "                    </div>\n",
       "                </div>\n",
       "                "
      ],
      "text/plain": [
       "<Item title:\"Ebola treatment locations\" type:Web Map owner:atma.mani>"
      ]
     },
     "metadata": {},
     "output_type": "display_data"
    }
   ],
   "source": [
    "# display the first search result to confirm the item\n",
    "web_map_item = search_result[0]\n",
    "display(web_map_item)"
   ]
  },
  {
   "cell_type": "code",
   "execution_count": 6,
   "metadata": {
    "collapsed": true
   },
   "outputs": [],
   "source": [
    "# create a web map object out of the item\n",
    "web_map_obj = arcgis.viz.WebMap(web_map_item)\n",
    "\n",
    "# display the web map obj in an interactive widget\n",
    "web_map_obj"
   ]
  },
  {
   "cell_type": "markdown",
   "metadata": {},
   "source": [
    "## Fix errors in web map\n",
    "The widget loads an empty web map with just a basemap. Let us investigate the contents of the web map to determine the issue. Let us start with `operationalLayers` dictionary which contains the list of layers and inspect each layer."
   ]
  },
  {
   "cell_type": "code",
   "execution_count": 7,
   "metadata": {
    "collapsed": false
   },
   "outputs": [
    {
     "data": {
      "text/plain": [
       "[{'id': 'layer1',\n",
       "  'itemId': 'f53d5907296e43e28e8570a24b1d1d26',\n",
       "  'layerType': 'ArcGISFeatureLayer',\n",
       "  'opacity': 1,\n",
       "  'title': 'Ebola_Treatment_Units - Ebola_Treatment_Units_Classed',\n",
       "  'url': 'https://services.arcgis.com/ORGID/arcgis/rest/services/Ebola_Facilities/FeatureServer/1',\n",
       "  'visibility': True}]"
      ]
     },
     "metadata": {},
     "output_type": "display_data"
    }
   ],
   "source": [
    "layer_list = web_map_obj['operationalLayers']\n",
    "display(layer_list)"
   ]
  },
  {
   "cell_type": "markdown",
   "metadata": {},
   "source": [
    "The web map has only 1 layer and that points to a feature service title **Ebola_Facilities**. Let us verify if a feature service of that name exists on the server. If not, let us try to find the closest match."
   ]
  },
  {
   "cell_type": "code",
   "execution_count": 8,
   "metadata": {
    "collapsed": false
   },
   "outputs": [
    {
     "data": {
      "text/plain": [
       "[]"
      ]
     },
     "metadata": {},
     "output_type": "display_data"
    }
   ],
   "source": [
    "search_result = gis.content.search('title:Ebola_Facilities', item_type = 'Feature Service')\n",
    "display(search_result)"
   ]
  },
  {
   "cell_type": "markdown",
   "metadata": {},
   "source": [
    "Let us change the search query leaving just the word `Ebola` in the title."
   ]
  },
  {
   "cell_type": "code",
   "execution_count": 9,
   "metadata": {
    "collapsed": false
   },
   "outputs": [
    {
     "data": {
      "text/plain": [
       "[<Item title:\"Ebola_Treatment_Units\" type:Feature Service owner:atma.mani>]"
      ]
     },
     "metadata": {},
     "output_type": "display_data"
    }
   ],
   "source": [
    "search_result = gis.content.search('title:Ebola', item_type = 'Feature Service')\n",
    "display(search_result)"
   ]
  },
  {
   "cell_type": "markdown",
   "metadata": {},
   "source": [
    "It is likely the old service was deleted and a new one was with a different name was published. Let us update the web map dictionary with the correct url. But before that, we need to investigate if the new service also has layer with id `1` like the previous service. To find that we need to create a **`FeatureService`** object using the item returned in search result. The `FeatureService` class is located in `lyr` module of the `arcgis` package."
   ]
  },
  {
   "cell_type": "code",
   "execution_count": 10,
   "metadata": {
    "collapsed": false
   },
   "outputs": [
    {
     "name": "stdout",
     "output_type": "stream",
     "text": [
      "https://services.arcgis.com/EguFTd9xPXEoDtC7/arcgis/rest/services/Ebola_Treatment_Units/FeatureServer\n"
     ]
    },
    {
     "data": {
      "text/plain": [
       "[<FeatureLayer url:\"https://services.arcgis.com/EguFTd9xPXEoDtC7/arcgis/rest/services/Ebola_Treatment_Units/FeatureServer/0\">,\n",
       " <FeatureLayer url:\"https://services.arcgis.com/EguFTd9xPXEoDtC7/arcgis/rest/services/Ebola_Treatment_Units/FeatureServer/1\">]"
      ]
     },
     "metadata": {},
     "output_type": "display_data"
    }
   ],
   "source": [
    "print(search_result[0].url)\n",
    "\n",
    "from arcgis.lyr import *\n",
    "fs_obj = FeatureService(search_result[0].url, gis)\n",
    "display(fs_obj.layers)"
   ]
  },
  {
   "cell_type": "markdown",
   "metadata": {},
   "source": [
    "The new feature service does have a layer with id `1`. Hence we can use the same layer id while switching the url. While updating the web map, it is important to not only update the **url** but also the **itemId** of the feature service item."
   ]
  },
  {
   "cell_type": "code",
   "execution_count": 11,
   "metadata": {
    "collapsed": true
   },
   "outputs": [],
   "source": [
    "# set the url to feature service item's url\n",
    "layer_list[0]['url'] = fs_obj.layers[1].url\n",
    "layer_list[0]['itemId'] = search_result[0].id\n",
    "\n",
    "# update the web map object's operationalLayers dictionary\n",
    "web_map_obj['operationalLayers'] = layer_list"
   ]
  },
  {
   "cell_type": "markdown",
   "metadata": {},
   "source": [
    "## Update the web map\n",
    "Now the web map should be fixed as it points to a live service. To update the web map, we call the `update()` method."
   ]
  },
  {
   "cell_type": "code",
   "execution_count": 12,
   "metadata": {
    "collapsed": false
   },
   "outputs": [
    {
     "data": {
      "text/plain": [
       "[{'id': 'layer1',\n",
       "  'itemId': '55381d3630654b6380ac129bdf7fb01b',\n",
       "  'layerType': 'ArcGISFeatureLayer',\n",
       "  'opacity': 1,\n",
       "  'title': 'Ebola_Treatment_Units - Ebola_Treatment_Units_Classed',\n",
       "  'url': 'https://services.arcgis.com/EguFTd9xPXEoDtC7/arcgis/rest/services/Ebola_Treatment_Units/FeatureServer/1',\n",
       "  'visibility': True}]"
      ]
     },
     "execution_count": 12,
     "metadata": {},
     "output_type": "execute_result"
    }
   ],
   "source": [
    "# Let us print the opertationalLayers dictionary before calling the update()\n",
    "web_map_obj['operationalLayers']"
   ]
  },
  {
   "cell_type": "code",
   "execution_count": 13,
   "metadata": {
    "collapsed": false
   },
   "outputs": [],
   "source": [
    "web_map_obj.update()"
   ]
  },
  {
   "cell_type": "markdown",
   "metadata": {},
   "source": [
    "Let us create a new web map object and try to draw it."
   ]
  },
  {
   "cell_type": "code",
   "execution_count": 14,
   "metadata": {
    "collapsed": false
   },
   "outputs": [
    {
     "data": {
      "text/plain": [
       "[<Item title:\"Ebola treatment locations\" type:Web Map owner:atma.mani>,\n",
       " <Item title:\"Ebola treatment locations\" type:Web Map owner:atma.mani>]"
      ]
     },
     "metadata": {},
     "output_type": "display_data"
    }
   ],
   "source": [
    "search_result = gis.content.search('title: Ebola_treatment_locations', item_type = \"Web Map\")\n",
    "display(search_result)"
   ]
  },
  {
   "cell_type": "code",
   "execution_count": 15,
   "metadata": {
    "collapsed": false
   },
   "outputs": [],
   "source": [
    "web_map_item = search_result[0]\n",
    "web_map_obj = arcgis.viz.WebMap(web_map_item)\n",
    "web_map_obj"
   ]
  },
  {
   "cell_type": "markdown",
   "metadata": {},
   "source": [
    "The web map was sucessfully overwritten with correct operational layers. You can interact with the widget and zoom into the African coast to observe the locations of Ebola treatment centers."
   ]
  },
  {
   "cell_type": "markdown",
   "metadata": {},
   "source": [
    "## Drive the map widget via code\n",
    "So far in this sample and in others we have observed how to display a web map as an interactive widget. The widget responds to mouse clicks and renders the map. However with the `arcgis.viz` module, more can be done. You can drive the widget through code. Let's get started, by creating a **`MapView`** object to render the web map and a **`Geocoder`** object to allow us to perform address searching."
   ]
  },
  {
   "cell_type": "code",
   "execution_count": 16,
   "metadata": {
    "collapsed": false
   },
   "outputs": [],
   "source": [
    "# Create a arcgis.viz.MapView object to control the widget\n",
    "map_handle = arcgis.viz.MapView(item = web_map_item)\n",
    "\n",
    "# Search for a geocoding service, so we can perform address searching\n",
    "import arcgis.tools\n",
    "search_result = gis.content.search('title:World Geocoding AND owner:esri',outside_org = True)\n",
    "my_geocoder = arcgis.tools.Geocoder(search_result[0])\n",
    "\n",
    "# draw the map with its initial extent\n",
    "map_handle"
   ]
  },
  {
   "cell_type": "markdown",
   "metadata": {},
   "source": [
    "The map displayed is not very different from what we displayed earlier. However, now you can control the extent through code."
   ]
  },
  {
   "cell_type": "code",
   "execution_count": 17,
   "metadata": {
    "collapsed": true
   },
   "outputs": [],
   "source": [
    "map_handle.center = my_geocoder.find_best_match('Sierra Leone')\n",
    "map_handle.zoom = 5"
   ]
  },
  {
   "cell_type": "markdown",
   "metadata": {},
   "source": [
    "Thus, `arcgis.viz` provides a lot of power to control the map widget. You can even string through a list of these commands and make an animation."
   ]
  },
  {
   "cell_type": "markdown",
   "metadata": {},
   "source": [
    "# Using and updating a web scene\n",
    "In the sample above we observed how to update a web map. Updating the web scene is similar, we use the `update()` method. Let us look at the example of a web scene that displays tropical cyclones over the Pacific ocean."
   ]
  },
  {
   "cell_type": "code",
   "execution_count": 18,
   "metadata": {
    "collapsed": false
   },
   "outputs": [
    {
     "data": {
      "text/plain": [
       "[<Item title:\"Western Pacific Typhoons (2005)\" type:Web Scene owner:esri_3d>]"
      ]
     },
     "metadata": {},
     "output_type": "display_data"
    }
   ],
   "source": [
    "search_result = gis.content.search('title:Western Pacific Typhoons (2005) AND owner:esri_3d', \n",
    "                                   item_type = 'Web Scene', outside_org = True)\n",
    "display(search_result)"
   ]
  },
  {
   "cell_type": "markdown",
   "metadata": {},
   "source": [
    "Lets try to display the web scene in an interactive widget."
   ]
  },
  {
   "cell_type": "code",
   "execution_count": 19,
   "metadata": {
    "collapsed": false
   },
   "outputs": [
    {
     "data": {
      "text/html": [
       "<iframe width=960 height=600 src=\"http://www.arcgis.com/home/webscene/viewer.html?webscene=193a0e0ed72f413d8cdc649be637a846\"/>"
      ],
      "text/plain": [
       "WebScene([('baseMap',\n",
       "           {'baseMapLayers': [{'id': '73e9780a7d6f413f8547abbd19ec786c',\n",
       "              'layerType': 'ArcGISTiledMapServiceLayer',\n",
       "              'url': 'http://services.arcgisonline.com/ArcGIS/rest/services/World_Topo_Map/MapServer'}],\n",
       "            'elevationLayers': [{'id': 'globalElevation_0',\n",
       "              'layerType': 'ArcGISTiledElevationServiceLayer',\n",
       "              'url': 'http://elevation3d.arcgis.com/arcgis/rest/services/WorldElevation3D/Terrain3D/ImageServer'}],\n",
       "            'id': 'basemap',\n",
       "            'title': 'Topographic',\n",
       "            'visibility': True}),\n",
       "          ('initialState',\n",
       "           {'viewpoint': {'camera': {'heading': 351.1964858132987,\n",
       "              'position': {'spatialReference': {'wkid': 102100},\n",
       "               'x': 16338046.55787945,\n",
       "               'y': -255903.18543654715,\n",
       "               'z': 6324439.902154693},\n",
       "              'tilt': 17.65347586839879}}}),\n",
       "          ('version', '1.0'),\n",
       "          ('authoringApp', 'WebSceneViewer'),\n",
       "          ('authoringAppVersion', '3.6.0.0'),\n",
       "          ('operationalLayers',\n",
       "           [{'id': '882ce65eceda4e2ba2ad65f9e2c0632f',\n",
       "             'layerDefinition': {'drawingInfo': {'renderer': {'description': '',\n",
       "                'label': '',\n",
       "                'symbol': {'symbolLayers': [{'material': {'color': [0,\n",
       "                     169,\n",
       "                     230],\n",
       "                    'transparency': 0},\n",
       "                   'size': 5,\n",
       "                   'type': 'Line'}],\n",
       "                 'type': 'LineSymbol3D'},\n",
       "                'type': 'simple'}},\n",
       "              'elevationInfo': {'mode': 'onTheGround'},\n",
       "              'minScale': 120000000},\n",
       "             'layerType': 'ArcGISFeatureLayer',\n",
       "             'opacity': 1,\n",
       "             'popupInfo': {'description': '<div><p><span style=\"font-weight:bold;\">Typhoon {name}</span></p><p><span style=\"font-weight:bold;\">Started: </span><span>{datedescription}</span></p></div>',\n",
       "              'mediaInfos': [],\n",
       "              'title': '{name}'},\n",
       "             'title': 'Typhoon Paths',\n",
       "             'url': 'http://services.arcgis.com/P3ePLMYs2RVChkJx/arcgis/rest/services/PacificTyphoons2005_WFL/FeatureServer/18',\n",
       "             'visibility': True},\n",
       "            {'id': '14a37c86f84-layer21',\n",
       "             'layerType': 'GroupLayer',\n",
       "             'layers': [{'id': '7a24e304d2474d7eb29a712c95202140',\n",
       "               'layerDefinition': {'drawingInfo': {'renderer': {'description': '',\n",
       "                  'label': '',\n",
       "                  'symbol': {'name': 'Pushpin 1',\n",
       "                   'styleName': 'EsriIconsStyle',\n",
       "                   'type': 'styleSymbolReference'},\n",
       "                  'type': 'simple',\n",
       "                  'visualVariables': [{'axis': 'all',\n",
       "                    'minSize': 25,\n",
       "                    'type': 'sizeInfo',\n",
       "                    'valueUnit': 'unknown'}]}},\n",
       "                'elevationInfo': {'mode': 'absoluteHeight'}},\n",
       "               'layerType': 'ArcGISFeatureLayer',\n",
       "               'opacity': 1,\n",
       "               'showLabels': True,\n",
       "               'title': 'Labels Q4',\n",
       "               'url': 'http://services.arcgis.com/P3ePLMYs2RVChkJx/arcgis/rest/services/PacificTyphoons2005_WFL/FeatureServer/17',\n",
       "               'visibility': False},\n",
       "              {'id': '10944e27c9f04bc39b5821c0046523a5',\n",
       "               'layerDefinition': {'drawingInfo': {'renderer': {'description': '',\n",
       "                  'label': '',\n",
       "                  'symbol': {'name': 'Standing Cylinder',\n",
       "                   'styleName': 'EsriThematicShapesStyle',\n",
       "                   'type': 'styleSymbolReference'},\n",
       "                  'type': 'simple',\n",
       "                  'visualVariables': [{'axis': 'height',\n",
       "                    'field': 'windspeed',\n",
       "                    'minDataValue': 0.0001,\n",
       "                    'minSize': 1,\n",
       "                    'type': 'sizeInfo'},\n",
       "                   {'axis': 'widthAndDepth',\n",
       "                    'minSize': 100000,\n",
       "                    'type': 'sizeInfo',\n",
       "                    'valueUnit': 'meters'},\n",
       "                   {'field': 'airpressure',\n",
       "                    'stops': [{'color': [245, 0, 0], 'value': 920},\n",
       "                     {'color': [245, 245, 0], 'value': 1014}],\n",
       "                    'type': 'colorInfo'}]}},\n",
       "                'elevationInfo': {'mode': 'absoluteHeight'}},\n",
       "               'layerType': 'ArcGISFeatureLayer',\n",
       "               'opacity': 1,\n",
       "               'popupInfo': {'mediaInfos': [{'caption': '<div><p><span style=\"font-weight:bold;\">Pressure: </span><span>{airpressure} hPa</span></p><p><span style=\"font-weight:bold;\">Wind speed: </span><span>{wind_mph} mph / {wind_kph} kph</span></p><p /><p><span style=\"font-weight:bold;\">Date: </span><span>{timedescription}</span></p></div>',\n",
       "                  'title': '<div><p><span style=\"font-weight:bold;\">{typhoonclass} {typhoon}</span></p></div>',\n",
       "                  'type': 'image',\n",
       "                  'value': {'sourceURL': '{image}'}}],\n",
       "                'title': '{typhoon}'},\n",
       "               'title': 'Typhoons Q4',\n",
       "               'url': 'http://services.arcgis.com/P3ePLMYs2RVChkJx/arcgis/rest/services/PacificTyphoons2005_WFL/FeatureServer/16',\n",
       "               'visibility': False}],\n",
       "             'listMode': 'hide-children',\n",
       "             'opacity': 1,\n",
       "             'title': 'October - December',\n",
       "             'visibility': False,\n",
       "             'visibilityMode': 'inherited'},\n",
       "            {'id': '14a37c7f247-layer20',\n",
       "             'layerType': 'GroupLayer',\n",
       "             'layers': [{'id': '90eba5af0b084c569a55ebc9b3bfc21e',\n",
       "               'layerDefinition': {'drawingInfo': {'renderer': {'description': '',\n",
       "                  'label': '',\n",
       "                  'symbol': {'name': 'Pushpin 1',\n",
       "                   'styleName': 'EsriIconsStyle',\n",
       "                   'type': 'styleSymbolReference'},\n",
       "                  'type': 'simple',\n",
       "                  'visualVariables': [{'axis': 'all',\n",
       "                    'minSize': 25,\n",
       "                    'type': 'sizeInfo',\n",
       "                    'valueUnit': 'unknown'}]}},\n",
       "                'elevationInfo': {'mode': 'absoluteHeight'}},\n",
       "               'layerType': 'ArcGISFeatureLayer',\n",
       "               'opacity': 1,\n",
       "               'showLabels': True,\n",
       "               'title': 'Labels Q3_3',\n",
       "               'url': 'http://services.arcgis.com/P3ePLMYs2RVChkJx/arcgis/rest/services/PacificTyphoons2005_WFL/FeatureServer/14',\n",
       "               'visibility': False},\n",
       "              {'id': '341d7b380907439990e4c238147b46ce',\n",
       "               'layerDefinition': {'drawingInfo': {'renderer': {'description': '',\n",
       "                  'label': '',\n",
       "                  'symbol': {'name': 'Standing Cylinder',\n",
       "                   'styleName': 'EsriThematicShapesStyle',\n",
       "                   'type': 'styleSymbolReference'},\n",
       "                  'type': 'simple',\n",
       "                  'visualVariables': [{'axis': 'height',\n",
       "                    'field': 'windspeed',\n",
       "                    'minDataValue': 0.0001,\n",
       "                    'minSize': 1,\n",
       "                    'type': 'sizeInfo'},\n",
       "                   {'axis': 'widthAndDepth',\n",
       "                    'minSize': 100000,\n",
       "                    'type': 'sizeInfo',\n",
       "                    'valueUnit': 'meters'},\n",
       "                   {'field': 'airpressure',\n",
       "                    'stops': [{'color': [245, 0, 0], 'value': 920},\n",
       "                     {'color': [245, 245, 0], 'value': 1014}],\n",
       "                    'type': 'colorInfo'}]}},\n",
       "                'elevationInfo': {'mode': 'absoluteHeight'}},\n",
       "               'layerType': 'ArcGISFeatureLayer',\n",
       "               'opacity': 1,\n",
       "               'popupInfo': {'mediaInfos': [{'caption': '<div><p><span style=\"font-weight:bold;\">Pressure: </span><span>{airpressure} hPa</span></p><p><span style=\"font-weight:bold;\">Wind speed: </span><span>{wind_mph} mph / {wind_kph} kph</span></p><p /><p><span style=\"font-weight:bold;\">Date: </span><span>{timedescription}</span></p></div>',\n",
       "                  'title': '<div><p><span style=\"font-weight:bold;\">{typhoonclass} {typhoon}</span></p></div>',\n",
       "                  'type': 'image',\n",
       "                  'value': {'sourceURL': '{image}'}}],\n",
       "                'title': '{typhoon}'},\n",
       "               'title': 'Typhoons Q3_3',\n",
       "               'url': 'http://services.arcgis.com/P3ePLMYs2RVChkJx/arcgis/rest/services/PacificTyphoons2005_WFL/FeatureServer/13',\n",
       "               'visibility': False}],\n",
       "             'listMode': 'hide-children',\n",
       "             'opacity': 1,\n",
       "             'title': 'September',\n",
       "             'visibility': False,\n",
       "             'visibilityMode': 'inherited'},\n",
       "            {'id': '14a37c78bc8-layer19',\n",
       "             'layerType': 'GroupLayer',\n",
       "             'layers': [{'id': '6e54f2736388480ab0a214cb468d48f9',\n",
       "               'layerDefinition': {'drawingInfo': {'renderer': {'description': '',\n",
       "                  'label': '',\n",
       "                  'symbol': {'name': 'Pushpin 1',\n",
       "                   'styleName': 'EsriIconsStyle',\n",
       "                   'type': 'styleSymbolReference'},\n",
       "                  'type': 'simple',\n",
       "                  'visualVariables': [{'axis': 'all',\n",
       "                    'minSize': 25,\n",
       "                    'type': 'sizeInfo',\n",
       "                    'valueUnit': 'unknown'}]}},\n",
       "                'elevationInfo': {'mode': 'absoluteHeight'}},\n",
       "               'layerType': 'ArcGISFeatureLayer',\n",
       "               'opacity': 1,\n",
       "               'showLabels': True,\n",
       "               'title': 'Labels Q3_2',\n",
       "               'url': 'http://services.arcgis.com/P3ePLMYs2RVChkJx/arcgis/rest/services/PacificTyphoons2005_WFL/FeatureServer/11',\n",
       "               'visibility': False},\n",
       "              {'id': '6b549bb78d824b4c8d24f5c90b93c4f6',\n",
       "               'layerDefinition': {'drawingInfo': {'renderer': {'description': '',\n",
       "                  'label': '',\n",
       "                  'symbol': {'name': 'Standing Cylinder',\n",
       "                   'styleName': 'EsriThematicShapesStyle',\n",
       "                   'type': 'styleSymbolReference'},\n",
       "                  'type': 'simple',\n",
       "                  'visualVariables': [{'axis': 'height',\n",
       "                    'field': 'windspeed',\n",
       "                    'minDataValue': 0.0001,\n",
       "                    'minSize': 1,\n",
       "                    'type': 'sizeInfo'},\n",
       "                   {'axis': 'widthAndDepth',\n",
       "                    'minSize': 100000,\n",
       "                    'type': 'sizeInfo',\n",
       "                    'valueUnit': 'meters'},\n",
       "                   {'field': 'airpressure',\n",
       "                    'stops': [{'color': [245, 0, 0], 'value': 920},\n",
       "                     {'color': [245, 245, 0], 'value': 1014}],\n",
       "                    'type': 'colorInfo'}]}},\n",
       "                'elevationInfo': {'mode': 'absoluteHeight'}},\n",
       "               'layerType': 'ArcGISFeatureLayer',\n",
       "               'opacity': 1,\n",
       "               'popupInfo': {'mediaInfos': [{'caption': '<div><p><span style=\"font-weight:bold;\">Pressure: </span><span>{airpressure} hPa</span></p><p><span style=\"font-weight:bold;\">Wind speed: </span><span>{wind_mph} mph / {wind_kph} kph</span></p><p /><p><span style=\"font-weight:bold;\">Date: </span><span>{timedescription}</span></p></div>',\n",
       "                  'title': '<div><p><span style=\"font-weight:bold;\">{typhoonclass} {typhoon}</span></p></div>',\n",
       "                  'type': 'image',\n",
       "                  'value': {'sourceURL': '{image}'}}],\n",
       "                'title': '{typhoon}'},\n",
       "               'title': 'Typhoons Q3_2',\n",
       "               'url': 'http://services.arcgis.com/P3ePLMYs2RVChkJx/arcgis/rest/services/PacificTyphoons2005_WFL/FeatureServer/10',\n",
       "               'visibility': False}],\n",
       "             'listMode': 'hide-children',\n",
       "             'opacity': 1,\n",
       "             'title': 'August',\n",
       "             'visibility': False,\n",
       "             'visibilityMode': 'inherited'},\n",
       "            {'id': '14a37c4590b-layer18',\n",
       "             'layerType': 'GroupLayer',\n",
       "             'layers': [{'id': 'b8cc403be27e475ca93db04a34845e89',\n",
       "               'layerDefinition': {'drawingInfo': {'renderer': {'description': '',\n",
       "                  'label': '',\n",
       "                  'symbol': {'name': 'Pushpin 1',\n",
       "                   'styleName': 'EsriIconsStyle',\n",
       "                   'type': 'styleSymbolReference'},\n",
       "                  'type': 'simple',\n",
       "                  'visualVariables': [{'axis': 'all',\n",
       "                    'minSize': 25,\n",
       "                    'type': 'sizeInfo',\n",
       "                    'valueUnit': 'unknown'}]}},\n",
       "                'elevationInfo': {'mode': 'absoluteHeight'}},\n",
       "               'layerType': 'ArcGISFeatureLayer',\n",
       "               'opacity': 1,\n",
       "               'showLabels': True,\n",
       "               'title': 'Labels Q3_1',\n",
       "               'url': 'http://services.arcgis.com/P3ePLMYs2RVChkJx/arcgis/rest/services/PacificTyphoons2005_WFL/FeatureServer/8',\n",
       "               'visibility': False},\n",
       "              {'id': 'e60bd6abdb094bf2b9daacd8bb57495c',\n",
       "               'layerDefinition': {'drawingInfo': {'renderer': {'description': '',\n",
       "                  'label': '',\n",
       "                  'symbol': {'name': 'Standing Cylinder',\n",
       "                   'styleName': 'EsriThematicShapesStyle',\n",
       "                   'type': 'styleSymbolReference'},\n",
       "                  'type': 'simple',\n",
       "                  'visualVariables': [{'axis': 'height',\n",
       "                    'field': 'windspeed',\n",
       "                    'minDataValue': 0.0001,\n",
       "                    'minSize': 1,\n",
       "                    'type': 'sizeInfo'},\n",
       "                   {'axis': 'widthAndDepth',\n",
       "                    'minSize': 100000,\n",
       "                    'type': 'sizeInfo',\n",
       "                    'valueUnit': 'meters'},\n",
       "                   {'field': 'airpressure',\n",
       "                    'stops': [{'color': [245, 0, 0], 'value': 920},\n",
       "                     {'color': [245, 245, 0], 'value': 1014}],\n",
       "                    'type': 'colorInfo'}]}},\n",
       "                'elevationInfo': {'mode': 'absoluteHeight'}},\n",
       "               'layerType': 'ArcGISFeatureLayer',\n",
       "               'opacity': 1,\n",
       "               'popupInfo': {'mediaInfos': [{'caption': '<div><p><span style=\"font-weight:bold;\">Pressure: </span><span>{airpressure} hPa</span></p><p><span style=\"font-weight:bold;\">Wind speed: </span><span>{wind_mph} mph / {wind_kph} kph</span></p><p /><p><span style=\"font-weight:bold;\">Date: </span><span>{timedescription}</span></p></div>',\n",
       "                  'title': '<div><p><span style=\"font-weight:bold;\">{typhoonclass} {typhoon}</span></p></div>',\n",
       "                  'type': 'image',\n",
       "                  'value': {'sourceURL': '{image}'}}],\n",
       "                'title': '{typhoon}'},\n",
       "               'title': 'Typhoons Q3_1',\n",
       "               'url': 'http://services.arcgis.com/P3ePLMYs2RVChkJx/arcgis/rest/services/PacificTyphoons2005_WFL/FeatureServer/7',\n",
       "               'visibility': False}],\n",
       "             'listMode': 'hide-children',\n",
       "             'opacity': 1,\n",
       "             'title': 'July',\n",
       "             'visibility': False,\n",
       "             'visibilityMode': 'inherited'},\n",
       "            {'id': '14a37c397dc-layer17',\n",
       "             'layerType': 'GroupLayer',\n",
       "             'layers': [{'id': '56803f3d64184140950f0ef1256a0603',\n",
       "               'layerDefinition': {'drawingInfo': {'renderer': {'description': '',\n",
       "                  'label': '',\n",
       "                  'symbol': {'name': 'Pushpin 1',\n",
       "                   'styleName': 'EsriIconsStyle',\n",
       "                   'type': 'styleSymbolReference'},\n",
       "                  'type': 'simple',\n",
       "                  'visualVariables': [{'axis': 'all',\n",
       "                    'minSize': 25,\n",
       "                    'type': 'sizeInfo',\n",
       "                    'valueUnit': 'unknown'}]}},\n",
       "                'elevationInfo': {'mode': 'absoluteHeight'}},\n",
       "               'layerType': 'ArcGISFeatureLayer',\n",
       "               'opacity': 1,\n",
       "               'showLabels': True,\n",
       "               'title': 'Labels Q2',\n",
       "               'url': 'http://services.arcgis.com/P3ePLMYs2RVChkJx/arcgis/rest/services/PacificTyphoons2005_WFL/FeatureServer/5',\n",
       "               'visibility': False},\n",
       "              {'id': '72668fcc8a904bd6a1444bef2e72f420',\n",
       "               'layerDefinition': {'drawingInfo': {'renderer': {'description': '',\n",
       "                  'label': '',\n",
       "                  'symbol': {'name': 'Standing Cylinder',\n",
       "                   'styleName': 'EsriThematicShapesStyle',\n",
       "                   'type': 'styleSymbolReference'},\n",
       "                  'type': 'simple',\n",
       "                  'visualVariables': [{'axis': 'height',\n",
       "                    'field': 'windspeed',\n",
       "                    'minDataValue': 0.0001,\n",
       "                    'minSize': 1,\n",
       "                    'type': 'sizeInfo'},\n",
       "                   {'axis': 'widthAndDepth',\n",
       "                    'minSize': 100000,\n",
       "                    'type': 'sizeInfo',\n",
       "                    'valueUnit': 'meters'},\n",
       "                   {'field': 'airpressure',\n",
       "                    'stops': [{'color': [245, 0, 0], 'value': 920},\n",
       "                     {'color': [245, 245, 0], 'value': 1014}],\n",
       "                    'type': 'colorInfo'}]}},\n",
       "                'elevationInfo': {'mode': 'absoluteHeight'}},\n",
       "               'layerType': 'ArcGISFeatureLayer',\n",
       "               'opacity': 1,\n",
       "               'popupInfo': {'mediaInfos': [{'caption': '<div><p><span style=\"font-weight:bold;\">Pressure: </span><span>{airpressure} hPa</span></p><p><span style=\"font-weight:bold;\">Wind speed: </span><span>{wind_mph} mph / {wind_kph} kph</span></p><p /><p><span style=\"font-weight:bold;\">Date: </span><span>{timedescription}</span></p></div>',\n",
       "                  'title': '<div><p style=\"font-weight:bold;\"><span>{typhoonclass} {typhoon}</span></p></div>',\n",
       "                  'type': 'image',\n",
       "                  'value': {'sourceURL': '{image}'}}],\n",
       "                'title': '{typhoon}'},\n",
       "               'title': 'Typhoons Q2',\n",
       "               'url': 'http://services.arcgis.com/P3ePLMYs2RVChkJx/arcgis/rest/services/PacificTyphoons2005_WFL/FeatureServer/4',\n",
       "               'visibility': False}],\n",
       "             'listMode': 'hide-children',\n",
       "             'opacity': 1,\n",
       "             'title': 'April - June',\n",
       "             'visibility': False,\n",
       "             'visibilityMode': 'inherited'},\n",
       "            {'id': '14a37c2a1a7-layer16',\n",
       "             'layerType': 'GroupLayer',\n",
       "             'layers': [{'id': '16c9bf0e374443d394f0b77980171499',\n",
       "               'layerDefinition': {'drawingInfo': {'renderer': {'description': '',\n",
       "                  'label': '',\n",
       "                  'symbol': {'name': 'Pushpin 1',\n",
       "                   'styleName': 'EsriIconsStyle',\n",
       "                   'type': 'styleSymbolReference'},\n",
       "                  'type': 'simple',\n",
       "                  'visualVariables': [{'axis': 'all',\n",
       "                    'minSize': 25,\n",
       "                    'type': 'sizeInfo',\n",
       "                    'valueUnit': 'unknown'}]}},\n",
       "                'elevationInfo': {'mode': 'absoluteHeight'}},\n",
       "               'layerType': 'ArcGISFeatureLayer',\n",
       "               'opacity': 1,\n",
       "               'showLabels': True,\n",
       "               'title': 'Labels Q1',\n",
       "               'url': 'http://services.arcgis.com/P3ePLMYs2RVChkJx/arcgis/rest/services/PacificTyphoons2005_WFL/FeatureServer/2',\n",
       "               'visibility': True},\n",
       "              {'id': '3921d1e5c45c41b4a0b498df8fab4e2c',\n",
       "               'layerDefinition': {'drawingInfo': {'renderer': {'description': '',\n",
       "                  'label': '',\n",
       "                  'symbol': {'name': 'Standing Cylinder',\n",
       "                   'styleName': 'EsriThematicShapesStyle',\n",
       "                   'type': 'styleSymbolReference'},\n",
       "                  'type': 'simple',\n",
       "                  'visualVariables': [{'axis': 'height',\n",
       "                    'field': 'windspeed',\n",
       "                    'minDataValue': 0.0001,\n",
       "                    'minSize': 1,\n",
       "                    'type': 'sizeInfo'},\n",
       "                   {'axis': 'widthAndDepth',\n",
       "                    'minSize': 100000,\n",
       "                    'type': 'sizeInfo',\n",
       "                    'valueUnit': 'meters'},\n",
       "                   {'field': 'airpressure',\n",
       "                    'stops': [{'color': [245, 0, 0], 'value': 920},\n",
       "                     {'color': [245, 245, 0], 'value': 1014}],\n",
       "                    'type': 'colorInfo'}]}},\n",
       "                'elevationInfo': {'mode': 'absoluteHeight'}},\n",
       "               'layerType': 'ArcGISFeatureLayer',\n",
       "               'opacity': 1,\n",
       "               'popupInfo': {'mediaInfos': [{'caption': '<div><p><span style=\"font-weight:bold;\">Pressure: </span><span>{airpressure} hPa</span></p><p><span style=\"font-weight:bold;\">Wind speed: </span><span>{wind_mph} mph / {wind_kph} kph</span></p><p /><p><span style=\"font-weight:bold;\">Date: </span><span>{timedescription}</span></p></div>',\n",
       "                  'title': '<div><p style=\"font-weight:bold;\"><span>{typhoonclass} {typhoon}</span></p></div>',\n",
       "                  'type': 'image',\n",
       "                  'value': {'sourceURL': '{image}'}}],\n",
       "                'title': '{typhoon}'},\n",
       "               'title': 'Typhoons Q1',\n",
       "               'url': 'http://services.arcgis.com/P3ePLMYs2RVChkJx/arcgis/rest/services/PacificTyphoons2005_WFL/FeatureServer/1',\n",
       "               'visibility': True}],\n",
       "             'listMode': 'hide-children',\n",
       "             'opacity': 1,\n",
       "             'title': 'January - March',\n",
       "             'visibility': True,\n",
       "             'visibilityMode': 'inherited'}]),\n",
       "          ('presentation',\n",
       "           {'slides': [{'baseMap': {'baseMapLayers': [{'id': '73e9780a7d6f413f8547abbd19ec786c',\n",
       "                 'layerType': 'ArcGISTiledMapServiceLayer',\n",
       "                 'url': 'http://services.arcgisonline.com/ArcGIS/rest/services/World_Topo_Map/MapServer'}],\n",
       "               'elevationLayers': [{'id': 'globalElevation_0',\n",
       "                 'layerType': 'ArcGISTiledElevationServiceLayer',\n",
       "                 'url': 'http://elevation3d.arcgis.com/arcgis/rest/services/WorldElevation3D/Terrain3D/ImageServer'}],\n",
       "               'id': 'basemap',\n",
       "               'title': 'Topographic',\n",
       "               'visibility': True},\n",
       "              'description': {'text': ''},\n",
       "              'id': 'slide_1',\n",
       "              'thumbnail': {'url': 'data:image/jpeg;base64,/9j/4AAQSkZJRgABAQAAAQABAAD/2wBDAAYEBQYFBAYGBQYHBwYIChAKCgkJChQODwwQFxQYGBcUFhYaHSUfGhsjHBYWICwgIyYnKSopGR8tMC0oMCUoKSj/2wBDAQcHBwoIChMKChMoGhYaKCgoKCgoKCgoKCgoKCgoKCgoKCgoKCgoKCgoKCgoKCgoKCgoKCgoKCgoKCgoKCgoKCj/wAARCAA9AHADASIAAhEBAxEB/8QAHwAAAQUBAQEBAQEAAAAAAAAAAAECAwQFBgcICQoL/8QAtRAAAgEDAwIEAwUFBAQAAAF9AQIDAAQRBRIhMUEGE1FhByJxFDKBkaEII0KxwRVS0fAkM2JyggkKFhcYGRolJicoKSo0NTY3ODk6Q0RFRkdISUpTVFVWV1hZWmNkZWZnaGlqc3R1dnd4eXqDhIWGh4iJipKTlJWWl5iZmqKjpKWmp6ipqrKztLW2t7i5usLDxMXGx8jJytLT1NXW19jZ2uHi4+Tl5ufo6erx8vP09fb3+Pn6/8QAHwEAAwEBAQEBAQEBAQAAAAAAAAECAwQFBgcICQoL/8QAtREAAgECBAQDBAcFBAQAAQJ3AAECAxEEBSExBhJBUQdhcRMiMoEIFEKRobHBCSMzUvAVYnLRChYkNOEl8RcYGRomJygpKjU2Nzg5OkNERUZHSElKU1RVVldYWVpjZGVmZ2hpanN0dXZ3eHl6goOEhYaHiImKkpOUlZaXmJmaoqOkpaanqKmqsrO0tba3uLm6wsPExcbHyMnK0tPU1dbX2Nna4uPk5ebn6Onq8vP09fb3+Pn6/9oADAMBAAIRAxEAPwD5UooooAKKWu7+H3wr8T+OJFbSrIxWW7DXlwdkS/j3PsMn2qowcthNpbnB05Ud/uqx+gr698Hfs4+GtPKtr11cazeIAzQxHyYQe6n+I9c9V+leo2Pg7w1oIij0rw9pluyHKyC3V3x/vtluPc1p7OK3f3GTrJH59Rabey/6u1mb6ITRLpt7F/rLWZfqhFfovJcJGY4mk+c/8s1AJ9ue1QNqZaEC3jdwcg7gCc+hxx+Oa1hh+bTlf3/5pHPLGxifnMyOn3lYfUU2vvbWPD/hzWYZP7S8P2NyX+8y2yBz9HXn9a808V/ATw7qQeXQprrSp2yRHIDJEOOBz8w575P0rSWBf2WKGYU3oz5Uort/HPwz8R+DmMmoWnnWJOFu7f54m9Oe2fQ4NcT061xzpypu0kdsZxmrxYlFFFQUFS2tvLdTpDbxtJK5CqqjJJNNijaWRUjBZmOABX1r8F/hUvg7SLfxDrkUf9sSkFY5ACbRCPQkYfoTkjaM981rThzavb+tDOrU5Fczfg78BLe1jg1jxvEZZj80en9l44Mnqe+0fjnkD3md5rBFjsLFfsKBY1WPau0A44X0A4AGOhp4nnuLZYzKBkkHZHsYEcEck4Oc8j8M9a5iHVra1u4IxdrItwrxtum3CSdCNwjJOCTuJ688ZwRz0xoptKo15L+vuPOrYqTV4J+v9XOgstZgXzIFyrNISgkUg47jJAzg56dsVSu9YSS6eJZVRyo/ekBgBkjoOeD64HP4HG1K+spZ3FtPB5kiLMrq4VvlOGOeoypABPByevfRGkRWyb43eOZiAGiRRtJPUcZ785J4HOa9CFOildHmTq15e72/r+vkLpO2a8nmVd8zs+x2O5WQYHBJ9scdMjOcjM12zrvXyI44g275m4wOT0GPXGcc4poiAkht7pWWRATDPAgyACBwMEjgjPGOueKW/u7Ox09bjVb9AqMR5vmbN20ZIwuPQ8c9KKlSMPfk7IdKnKS5I7/18yzlzGGjCvnkZbAx9cUkt00YIZCkYB3SDnB9h6dea8t1z4n6bY3zf2FbTSEltzhgsch3MM7ef97PBIP4jv8Awbq8mu6Bb31zEkFw+Q8a5wpzx19sGuKlmGGrVfZU3d/M7p4SvThz1Fb7v+HNIxwzxPDMiSxMCjqwDAg9Qw7/AENeE/Fr4FQXcM2reDYxFcAb5LAfdf18v0P+z09McCveJIthBVMqOPl4I5HT29vanxuSAQeP1rrlFSVnqjOnUlTeh+dl1by2tw8FxG0cqEqysMEEVFX1z8c/hXF4ospdZ0OALrUS7pI0H/HyB7f3/T16dcV8kyxtFIySAqynBBry69B0ndbHr0ayqq/U+hf2WPhwuq6ifFGrQhrS0fFqjdHlHO76Lwfrj0NfSniCPWrmf7LYy2tvbsh3XMmZJFz2VOB+Z7irfhDRbbw7oNlpNim22tIljXjBY/xN9SeT7k1ZuC32o7T8g+YsDnI7jkcUq3s5WV3ZbW0v/wAOY3k7+Zw2ueA2vo1EGu3kFzsCE7FwwyThgu0nkk5OT9ayrnwDdCNmv9XUys3mNKkBBZ1ClJvvfLIDuBYfeGM8kmvRpLgNcERL87HJJ7+3tUN5ve4LHkHp6DmnDAUvaqbXrdsyeJkqfJF+mh5hJ8NzcwRodQ2ohOyJItiorD51BJbAJw2MEKc465qbRYNa8MXiLqcrX+moSSqffhdjgMPVTufA9/UYr0Yq2wAMVPqMU4qrgiRFdSCpDDqD1FdP1ainzRVn0aev+TXkzllOo1bm07Pb/gfIxbbXbK+8trKUCdVyY5lMZwwGFJI45K+tYHiDQ7fxX4qmivJLmG2sLZEeNMASO4fo2OwJz+FdQfD+nFIQY3DRPvhcOd0Zx0B7rnnacjPasTS7b+wtV1Sa7jeeS4SJpJYIT+92oVBC5OMEAYBwBycZBrlxkoxUFiNY829n2drrW2tu69NDXD86cnDR2+7vb5ehLpPhXSdHKNp1hao6MCsjwq7qBxw/DdO5JrfBzz2NMtri3u7dZ7WZJIXPyMGBzxn+VTbSO1ehRnSnBSpWs+xjOM07TvfzDt1z6Uqhd/zcU/aoUcn3oePI+Xk1dxWEZR95R+FfMH7TPw+TT7tfFOkxbbW6fbdovRJTzu+jc/iD6ivpwNhcd6o+ItMttf0O90q/UG2uojG3HIz0Ye4OCPcClKKkuWWxpSqezlzI6xlHlMu0MCSCKqSq0eEXB3feJJGB+XNXo/nyxzyenbNZ+ozC1eMBS3mMQMn7vf8ApXjulqp9jvvf3RhjWJ1IT/gXIp00J27s884+U81UadmvUj5wwY9Txggf1q9bysUkXj5MAV2TcoJM5UlLQpEHGSOKKuqdyAED72Oe/H/16ryxgcjiili41JKHUmdFxVyNzljUDQRfaludp89UKBsn7pIJ46dQKvLADGGyc5xUE8flgHOc8V0+7LRmbTWpBb20EIkWCGNFlYu4VcBmPU/U082yBCAuwf7BK/yqSLlhU7Dt1oso6JArvUpeUd2fNcr2U4x/LP61IrMsZyC20EgZ/wAaU8E0VQissiS7mQ9Dg47H0pVJ4B+lSyjIB9qiHTFWtiHuf//Z'},\n",
       "              'title': {'text': 'Start of 2005'},\n",
       "              'viewpoint': {'camera': {'heading': 351.1964858600443,\n",
       "                'position': {'spatialReference': {'wkid': 102100},\n",
       "                 'x': 16338046.55787945,\n",
       "                 'y': -255903.18543654634,\n",
       "                 'z': 6324439.902154693},\n",
       "                'tilt': 17.653475866991755},\n",
       "               'scale': 17308012.743044183,\n",
       "               'targetGeometry': {'spatialReference': {'wkid': 102100},\n",
       "                'xmax': 19230710.0979518,\n",
       "                'xmin': 12763430.856557569,\n",
       "                'ymax': 5583288.779274275,\n",
       "                'ymin': -1210472.734638156}},\n",
       "              'visibleLayers': [{'id': '882ce65eceda4e2ba2ad65f9e2c0632f'},\n",
       "               {'id': '14a37c2a1a7-layer16'},\n",
       "               {'id': '16c9bf0e374443d394f0b77980171499'},\n",
       "               {'id': '3921d1e5c45c41b4a0b498df8fab4e2c'}]},\n",
       "             {'baseMap': {'baseMapLayers': [{'id': '73e9780a7d6f413f8547abbd19ec786c',\n",
       "                 'layerType': 'ArcGISTiledMapServiceLayer',\n",
       "                 'url': 'http://services.arcgisonline.com/ArcGIS/rest/services/World_Topo_Map/MapServer'}],\n",
       "               'elevationLayers': [{'id': 'globalElevation_0',\n",
       "                 'layerType': 'ArcGISTiledElevationServiceLayer',\n",
       "                 'url': 'http://elevation3d.arcgis.com/arcgis/rest/services/WorldElevation3D/Terrain3D/ImageServer'}],\n",
       "               'id': 'basemap',\n",
       "               'title': 'Topographic',\n",
       "               'visibility': True},\n",
       "              'description': {'text': ''},\n",
       "              'id': 'slide_2',\n",
       "              'thumbnail': {'url': 'data:image/jpeg;base64,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'},\n",
       "              'title': {'text': 'August origins'},\n",
       "              'viewpoint': {'camera': {'heading': 315.5348196196585,\n",
       "                'position': {'spatialReference': {'wkid': 102100},\n",
       "                 'x': 18034663.07613952,\n",
       "                 'y': 544179.4588633721,\n",
       "                 'z': 2819426.3450047094},\n",
       "                'tilt': 37.399468879606104},\n",
       "               'scale': 7737759.332723031,\n",
       "               'targetGeometry': {'spatialReference': {'wkid': 102100},\n",
       "                'xmax': 18071800.740437724,\n",
       "                'xmin': 14071538.172449483,\n",
       "                'ymax': 4593143.012538526,\n",
       "                'ymin': 516126.52477937605}},\n",
       "              'visibleLayers': [{'id': '882ce65eceda4e2ba2ad65f9e2c0632f'},\n",
       "               {'id': '14a37c78bc8-layer19'},\n",
       "               {'id': '6e54f2736388480ab0a214cb468d48f9'},\n",
       "               {'id': '6b549bb78d824b4c8d24f5c90b93c4f6'}]},\n",
       "             {'baseMap': {'baseMapLayers': [{'id': '73e9780a7d6f413f8547abbd19ec786c',\n",
       "                 'layerType': 'ArcGISTiledMapServiceLayer',\n",
       "                 'url': 'http://services.arcgisonline.com/ArcGIS/rest/services/World_Topo_Map/MapServer'}],\n",
       "               'elevationLayers': [{'id': 'globalElevation_0',\n",
       "                 'layerType': 'ArcGISTiledElevationServiceLayer',\n",
       "                 'url': 'http://elevation3d.arcgis.com/arcgis/rest/services/WorldElevation3D/Terrain3D/ImageServer'}],\n",
       "               'id': 'basemap',\n",
       "               'title': 'Topographic',\n",
       "               'visibility': True},\n",
       "              'description': {'text': ''},\n",
       "              'id': 'slide_3',\n",
       "              'thumbnail': {'url': 'data:image/jpeg;base64,/9j/4AAQSkZJRgABAQAAAQABAAD/2wBDAAYEBQYFBAYGBQYHBwYIChAKCgkJChQODwwQFxQYGBcUFhYaHSUfGhsjHBYWICwgIyYnKSopGR8tMC0oMCUoKSj/2wBDAQcHBwoIChMKChMoGhYaKCgoKCgoKCgoKCgoKCgoKCgoKCgoKCgoKCgoKCgoKCgoKCgoKCgoKCgoKCgoKCgoKCj/wAARCAA9AHADASIAAhEBAxEB/8QAHwAAAQUBAQEBAQEAAAAAAAAAAAECAwQFBgcICQoL/8QAtRAAAgEDAwIEAwUFBAQAAAF9AQIDAAQRBRIhMUEGE1FhByJxFDKBkaEII0KxwRVS0fAkM2JyggkKFhcYGRolJicoKSo0NTY3ODk6Q0RFRkdISUpTVFVWV1hZWmNkZWZnaGlqc3R1dnd4eXqDhIWGh4iJipKTlJWWl5iZmqKjpKWmp6ipqrKztLW2t7i5usLDxMXGx8jJytLT1NXW19jZ2uHi4+Tl5ufo6erx8vP09fb3+Pn6/8QAHwEAAwEBAQEBAQEBAQAAAAAAAAECAwQFBgcICQoL/8QAtREAAgECBAQDBAcFBAQAAQJ3AAECAxEEBSExBhJBUQdhcRMiMoEIFEKRobHBCSMzUvAVYnLRChYkNOEl8RcYGRomJygpKjU2Nzg5OkNERUZHSElKU1RVVldYWVpjZGVmZ2hpanN0dXZ3eHl6goOEhYaHiImKkpOUlZaXmJmaoqOkpaanqKmqsrO0tba3uLm6wsPExcbHyMnK0tPU1dbX2Nna4uPk5ebn6Onq8vP09fb3+Pn6/9oADAMBAAIRAxEAPwD5UopyIznCgmtLTtDvtQmWK2gklkY4CopYmtIUp1HaKuJyUdzLpQM9K9k8L/ALxZq4R57JbCFur3jbCP8AgP3v0r1DQv2a9Ntwja1rMkrj70drFtH/AH0f8K3WFt8ckvx/IxlXitj5g0HQ7nWbkxQbUVBudm6gew7mtfxx4fi03ULVNOhKwvAC3zE5fJyeSe2K+gfH/grRfAsulQaIJ1ivFl3meXOWTZjsBn5u3pVfwPpEms38dlGLMMmJ5JZ7ZZiET5Sq7ugJYE467R2zXg1cTKGZKg7uPl1uv8z0IQjLCuqt/PpqfMo065PSM099JvUUs8EiqDtJKkc+lfc0HgHQbbT/AC3tvtUHntJmQAMpPy7crgleOh45pLjwT4a3m5NgkTbQC6yMgwMYzzjsOa9yeHna8Ir5yt/7azzPrdO9nf7v+CfFfhPTGn8SWEVxCHiMnzKwyCACeRXUeGoohp814II45JbiWeNNgAVQCNo9BkqMV7X45Xw1ptvDZabaRyXumS+ZLLtUPKnlsfLMg+b+Je3b2rhNQhtBLB9ls444ppztgBIWNWO/A5zxgDr2r5rM8TT53CL10TXRNX5lfTyPWwabSk1pr+ljzXxH4cRIDdaZHtWJT5sQbOFGcyZLZOcdAOMVyNetyyxpqNyYlX7JFGyeWRlWUcBTnOcnd1rH1DwBNcxw3Gjo8nnDPkM6+ZnPZRjIJyBx1BA6GurLsQ6j9lN69L/k/MWJpJLnijzyitTUdDvtPmaO5gkidTgq6lSKzXRkOGBFetOlOm7SVjiUlLY+tfBf7PWm2SRz+Jbs3UoGTb23yoPqx5P4D8a9l8P6Jo+gQiLR9OtbNRxmJcM31c8n861pIGWPJBPcDtRbW3nDOcKOCc965amNxFV8uy7LRf16mKpq/mPe4baSAAg7g5psU4nGMsCq5OD/ADovflVox8sa9Nw6/T8jXmnxK8TwWOmXOlWV1IupShQTEeI13AkOc55AxgfjxweepivYXlUd1/WiNadB1ZckNzB+OWordapp1nDdW9zaoj7o0wzQzKeSx7EggYz/AAmt74Nafp/9hyahGzm9lcxSbwNq7fmAU4yAQy556gV4tNK7sWY56N144PNe0fAueb+xtTt2R1hWYSRvt+VmIwQPoFX8xXl4HESr472trN387aHo4qiqWF5L6fdc9A1pVMa7QQ2Pvjv/AIjmvGvjjqckMfh+1VwnmXEvmKXwDtQf/Fgj6jpXt0u1nKOgwe+7J/Kvnz9qa3SCTw00f3m+059ePLx/M19Ni6sKuDnTT8vxR42Epyhi4T6HFzE+TLwNzlVPvkgH9DWvfaddnS7S8hsbt4bdLid5kiJjKgKF5AxkbH/OvO7PXLlLeGIhXZXxubncuOh/xrtvDPxJvdE08rZzRNb4aT7POhO1u+CMHt0zivkaGGjCbVa/K9LrXt/kfU4ii6656DV97PT8TkrSJ5hHHyz3EvPfIXr+Zwa7Twm1sNcvteuznS9Eh3IUZirlDtQKSON8p3YP941yNpcwxKs9k+6UR+XFtfDITnDeuQTn8K6KeAjRtF8OafiS4vpFu7kIRk8lIYyQf95iD/eWumg7Scn01+7b8baeRhi6MqSUX1/Xf8LntNhqOg+N9DN1rNjam2EnkA3eOuM7Vc4bOOwxXn3i/wCCWhX1xKnh3U4rW+A3GzuJA3bPBHzDt1B+tc3421ZYdSt9LsJmGm6BGYd0ZI86cn963ry3ygcjjjg1gWuqX1lHJfG6lOo3DYhG9sqcAbx6bQABz129QCK9uOc1qVqM0pWtdv8AHpb5o8eOXxl+8g3G97L8j7VuYpCBtOc8ZPYVF522IbEYEHjd/EeBmprtd5YRBsEZJPXntz09ao3ZMa4CkBQByc4Hp/n3rF+6ySxO3nQKUICg4JY9fpXzt8VbaSx8a3UccQ8m5iS4Vx75VsjHXcrH8RX0BOjFgNxbAwK8S+MdiLTxNb3OQFvIOhPJdOGxz/dKdv51Ob4WKwntLXd18jfKqzeL5L2TT+Z57GQyjOPQ/j/9evpb4d6cNO8L6fFDcNco0YmV2Xbw/wA2AO3X1r5/8D6auseKrDT8K0TTAushIDIo3sOOeikfjX0/ZwC3hSO3VI0VdioFwqqOAMentXPkFC3PW+S/N/oaZxOzjS+Yy+K5jkY/ODhVB4PXn/PpXzx+1HNJLe+HOAIFhmC4PAfKBgB6fd/OvftQhZ7jYXITjnIB+nH+cD6V4P8AtRWr20HhoyD7xuc4H3f9Vxn8/wAq7MReXM7GGFSU4o8JU4jzjorH8+KW4+S2VB1wF/E9f0FGCQqZ6lVx7daH/fXiKCCF5/z+GK8/qe9TVyWO5eye3WIAt1YHuOn+NeheG7l9K02TW5IzDdzxvDpuecv0eXnqEDf99EehxwWg6fPrmuwW1ou6WeQRxg9BnjJ9AByT9a0fF+rpqniGKLSXZdL02MWlkRxuRc5kOAOXYsx4/ix2qlSVvadVt6/8D/I0nVc7UHrGW68l/n+VyRrcIIo5Dttoh5kjn+Jv8/zrofCOnWt1LdeIdfDxaLYgFkByzn+CFOmWY9encnFZ+pWtrGYtOlnkk1K3Ae9AYbEc9IwMdVHDc/eyO2TZ16e4urSzghtprfQ7cBoog24Sz7QHcnucjoeg6YzzhTSpt+03XTv/AF1+458XQk0p0F7sno+39dPvPsa8uS+ETgA4+WqFuDeSHYwZEbDHPcdv1/TtWg1ks8ZUOULLnI7DjIH5n+uehq20McdvviXaDkBc9AM4/lXscrTTkeE1fYl2/MSepryb45WlxHFpl2rFrNS8bLxhHOCD6nIB+m33r0t5XDpHAdjSKGLHJHIc9OP7n61W8X6RD4h8K3+n3R2+ahVZMZ2OvzI+MjOGCnHfFa4i2MoyoPRv9CMM/qlaNZ6pfqeDfCrV7TSvHlpcXxgS3mVoGlmA/dZHDA/w8gAn0Jr6NvbkA+Xb8NnDNjpXxraytLaxyPjcygn616T8NfHWswa9p+nXEqXViU8hI3RQYwq/KQwGeMDrnj8CPDwGMdGPsJbNn0+Z5V7f/aafRap/ee7rbo/mRxyI1wqc5GAM8Z965f4r+HJfFPga70uAIb5VWW3DYI8xOgBPQkZXPGN3pmuv0+NPsy3BXM0mdzZ68/8A1qgkJLsTX02HoRnFuXVHx9WtKEk49D4cv7C60zVJrO/ge3urdmDo45U5wPw6c1Q3YhlkHWQ7F+n/AOqvsLxx4B0XxdFNJfQmPUTAYYrxGbdH1IJUEBgCeh/MV8j31oLXVBZ796wkjdjGTnr+leTisJLDu71R9HgMbHExstJf5mxpsg0Lwrd34IF9f7rG19VQqPPk/wC+WVB6+YxHK1W0R10SwbV5ADchjHZKRnMwAJc9sICD7sU4I3Yi1qU3evC0b5YLEfY4lHIAVjk/8Ccu5HYse1UtRuDf6kFIKQQDyYY9xbYgJ4z6kkscYGWJwOlZP3Hyvp+f9fodEbVFzR+1t6f1+pPoVn580l5dzvBawjzJ5+rAHsoz8zk8AZGT1IAJFufxLPfaqJBD5dkiCGG2DZ8qMEkc92ySSeMkk8cYp+ILkpMdKgXy7W1kKkA8yyDgyN+oA6KPUlmbPl/dKsacbxkn+lTNJpxfU0pycZKcX8O39f1of//Z'},\n",
       "              'title': {'text': 'August in Japan'},\n",
       "              'viewpoint': {'camera': {'heading': 41.187868723912416,\n",
       "                'position': {'spatialReference': {'wkid': 102100},\n",
       "                 'x': 14317116.922236785,\n",
       "                 'y': 3162810.5410621683,\n",
       "                 'z': 1942131.4690581001},\n",
       "                'tilt': 38.22074788332464},\n",
       "               'scale': 5977175.794663719,\n",
       "               'targetGeometry': {'spatialReference': {'wkid': 102100},\n",
       "                'xmax': 17329254.887698036,\n",
       "                'xmin': 14212941.909390198,\n",
       "                'ymax': 6343789.09167628,\n",
       "                'ymin': 3183340.4223876353}},\n",
       "              'visibleLayers': [{'id': '882ce65eceda4e2ba2ad65f9e2c0632f'},\n",
       "               {'id': '14a37c78bc8-layer19'},\n",
       "               {'id': '6e54f2736388480ab0a214cb468d48f9'},\n",
       "               {'id': '6b549bb78d824b4c8d24f5c90b93c4f6'}]},\n",
       "             {'baseMap': {'baseMapLayers': [{'id': '73e9780a7d6f413f8547abbd19ec786c',\n",
       "                 'layerType': 'ArcGISTiledMapServiceLayer',\n",
       "                 'url': 'http://services.arcgisonline.com/ArcGIS/rest/services/World_Topo_Map/MapServer'}],\n",
       "               'elevationLayers': [{'id': 'globalElevation_0',\n",
       "                 'layerType': 'ArcGISTiledElevationServiceLayer',\n",
       "                 'url': 'http://elevation3d.arcgis.com/arcgis/rest/services/WorldElevation3D/Terrain3D/ImageServer'}],\n",
       "               'id': 'basemap',\n",
       "               'title': 'Topographic',\n",
       "               'visibility': True},\n",
       "              'description': {'text': ''},\n",
       "              'id': 'slide_4',\n",
       "              'thumbnail': {'url': 'data:image/jpeg;base64,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'},\n",
       "              'title': {'text': 'All Typhoons'},\n",
       "              'viewpoint': {'camera': {'heading': 3.086488857999165,\n",
       "                'position': {'spatialReference': {'wkid': 102100},\n",
       "                 'x': 15204174.902554411,\n",
       "                 'y': 1790041.1372453775,\n",
       "                 'z': 10970890.001691733},\n",
       "                'tilt': 4.939849335423939},\n",
       "               'scale': 31188997.007979963,\n",
       "               'targetGeometry': {'spatialReference': {'wkid': 102100},\n",
       "                'xmax': 60177194.60815952,\n",
       "                'xmin': 10395709.650468588,\n",
       "                'ymax': 9092227.091906952,\n",
       "                'ymin': -1971400.5897845216}},\n",
       "              'visibleLayers': [{'id': '882ce65eceda4e2ba2ad65f9e2c0632f'},\n",
       "               {'id': '14a37c86f84-layer21'},\n",
       "               {'id': '7a24e304d2474d7eb29a712c95202140'},\n",
       "               {'id': '10944e27c9f04bc39b5821c0046523a5'},\n",
       "               {'id': '14a37c7f247-layer20'},\n",
       "               {'id': '90eba5af0b084c569a55ebc9b3bfc21e'},\n",
       "               {'id': '341d7b380907439990e4c238147b46ce'},\n",
       "               {'id': '14a37c78bc8-layer19'},\n",
       "               {'id': '6e54f2736388480ab0a214cb468d48f9'},\n",
       "               {'id': '6b549bb78d824b4c8d24f5c90b93c4f6'},\n",
       "               {'id': '14a37c4590b-layer18'},\n",
       "               {'id': 'b8cc403be27e475ca93db04a34845e89'},\n",
       "               {'id': 'e60bd6abdb094bf2b9daacd8bb57495c'},\n",
       "               {'id': '14a37c397dc-layer17'},\n",
       "               {'id': '56803f3d64184140950f0ef1256a0603'},\n",
       "               {'id': '72668fcc8a904bd6a1444bef2e72f420'},\n",
       "               {'id': '14a37c2a1a7-layer16'},\n",
       "               {'id': '16c9bf0e374443d394f0b77980171499'},\n",
       "               {'id': '3921d1e5c45c41b4a0b498df8fab4e2c'}]}]})])"
      ]
     },
     "execution_count": 19,
     "metadata": {},
     "output_type": "execute_result"
    }
   ],
   "source": [
    "web_scene_item = search_result[0]\n",
    "web_scene_obj = arcgis.viz.WebScene(web_scene_item)\n",
    "\n",
    "# display in an interactive widget\n",
    "web_scene_obj"
   ]
  },
  {
   "cell_type": "markdown",
   "metadata": {
    "collapsed": true
   },
   "source": [
    "This is a great web scene and it displays a lot of hurricane tracks. However, we want to create a new one with only a particular subset of data and customize the basemaps. To modify this web scene, let us first make a copy of it and publish it into your portal."
   ]
  },
  {
   "cell_type": "markdown",
   "metadata": {},
   "source": [
    "## Make a copy of the public web scene item\n",
    "To make a copy, we essentially download the content of the web scene JSON, remove the parts we don't want, add the layers that we want and publish a new item using that information. The publishing steps is similar to what is described earlier in the **data preparation** section and in detail in the sample titled **Publishing web maps and web scenes**.\n",
    "\n",
    "Let's say, we are only interested in the storms that occur in summer. Summer in tropical Asia is around April-June and that matches with a layer in the existing web scene. Let us query the `operationalLayers` section of the web scene to understand how the layers look like.\n",
    "\n",
    "### Update operational layers of new web scene"
   ]
  },
  {
   "cell_type": "code",
   "execution_count": 20,
   "metadata": {
    "collapsed": false
   },
   "outputs": [
    {
     "data": {
      "text/plain": [
       "[{'id': '882ce65eceda4e2ba2ad65f9e2c0632f',\n",
       "  'layerDefinition': {'drawingInfo': {'renderer': {'description': '',\n",
       "     'label': '',\n",
       "     'symbol': {'symbolLayers': [{'material': {'color': [0, 169, 230],\n",
       "         'transparency': 0},\n",
       "        'size': 5,\n",
       "        'type': 'Line'}],\n",
       "      'type': 'LineSymbol3D'},\n",
       "     'type': 'simple'}},\n",
       "   'elevationInfo': {'mode': 'onTheGround'},\n",
       "   'minScale': 120000000},\n",
       "  'layerType': 'ArcGISFeatureLayer',\n",
       "  'opacity': 1,\n",
       "  'popupInfo': {'description': '<div><p><span style=\"font-weight:bold;\">Typhoon {name}</span></p><p><span style=\"font-weight:bold;\">Started: </span><span>{datedescription}</span></p></div>',\n",
       "   'mediaInfos': [],\n",
       "   'title': '{name}'},\n",
       "  'title': 'Typhoon Paths',\n",
       "  'url': 'http://services.arcgis.com/P3ePLMYs2RVChkJx/arcgis/rest/services/PacificTyphoons2005_WFL/FeatureServer/18',\n",
       "  'visibility': True},\n",
       " {'id': '14a37c86f84-layer21',\n",
       "  'layerType': 'GroupLayer',\n",
       "  'layers': [{'id': '7a24e304d2474d7eb29a712c95202140',\n",
       "    'layerDefinition': {'drawingInfo': {'renderer': {'description': '',\n",
       "       'label': '',\n",
       "       'symbol': {'name': 'Pushpin 1',\n",
       "        'styleName': 'EsriIconsStyle',\n",
       "        'type': 'styleSymbolReference'},\n",
       "       'type': 'simple',\n",
       "       'visualVariables': [{'axis': 'all',\n",
       "         'minSize': 25,\n",
       "         'type': 'sizeInfo',\n",
       "         'valueUnit': 'unknown'}]}},\n",
       "     'elevationInfo': {'mode': 'absoluteHeight'}},\n",
       "    'layerType': 'ArcGISFeatureLayer',\n",
       "    'opacity': 1,\n",
       "    'showLabels': True,\n",
       "    'title': 'Labels Q4',\n",
       "    'url': 'http://services.arcgis.com/P3ePLMYs2RVChkJx/arcgis/rest/services/PacificTyphoons2005_WFL/FeatureServer/17',\n",
       "    'visibility': False},\n",
       "   {'id': '10944e27c9f04bc39b5821c0046523a5',\n",
       "    'layerDefinition': {'drawingInfo': {'renderer': {'description': '',\n",
       "       'label': '',\n",
       "       'symbol': {'name': 'Standing Cylinder',\n",
       "        'styleName': 'EsriThematicShapesStyle',\n",
       "        'type': 'styleSymbolReference'},\n",
       "       'type': 'simple',\n",
       "       'visualVariables': [{'axis': 'height',\n",
       "         'field': 'windspeed',\n",
       "         'minDataValue': 0.0001,\n",
       "         'minSize': 1,\n",
       "         'type': 'sizeInfo'},\n",
       "        {'axis': 'widthAndDepth',\n",
       "         'minSize': 100000,\n",
       "         'type': 'sizeInfo',\n",
       "         'valueUnit': 'meters'},\n",
       "        {'field': 'airpressure',\n",
       "         'stops': [{'color': [245, 0, 0], 'value': 920},\n",
       "          {'color': [245, 245, 0], 'value': 1014}],\n",
       "         'type': 'colorInfo'}]}},\n",
       "     'elevationInfo': {'mode': 'absoluteHeight'}},\n",
       "    'layerType': 'ArcGISFeatureLayer',\n",
       "    'opacity': 1,\n",
       "    'popupInfo': {'mediaInfos': [{'caption': '<div><p><span style=\"font-weight:bold;\">Pressure: </span><span>{airpressure} hPa</span></p><p><span style=\"font-weight:bold;\">Wind speed: </span><span>{wind_mph} mph / {wind_kph} kph</span></p><p /><p><span style=\"font-weight:bold;\">Date: </span><span>{timedescription}</span></p></div>',\n",
       "       'title': '<div><p><span style=\"font-weight:bold;\">{typhoonclass} {typhoon}</span></p></div>',\n",
       "       'type': 'image',\n",
       "       'value': {'sourceURL': '{image}'}}],\n",
       "     'title': '{typhoon}'},\n",
       "    'title': 'Typhoons Q4',\n",
       "    'url': 'http://services.arcgis.com/P3ePLMYs2RVChkJx/arcgis/rest/services/PacificTyphoons2005_WFL/FeatureServer/16',\n",
       "    'visibility': False}],\n",
       "  'listMode': 'hide-children',\n",
       "  'opacity': 1,\n",
       "  'title': 'October - December',\n",
       "  'visibility': False,\n",
       "  'visibilityMode': 'inherited'},\n",
       " {'id': '14a37c7f247-layer20',\n",
       "  'layerType': 'GroupLayer',\n",
       "  'layers': [{'id': '90eba5af0b084c569a55ebc9b3bfc21e',\n",
       "    'layerDefinition': {'drawingInfo': {'renderer': {'description': '',\n",
       "       'label': '',\n",
       "       'symbol': {'name': 'Pushpin 1',\n",
       "        'styleName': 'EsriIconsStyle',\n",
       "        'type': 'styleSymbolReference'},\n",
       "       'type': 'simple',\n",
       "       'visualVariables': [{'axis': 'all',\n",
       "         'minSize': 25,\n",
       "         'type': 'sizeInfo',\n",
       "         'valueUnit': 'unknown'}]}},\n",
       "     'elevationInfo': {'mode': 'absoluteHeight'}},\n",
       "    'layerType': 'ArcGISFeatureLayer',\n",
       "    'opacity': 1,\n",
       "    'showLabels': True,\n",
       "    'title': 'Labels Q3_3',\n",
       "    'url': 'http://services.arcgis.com/P3ePLMYs2RVChkJx/arcgis/rest/services/PacificTyphoons2005_WFL/FeatureServer/14',\n",
       "    'visibility': False},\n",
       "   {'id': '341d7b380907439990e4c238147b46ce',\n",
       "    'layerDefinition': {'drawingInfo': {'renderer': {'description': '',\n",
       "       'label': '',\n",
       "       'symbol': {'name': 'Standing Cylinder',\n",
       "        'styleName': 'EsriThematicShapesStyle',\n",
       "        'type': 'styleSymbolReference'},\n",
       "       'type': 'simple',\n",
       "       'visualVariables': [{'axis': 'height',\n",
       "         'field': 'windspeed',\n",
       "         'minDataValue': 0.0001,\n",
       "         'minSize': 1,\n",
       "         'type': 'sizeInfo'},\n",
       "        {'axis': 'widthAndDepth',\n",
       "         'minSize': 100000,\n",
       "         'type': 'sizeInfo',\n",
       "         'valueUnit': 'meters'},\n",
       "        {'field': 'airpressure',\n",
       "         'stops': [{'color': [245, 0, 0], 'value': 920},\n",
       "          {'color': [245, 245, 0], 'value': 1014}],\n",
       "         'type': 'colorInfo'}]}},\n",
       "     'elevationInfo': {'mode': 'absoluteHeight'}},\n",
       "    'layerType': 'ArcGISFeatureLayer',\n",
       "    'opacity': 1,\n",
       "    'popupInfo': {'mediaInfos': [{'caption': '<div><p><span style=\"font-weight:bold;\">Pressure: </span><span>{airpressure} hPa</span></p><p><span style=\"font-weight:bold;\">Wind speed: </span><span>{wind_mph} mph / {wind_kph} kph</span></p><p /><p><span style=\"font-weight:bold;\">Date: </span><span>{timedescription}</span></p></div>',\n",
       "       'title': '<div><p><span style=\"font-weight:bold;\">{typhoonclass} {typhoon}</span></p></div>',\n",
       "       'type': 'image',\n",
       "       'value': {'sourceURL': '{image}'}}],\n",
       "     'title': '{typhoon}'},\n",
       "    'title': 'Typhoons Q3_3',\n",
       "    'url': 'http://services.arcgis.com/P3ePLMYs2RVChkJx/arcgis/rest/services/PacificTyphoons2005_WFL/FeatureServer/13',\n",
       "    'visibility': False}],\n",
       "  'listMode': 'hide-children',\n",
       "  'opacity': 1,\n",
       "  'title': 'September',\n",
       "  'visibility': False,\n",
       "  'visibilityMode': 'inherited'},\n",
       " {'id': '14a37c78bc8-layer19',\n",
       "  'layerType': 'GroupLayer',\n",
       "  'layers': [{'id': '6e54f2736388480ab0a214cb468d48f9',\n",
       "    'layerDefinition': {'drawingInfo': {'renderer': {'description': '',\n",
       "       'label': '',\n",
       "       'symbol': {'name': 'Pushpin 1',\n",
       "        'styleName': 'EsriIconsStyle',\n",
       "        'type': 'styleSymbolReference'},\n",
       "       'type': 'simple',\n",
       "       'visualVariables': [{'axis': 'all',\n",
       "         'minSize': 25,\n",
       "         'type': 'sizeInfo',\n",
       "         'valueUnit': 'unknown'}]}},\n",
       "     'elevationInfo': {'mode': 'absoluteHeight'}},\n",
       "    'layerType': 'ArcGISFeatureLayer',\n",
       "    'opacity': 1,\n",
       "    'showLabels': True,\n",
       "    'title': 'Labels Q3_2',\n",
       "    'url': 'http://services.arcgis.com/P3ePLMYs2RVChkJx/arcgis/rest/services/PacificTyphoons2005_WFL/FeatureServer/11',\n",
       "    'visibility': False},\n",
       "   {'id': '6b549bb78d824b4c8d24f5c90b93c4f6',\n",
       "    'layerDefinition': {'drawingInfo': {'renderer': {'description': '',\n",
       "       'label': '',\n",
       "       'symbol': {'name': 'Standing Cylinder',\n",
       "        'styleName': 'EsriThematicShapesStyle',\n",
       "        'type': 'styleSymbolReference'},\n",
       "       'type': 'simple',\n",
       "       'visualVariables': [{'axis': 'height',\n",
       "         'field': 'windspeed',\n",
       "         'minDataValue': 0.0001,\n",
       "         'minSize': 1,\n",
       "         'type': 'sizeInfo'},\n",
       "        {'axis': 'widthAndDepth',\n",
       "         'minSize': 100000,\n",
       "         'type': 'sizeInfo',\n",
       "         'valueUnit': 'meters'},\n",
       "        {'field': 'airpressure',\n",
       "         'stops': [{'color': [245, 0, 0], 'value': 920},\n",
       "          {'color': [245, 245, 0], 'value': 1014}],\n",
       "         'type': 'colorInfo'}]}},\n",
       "     'elevationInfo': {'mode': 'absoluteHeight'}},\n",
       "    'layerType': 'ArcGISFeatureLayer',\n",
       "    'opacity': 1,\n",
       "    'popupInfo': {'mediaInfos': [{'caption': '<div><p><span style=\"font-weight:bold;\">Pressure: </span><span>{airpressure} hPa</span></p><p><span style=\"font-weight:bold;\">Wind speed: </span><span>{wind_mph} mph / {wind_kph} kph</span></p><p /><p><span style=\"font-weight:bold;\">Date: </span><span>{timedescription}</span></p></div>',\n",
       "       'title': '<div><p><span style=\"font-weight:bold;\">{typhoonclass} {typhoon}</span></p></div>',\n",
       "       'type': 'image',\n",
       "       'value': {'sourceURL': '{image}'}}],\n",
       "     'title': '{typhoon}'},\n",
       "    'title': 'Typhoons Q3_2',\n",
       "    'url': 'http://services.arcgis.com/P3ePLMYs2RVChkJx/arcgis/rest/services/PacificTyphoons2005_WFL/FeatureServer/10',\n",
       "    'visibility': False}],\n",
       "  'listMode': 'hide-children',\n",
       "  'opacity': 1,\n",
       "  'title': 'August',\n",
       "  'visibility': False,\n",
       "  'visibilityMode': 'inherited'},\n",
       " {'id': '14a37c4590b-layer18',\n",
       "  'layerType': 'GroupLayer',\n",
       "  'layers': [{'id': 'b8cc403be27e475ca93db04a34845e89',\n",
       "    'layerDefinition': {'drawingInfo': {'renderer': {'description': '',\n",
       "       'label': '',\n",
       "       'symbol': {'name': 'Pushpin 1',\n",
       "        'styleName': 'EsriIconsStyle',\n",
       "        'type': 'styleSymbolReference'},\n",
       "       'type': 'simple',\n",
       "       'visualVariables': [{'axis': 'all',\n",
       "         'minSize': 25,\n",
       "         'type': 'sizeInfo',\n",
       "         'valueUnit': 'unknown'}]}},\n",
       "     'elevationInfo': {'mode': 'absoluteHeight'}},\n",
       "    'layerType': 'ArcGISFeatureLayer',\n",
       "    'opacity': 1,\n",
       "    'showLabels': True,\n",
       "    'title': 'Labels Q3_1',\n",
       "    'url': 'http://services.arcgis.com/P3ePLMYs2RVChkJx/arcgis/rest/services/PacificTyphoons2005_WFL/FeatureServer/8',\n",
       "    'visibility': False},\n",
       "   {'id': 'e60bd6abdb094bf2b9daacd8bb57495c',\n",
       "    'layerDefinition': {'drawingInfo': {'renderer': {'description': '',\n",
       "       'label': '',\n",
       "       'symbol': {'name': 'Standing Cylinder',\n",
       "        'styleName': 'EsriThematicShapesStyle',\n",
       "        'type': 'styleSymbolReference'},\n",
       "       'type': 'simple',\n",
       "       'visualVariables': [{'axis': 'height',\n",
       "         'field': 'windspeed',\n",
       "         'minDataValue': 0.0001,\n",
       "         'minSize': 1,\n",
       "         'type': 'sizeInfo'},\n",
       "        {'axis': 'widthAndDepth',\n",
       "         'minSize': 100000,\n",
       "         'type': 'sizeInfo',\n",
       "         'valueUnit': 'meters'},\n",
       "        {'field': 'airpressure',\n",
       "         'stops': [{'color': [245, 0, 0], 'value': 920},\n",
       "          {'color': [245, 245, 0], 'value': 1014}],\n",
       "         'type': 'colorInfo'}]}},\n",
       "     'elevationInfo': {'mode': 'absoluteHeight'}},\n",
       "    'layerType': 'ArcGISFeatureLayer',\n",
       "    'opacity': 1,\n",
       "    'popupInfo': {'mediaInfos': [{'caption': '<div><p><span style=\"font-weight:bold;\">Pressure: </span><span>{airpressure} hPa</span></p><p><span style=\"font-weight:bold;\">Wind speed: </span><span>{wind_mph} mph / {wind_kph} kph</span></p><p /><p><span style=\"font-weight:bold;\">Date: </span><span>{timedescription}</span></p></div>',\n",
       "       'title': '<div><p><span style=\"font-weight:bold;\">{typhoonclass} {typhoon}</span></p></div>',\n",
       "       'type': 'image',\n",
       "       'value': {'sourceURL': '{image}'}}],\n",
       "     'title': '{typhoon}'},\n",
       "    'title': 'Typhoons Q3_1',\n",
       "    'url': 'http://services.arcgis.com/P3ePLMYs2RVChkJx/arcgis/rest/services/PacificTyphoons2005_WFL/FeatureServer/7',\n",
       "    'visibility': False}],\n",
       "  'listMode': 'hide-children',\n",
       "  'opacity': 1,\n",
       "  'title': 'July',\n",
       "  'visibility': False,\n",
       "  'visibilityMode': 'inherited'},\n",
       " {'id': '14a37c397dc-layer17',\n",
       "  'layerType': 'GroupLayer',\n",
       "  'layers': [{'id': '56803f3d64184140950f0ef1256a0603',\n",
       "    'layerDefinition': {'drawingInfo': {'renderer': {'description': '',\n",
       "       'label': '',\n",
       "       'symbol': {'name': 'Pushpin 1',\n",
       "        'styleName': 'EsriIconsStyle',\n",
       "        'type': 'styleSymbolReference'},\n",
       "       'type': 'simple',\n",
       "       'visualVariables': [{'axis': 'all',\n",
       "         'minSize': 25,\n",
       "         'type': 'sizeInfo',\n",
       "         'valueUnit': 'unknown'}]}},\n",
       "     'elevationInfo': {'mode': 'absoluteHeight'}},\n",
       "    'layerType': 'ArcGISFeatureLayer',\n",
       "    'opacity': 1,\n",
       "    'showLabels': True,\n",
       "    'title': 'Labels Q2',\n",
       "    'url': 'http://services.arcgis.com/P3ePLMYs2RVChkJx/arcgis/rest/services/PacificTyphoons2005_WFL/FeatureServer/5',\n",
       "    'visibility': False},\n",
       "   {'id': '72668fcc8a904bd6a1444bef2e72f420',\n",
       "    'layerDefinition': {'drawingInfo': {'renderer': {'description': '',\n",
       "       'label': '',\n",
       "       'symbol': {'name': 'Standing Cylinder',\n",
       "        'styleName': 'EsriThematicShapesStyle',\n",
       "        'type': 'styleSymbolReference'},\n",
       "       'type': 'simple',\n",
       "       'visualVariables': [{'axis': 'height',\n",
       "         'field': 'windspeed',\n",
       "         'minDataValue': 0.0001,\n",
       "         'minSize': 1,\n",
       "         'type': 'sizeInfo'},\n",
       "        {'axis': 'widthAndDepth',\n",
       "         'minSize': 100000,\n",
       "         'type': 'sizeInfo',\n",
       "         'valueUnit': 'meters'},\n",
       "        {'field': 'airpressure',\n",
       "         'stops': [{'color': [245, 0, 0], 'value': 920},\n",
       "          {'color': [245, 245, 0], 'value': 1014}],\n",
       "         'type': 'colorInfo'}]}},\n",
       "     'elevationInfo': {'mode': 'absoluteHeight'}},\n",
       "    'layerType': 'ArcGISFeatureLayer',\n",
       "    'opacity': 1,\n",
       "    'popupInfo': {'mediaInfos': [{'caption': '<div><p><span style=\"font-weight:bold;\">Pressure: </span><span>{airpressure} hPa</span></p><p><span style=\"font-weight:bold;\">Wind speed: </span><span>{wind_mph} mph / {wind_kph} kph</span></p><p /><p><span style=\"font-weight:bold;\">Date: </span><span>{timedescription}</span></p></div>',\n",
       "       'title': '<div><p style=\"font-weight:bold;\"><span>{typhoonclass} {typhoon}</span></p></div>',\n",
       "       'type': 'image',\n",
       "       'value': {'sourceURL': '{image}'}}],\n",
       "     'title': '{typhoon}'},\n",
       "    'title': 'Typhoons Q2',\n",
       "    'url': 'http://services.arcgis.com/P3ePLMYs2RVChkJx/arcgis/rest/services/PacificTyphoons2005_WFL/FeatureServer/4',\n",
       "    'visibility': False}],\n",
       "  'listMode': 'hide-children',\n",
       "  'opacity': 1,\n",
       "  'title': 'April - June',\n",
       "  'visibility': False,\n",
       "  'visibilityMode': 'inherited'},\n",
       " {'id': '14a37c2a1a7-layer16',\n",
       "  'layerType': 'GroupLayer',\n",
       "  'layers': [{'id': '16c9bf0e374443d394f0b77980171499',\n",
       "    'layerDefinition': {'drawingInfo': {'renderer': {'description': '',\n",
       "       'label': '',\n",
       "       'symbol': {'name': 'Pushpin 1',\n",
       "        'styleName': 'EsriIconsStyle',\n",
       "        'type': 'styleSymbolReference'},\n",
       "       'type': 'simple',\n",
       "       'visualVariables': [{'axis': 'all',\n",
       "         'minSize': 25,\n",
       "         'type': 'sizeInfo',\n",
       "         'valueUnit': 'unknown'}]}},\n",
       "     'elevationInfo': {'mode': 'absoluteHeight'}},\n",
       "    'layerType': 'ArcGISFeatureLayer',\n",
       "    'opacity': 1,\n",
       "    'showLabels': True,\n",
       "    'title': 'Labels Q1',\n",
       "    'url': 'http://services.arcgis.com/P3ePLMYs2RVChkJx/arcgis/rest/services/PacificTyphoons2005_WFL/FeatureServer/2',\n",
       "    'visibility': True},\n",
       "   {'id': '3921d1e5c45c41b4a0b498df8fab4e2c',\n",
       "    'layerDefinition': {'drawingInfo': {'renderer': {'description': '',\n",
       "       'label': '',\n",
       "       'symbol': {'name': 'Standing Cylinder',\n",
       "        'styleName': 'EsriThematicShapesStyle',\n",
       "        'type': 'styleSymbolReference'},\n",
       "       'type': 'simple',\n",
       "       'visualVariables': [{'axis': 'height',\n",
       "         'field': 'windspeed',\n",
       "         'minDataValue': 0.0001,\n",
       "         'minSize': 1,\n",
       "         'type': 'sizeInfo'},\n",
       "        {'axis': 'widthAndDepth',\n",
       "         'minSize': 100000,\n",
       "         'type': 'sizeInfo',\n",
       "         'valueUnit': 'meters'},\n",
       "        {'field': 'airpressure',\n",
       "         'stops': [{'color': [245, 0, 0], 'value': 920},\n",
       "          {'color': [245, 245, 0], 'value': 1014}],\n",
       "         'type': 'colorInfo'}]}},\n",
       "     'elevationInfo': {'mode': 'absoluteHeight'}},\n",
       "    'layerType': 'ArcGISFeatureLayer',\n",
       "    'opacity': 1,\n",
       "    'popupInfo': {'mediaInfos': [{'caption': '<div><p><span style=\"font-weight:bold;\">Pressure: </span><span>{airpressure} hPa</span></p><p><span style=\"font-weight:bold;\">Wind speed: </span><span>{wind_mph} mph / {wind_kph} kph</span></p><p /><p><span style=\"font-weight:bold;\">Date: </span><span>{timedescription}</span></p></div>',\n",
       "       'title': '<div><p style=\"font-weight:bold;\"><span>{typhoonclass} {typhoon}</span></p></div>',\n",
       "       'type': 'image',\n",
       "       'value': {'sourceURL': '{image}'}}],\n",
       "     'title': '{typhoon}'},\n",
       "    'title': 'Typhoons Q1',\n",
       "    'url': 'http://services.arcgis.com/P3ePLMYs2RVChkJx/arcgis/rest/services/PacificTyphoons2005_WFL/FeatureServer/1',\n",
       "    'visibility': True}],\n",
       "  'listMode': 'hide-children',\n",
       "  'opacity': 1,\n",
       "  'title': 'January - March',\n",
       "  'visibility': True,\n",
       "  'visibilityMode': 'inherited'}]"
      ]
     },
     "metadata": {},
     "output_type": "display_data"
    }
   ],
   "source": [
    "display(web_scene_obj['operationalLayers'])"
   ]
  },
  {
   "cell_type": "markdown",
   "metadata": {},
   "source": [
    "There is a lot of information displayed above. Let us drill into this and display only layer names and their urls. If you notice, some of the layers above are group layers, meaning, they contain sub layers. So let us write a loop like below and print some details."
   ]
  },
  {
   "cell_type": "code",
   "execution_count": 21,
   "metadata": {
    "collapsed": false
   },
   "outputs": [
    {
     "name": "stdout",
     "output_type": "stream",
     "text": [
      "Typhoon Paths :: ArcGISFeatureLayer\n",
      "October - December :: GroupLayer\n",
      "\tLabels Q4 :: http://services.arcgis.com/P3ePLMYs2RVChkJx/arcgis/rest/services/PacificTyphoons2005_WFL/FeatureServer/17\n",
      "\tTyphoons Q4 :: http://services.arcgis.com/P3ePLMYs2RVChkJx/arcgis/rest/services/PacificTyphoons2005_WFL/FeatureServer/16\n",
      "September :: GroupLayer\n",
      "\tLabels Q3_3 :: http://services.arcgis.com/P3ePLMYs2RVChkJx/arcgis/rest/services/PacificTyphoons2005_WFL/FeatureServer/14\n",
      "\tTyphoons Q3_3 :: http://services.arcgis.com/P3ePLMYs2RVChkJx/arcgis/rest/services/PacificTyphoons2005_WFL/FeatureServer/13\n",
      "August :: GroupLayer\n",
      "\tLabels Q3_2 :: http://services.arcgis.com/P3ePLMYs2RVChkJx/arcgis/rest/services/PacificTyphoons2005_WFL/FeatureServer/11\n",
      "\tTyphoons Q3_2 :: http://services.arcgis.com/P3ePLMYs2RVChkJx/arcgis/rest/services/PacificTyphoons2005_WFL/FeatureServer/10\n",
      "July :: GroupLayer\n",
      "\tLabels Q3_1 :: http://services.arcgis.com/P3ePLMYs2RVChkJx/arcgis/rest/services/PacificTyphoons2005_WFL/FeatureServer/8\n",
      "\tTyphoons Q3_1 :: http://services.arcgis.com/P3ePLMYs2RVChkJx/arcgis/rest/services/PacificTyphoons2005_WFL/FeatureServer/7\n",
      "April - June :: GroupLayer\n",
      "\tLabels Q2 :: http://services.arcgis.com/P3ePLMYs2RVChkJx/arcgis/rest/services/PacificTyphoons2005_WFL/FeatureServer/5\n",
      "\tTyphoons Q2 :: http://services.arcgis.com/P3ePLMYs2RVChkJx/arcgis/rest/services/PacificTyphoons2005_WFL/FeatureServer/4\n",
      "January - March :: GroupLayer\n",
      "\tLabels Q1 :: http://services.arcgis.com/P3ePLMYs2RVChkJx/arcgis/rest/services/PacificTyphoons2005_WFL/FeatureServer/2\n",
      "\tTyphoons Q1 :: http://services.arcgis.com/P3ePLMYs2RVChkJx/arcgis/rest/services/PacificTyphoons2005_WFL/FeatureServer/1\n"
     ]
    }
   ],
   "source": [
    "for layer in web_scene_obj['operationalLayers']:\n",
    "    print(layer['title'] + \" :: \" + layer['layerType'])\n",
    "    if layer['layerType'] == 'GroupLayer':\n",
    "        for sub_layer in layer['layers']:\n",
    "            print(\"\\t\" + sub_layer['title'] + \" :: \"+ sub_layer['url'])"
   ]
  },
  {
   "cell_type": "markdown",
   "metadata": {},
   "source": [
    "We are only interested in the layers that correspond to cyclones in summer. From the above report, we understand that information is in a group layer with two sub layers. Let us extract just that dictionary and compose a new web scene data."
   ]
  },
  {
   "cell_type": "code",
   "execution_count": 22,
   "metadata": {
    "collapsed": false
   },
   "outputs": [
    {
     "data": {
      "text/plain": [
       "[{'id': '14a37c397dc-layer17',\n",
       "  'layerType': 'GroupLayer',\n",
       "  'layers': [{'id': '56803f3d64184140950f0ef1256a0603',\n",
       "    'layerDefinition': {'drawingInfo': {'renderer': {'description': '',\n",
       "       'label': '',\n",
       "       'symbol': {'name': 'Pushpin 1',\n",
       "        'styleName': 'EsriIconsStyle',\n",
       "        'type': 'styleSymbolReference'},\n",
       "       'type': 'simple',\n",
       "       'visualVariables': [{'axis': 'all',\n",
       "         'minSize': 25,\n",
       "         'type': 'sizeInfo',\n",
       "         'valueUnit': 'unknown'}]}},\n",
       "     'elevationInfo': {'mode': 'absoluteHeight'}},\n",
       "    'layerType': 'ArcGISFeatureLayer',\n",
       "    'opacity': 1,\n",
       "    'showLabels': True,\n",
       "    'title': 'Labels Q2',\n",
       "    'url': 'http://services.arcgis.com/P3ePLMYs2RVChkJx/arcgis/rest/services/PacificTyphoons2005_WFL/FeatureServer/5',\n",
       "    'visibility': False},\n",
       "   {'id': '72668fcc8a904bd6a1444bef2e72f420',\n",
       "    'layerDefinition': {'drawingInfo': {'renderer': {'description': '',\n",
       "       'label': '',\n",
       "       'symbol': {'name': 'Standing Cylinder',\n",
       "        'styleName': 'EsriThematicShapesStyle',\n",
       "        'type': 'styleSymbolReference'},\n",
       "       'type': 'simple',\n",
       "       'visualVariables': [{'axis': 'height',\n",
       "         'field': 'windspeed',\n",
       "         'minDataValue': 0.0001,\n",
       "         'minSize': 1,\n",
       "         'type': 'sizeInfo'},\n",
       "        {'axis': 'widthAndDepth',\n",
       "         'minSize': 100000,\n",
       "         'type': 'sizeInfo',\n",
       "         'valueUnit': 'meters'},\n",
       "        {'field': 'airpressure',\n",
       "         'stops': [{'color': [245, 0, 0], 'value': 920},\n",
       "          {'color': [245, 245, 0], 'value': 1014}],\n",
       "         'type': 'colorInfo'}]}},\n",
       "     'elevationInfo': {'mode': 'absoluteHeight'}},\n",
       "    'layerType': 'ArcGISFeatureLayer',\n",
       "    'opacity': 1,\n",
       "    'popupInfo': {'mediaInfos': [{'caption': '<div><p><span style=\"font-weight:bold;\">Pressure: </span><span>{airpressure} hPa</span></p><p><span style=\"font-weight:bold;\">Wind speed: </span><span>{wind_mph} mph / {wind_kph} kph</span></p><p /><p><span style=\"font-weight:bold;\">Date: </span><span>{timedescription}</span></p></div>',\n",
       "       'title': '<div><p style=\"font-weight:bold;\"><span>{typhoonclass} {typhoon}</span></p></div>',\n",
       "       'type': 'image',\n",
       "       'value': {'sourceURL': '{image}'}}],\n",
       "     'title': '{typhoon}'},\n",
       "    'title': 'Typhoons Q2',\n",
       "    'url': 'http://services.arcgis.com/P3ePLMYs2RVChkJx/arcgis/rest/services/PacificTyphoons2005_WFL/FeatureServer/4',\n",
       "    'visibility': False}],\n",
       "  'listMode': 'hide-children',\n",
       "  'opacity': 1,\n",
       "  'title': 'April - June',\n",
       "  'visibility': False,\n",
       "  'visibilityMode': 'inherited'}]"
      ]
     },
     "metadata": {},
     "output_type": "display_data"
    }
   ],
   "source": [
    "# Let us construct a list comprehension and mine out that group layer.\n",
    "subset_op_layers = [subset for subset in web_scene_obj['operationalLayers'] if subset['title'] == 'April - June']\n",
    "display(subset_op_layers)"
   ]
  },
  {
   "cell_type": "code",
   "execution_count": 23,
   "metadata": {
    "collapsed": false
   },
   "outputs": [],
   "source": [
    "# Let us apply the changes to a new web scene object.\n",
    "new_web_scene_obj = web_scene_obj\n",
    "new_web_scene_obj['operationalLayers'] = subset_op_layers"
   ]
  },
  {
   "cell_type": "markdown",
   "metadata": {},
   "source": [
    "### Update basemap of new web scene\n",
    "We now have the necessary `operationalLayers` information. Let us also try to change the basemap to a darker shade. First let us search the basemaps available in the current portal. If no suitable one is found, we can widen the search outside the organization and use a basemap published by Esri.\n",
    "\n",
    "**Basemaps** are web maps that are stored in a **group** usually called **Basemaps**. Thus to get the list of basemaps available on a portal, we can find the basemaps group and list all web maps that are a part of it.\n",
    "\n",
    "To get the list of groups on the portal, we use `groups` property of the `GIS` class."
   ]
  },
  {
   "cell_type": "code",
   "execution_count": 24,
   "metadata": {
    "collapsed": false
   },
   "outputs": [
    {
     "data": {
      "text/plain": [
       "[<Group title:\"Basemaps\" owner:ty>,\n",
       " <Group title:\"CUIT Basemaps\" owner:CodedUI>,\n",
       " <Group title:\"Dinoco's Basemaps\" owner:craig_williams>]"
      ]
     },
     "execution_count": 24,
     "metadata": {},
     "output_type": "execute_result"
    }
   ],
   "source": [
    "my_portal_groups = gis.groups\n",
    "my_portal_groups.search('title:basemap')"
   ]
  },
  {
   "cell_type": "code",
   "execution_count": 25,
   "metadata": {
    "collapsed": false
   },
   "outputs": [
    {
     "data": {
      "text/plain": [
       "[<Item title:\"Basemap_Map2\" type:Web Map owner:ty>,\n",
       " <Item title:\"ParcelPublicAccess\" type:Map Service owner:ty>]"
      ]
     },
     "execution_count": 25,
     "metadata": {},
     "output_type": "execute_result"
    }
   ],
   "source": [
    "# pick the first result and get its contents of type web maps\n",
    "my_basemap_group = my_portal_groups.search('title:basemap')[0]\n",
    "my_basemap_group.content()"
   ]
  },
  {
   "cell_type": "markdown",
   "metadata": {},
   "source": [
    "The dark tone basemap we are looking for is not available in the portal. Hence let us widen the search and look for the basemap published by Esri."
   ]
  },
  {
   "cell_type": "code",
   "execution_count": 26,
   "metadata": {
    "collapsed": false
   },
   "outputs": [
    {
     "data": {
      "text/plain": [
       "[<Item title:\"Dark Gray Canvas\" type:Web Map owner:esri>]"
      ]
     },
     "execution_count": 26,
     "metadata": {},
     "output_type": "execute_result"
    }
   ],
   "source": [
    "basemap_search = gis.content.search('title:dark AND owner:esri', \n",
    "                                    outside_org = True, item_type = 'web map')\n",
    "basemap_search"
   ]
  },
  {
   "cell_type": "markdown",
   "metadata": {},
   "source": [
    "We have found the basemap of our choice. Let us read it as a **`WebMap`** object and query the `baseMap` dictionary."
   ]
  },
  {
   "cell_type": "code",
   "execution_count": 27,
   "metadata": {
    "collapsed": false
   },
   "outputs": [
    {
     "data": {
      "text/plain": [
       "{'baseMapLayers': [{'id': 'layer0',\n",
       "   'layerType': 'ArcGISTiledMapServiceLayer',\n",
       "   'opacity': 1,\n",
       "   'url': 'http://services.arcgisonline.com/arcgis/rest/services/Canvas/World_Dark_Gray_Base/MapServer',\n",
       "   'visibility': True},\n",
       "  {'id': 'World_Dark_Gray_Reference_8618',\n",
       "   'isReference': True,\n",
       "   'layerType': 'ArcGISTiledMapServiceLayer',\n",
       "   'opacity': 1,\n",
       "   'url': 'http://services.arcgisonline.com/arcgis/rest/services/Canvas/World_Dark_Gray_Reference/MapServer',\n",
       "   'visibility': True}],\n",
       " 'title': 'Dark Gray Canvas'}"
      ]
     },
     "execution_count": 27,
     "metadata": {},
     "output_type": "execute_result"
    }
   ],
   "source": [
    "dark_basemap_item = basemap_search[0]\n",
    "dark_basemap_obj = arcgis.viz.WebMap(dark_basemap_item)\n",
    "dark_basemap_obj['baseMap']"
   ]
  },
  {
   "cell_type": "markdown",
   "metadata": {},
   "source": [
    "Now let us explore how the `baseMap` dictionary of the **web scene** looks like."
   ]
  },
  {
   "cell_type": "code",
   "execution_count": 28,
   "metadata": {
    "collapsed": false
   },
   "outputs": [
    {
     "data": {
      "text/plain": [
       "{'baseMapLayers': [{'id': '73e9780a7d6f413f8547abbd19ec786c',\n",
       "   'layerType': 'ArcGISTiledMapServiceLayer',\n",
       "   'url': 'http://services.arcgisonline.com/ArcGIS/rest/services/World_Topo_Map/MapServer'}],\n",
       " 'elevationLayers': [{'id': 'globalElevation_0',\n",
       "   'layerType': 'ArcGISTiledElevationServiceLayer',\n",
       "   'url': 'http://elevation3d.arcgis.com/arcgis/rest/services/WorldElevation3D/Terrain3D/ImageServer'}],\n",
       " 'id': 'basemap',\n",
       " 'title': 'Topographic',\n",
       " 'visibility': True}"
      ]
     },
     "execution_count": 28,
     "metadata": {},
     "output_type": "execute_result"
    }
   ],
   "source": [
    "new_web_scene_obj['baseMap']"
   ]
  },
  {
   "cell_type": "markdown",
   "metadata": {},
   "source": [
    "To get the desired basemap, we need to update the only `url` key-value pair of the web scene's `baseMap` dictionary. Here we will only pick the first layer of the dark basemap web map."
   ]
  },
  {
   "cell_type": "code",
   "execution_count": 29,
   "metadata": {
    "collapsed": false
   },
   "outputs": [],
   "source": [
    "new_web_scene_obj['baseMap']['baseMapLayers'][0]['url'] = \\\n",
    "dark_basemap_obj['baseMap']['baseMapLayers'][0]['url']"
   ]
  },
  {
   "cell_type": "markdown",
   "metadata": {},
   "source": [
    "Now that we have performed the necessary updates, we can go ahead and publish this as a new web scene item on our portal."
   ]
  },
  {
   "cell_type": "code",
   "execution_count": 30,
   "metadata": {
    "collapsed": false
   },
   "outputs": [
    {
     "data": {
      "text/html": [
       "<div class=\"item_container\" style=\"height: auto; overflow: hidden; border: 1px solid #cfcfcf; border-radius: 2px; background: #f6fafa; line-height: 1.21429em; padding: 10px;\">\n",
       "                    <div class=\"item_left\" style=\"width: 210px; float: left;\">\n",
       "                       <a href='http://www.arcgis.com/home/item.html?id=35e3aaafa10f4d8eb3617ee818e2f0e6' target='_blank'>\n",
       "                        <img src='http://static.arcgis.com/images/desktopapp.png' class=\"itemThumbnail\">\n",
       "                       </a>\n",
       "                    </div>\n",
       "\n",
       "                    <div class=\"item_right\"     style=\"float: none; width: auto; overflow: hidden;\">\n",
       "                        <a href='http://www.arcgis.com/home/item.html?id=35e3aaafa10f4d8eb3617ee818e2f0e6' target='_blank'><b>Toprical Cyclones - Summer</b>\n",
       "                        </a>\n",
       "                        <br>Subset of <a href='https://www.arcgis.com/home/item.html?id=193a0e0ed72f413d8cdc649be637a846'>Western Pacific Typhoons (2005)</a> published by esri_3d<img src='http://www.arcgis.com/home/js/jsapi/esri/css/images/item_type_icons/webscene16.png' style=\"vertical-align:middle;\">Web Scene by atma.mani\n",
       "                        <br>Last Modified: August 26, 2016\n",
       "                        <br>0 comments, 0 views\n",
       "                    </div>\n",
       "                </div>\n",
       "                "
      ],
      "text/plain": [
       "<Item title:\"Toprical Cyclones - Summer\" type:Web Scene owner:atma.mani>"
      ]
     },
     "execution_count": 30,
     "metadata": {},
     "output_type": "execute_result"
    }
   ],
   "source": [
    "new_web_scene_properties= {'title':'Toprical Cyclones - Summer',\n",
    "                          'type' : 'Web Scene',\n",
    "                          'tags' : 'ArcGIS Python API',\n",
    "                          'snippet' : str.format('Subset of <a href={2}>{0}</a> published by {1}',\n",
    "                                                 web_scene_item.title, web_scene_item.owner,\n",
    "                                                \"https://www.arcgis.com/home/item.html?id=\" + web_scene_item.id),\n",
    "                          'text' : json.dumps(new_web_scene_obj)}\n",
    "\n",
    "new_item = gis.content.add(new_web_scene_properties)\n",
    "new_item"
   ]
  },
  {
   "cell_type": "markdown",
   "metadata": {},
   "source": [
    "We have successfully published the new web scene. Now let us display in an interactive widget and observe if it has the necessary updates."
   ]
  },
  {
   "cell_type": "code",
   "execution_count": 31,
   "metadata": {
    "collapsed": false
   },
   "outputs": [
    {
     "data": {
      "text/html": [
       "<iframe width=960 height=600 src=\"http://www.arcgis.com/home/webscene/viewer.html?webscene=35e3aaafa10f4d8eb3617ee818e2f0e6\"/>"
      ],
      "text/plain": [
       "WebScene([('operationalLayers',\n",
       "           [{'id': '14a37c397dc-layer17',\n",
       "             'layerType': 'GroupLayer',\n",
       "             'layers': [{'id': '56803f3d64184140950f0ef1256a0603',\n",
       "               'layerDefinition': {'drawingInfo': {'renderer': {'description': '',\n",
       "                  'label': '',\n",
       "                  'symbol': {'name': 'Pushpin 1',\n",
       "                   'styleName': 'EsriIconsStyle',\n",
       "                   'type': 'styleSymbolReference'},\n",
       "                  'type': 'simple',\n",
       "                  'visualVariables': [{'axis': 'all',\n",
       "                    'minSize': 25,\n",
       "                    'type': 'sizeInfo',\n",
       "                    'valueUnit': 'unknown'}]}},\n",
       "                'elevationInfo': {'mode': 'absoluteHeight'}},\n",
       "               'layerType': 'ArcGISFeatureLayer',\n",
       "               'opacity': 1,\n",
       "               'showLabels': True,\n",
       "               'title': 'Labels Q2',\n",
       "               'url': 'http://services.arcgis.com/P3ePLMYs2RVChkJx/arcgis/rest/services/PacificTyphoons2005_WFL/FeatureServer/5',\n",
       "               'visibility': False},\n",
       "              {'id': '72668fcc8a904bd6a1444bef2e72f420',\n",
       "               'layerDefinition': {'drawingInfo': {'renderer': {'description': '',\n",
       "                  'label': '',\n",
       "                  'symbol': {'name': 'Standing Cylinder',\n",
       "                   'styleName': 'EsriThematicShapesStyle',\n",
       "                   'type': 'styleSymbolReference'},\n",
       "                  'type': 'simple',\n",
       "                  'visualVariables': [{'axis': 'height',\n",
       "                    'field': 'windspeed',\n",
       "                    'minDataValue': 0.0001,\n",
       "                    'minSize': 1,\n",
       "                    'type': 'sizeInfo'},\n",
       "                   {'axis': 'widthAndDepth',\n",
       "                    'minSize': 100000,\n",
       "                    'type': 'sizeInfo',\n",
       "                    'valueUnit': 'meters'},\n",
       "                   {'field': 'airpressure',\n",
       "                    'stops': [{'color': [245, 0, 0], 'value': 920},\n",
       "                     {'color': [245, 245, 0], 'value': 1014}],\n",
       "                    'type': 'colorInfo'}]}},\n",
       "                'elevationInfo': {'mode': 'absoluteHeight'}},\n",
       "               'layerType': 'ArcGISFeatureLayer',\n",
       "               'opacity': 1,\n",
       "               'popupInfo': {'mediaInfos': [{'caption': \"<div><p><span style='font-weight:bold;'>Pressure: </span><span>{airpressure} hPa</span></p><p><span style='font-weight:bold;'>Wind speed: </span><span>{wind_mph} mph / {wind_kph} kph</span></p><p><p><span style='font-weight:bold;'>Date: </span><span>{timedescription}</span></p></div></p>\",\n",
       "                  'title': \"<div><p style='font-weight:bold;'><span>{typhoonclass} {typhoon}</span></p></div>\",\n",
       "                  'type': 'image',\n",
       "                  'value': {'sourceURL': '{image}'}}],\n",
       "                'title': '{typhoon}'},\n",
       "               'title': 'Typhoons Q2',\n",
       "               'url': 'http://services.arcgis.com/P3ePLMYs2RVChkJx/arcgis/rest/services/PacificTyphoons2005_WFL/FeatureServer/4',\n",
       "               'visibility': False}],\n",
       "             'listMode': 'hide-children',\n",
       "             'opacity': 1,\n",
       "             'title': 'April - June',\n",
       "             'visibility': False,\n",
       "             'visibilityMode': 'inherited'}]),\n",
       "          ('initialState',\n",
       "           {'viewpoint': {'camera': {'heading': 351.1964858132987,\n",
       "              'position': {'spatialReference': {'wkid': 102100},\n",
       "               'x': 16338046.55787945,\n",
       "               'y': -255903.18543654715,\n",
       "               'z': 6324439.902154693},\n",
       "              'tilt': 17.65347586839879}}}),\n",
       "          ('version', '1.0'),\n",
       "          ('authoringApp', 'WebSceneViewer'),\n",
       "          ('authoringAppVersion', '3.6.0.0'),\n",
       "          ('baseMap',\n",
       "           {'baseMapLayers': [{'id': '73e9780a7d6f413f8547abbd19ec786c',\n",
       "              'layerType': 'ArcGISTiledMapServiceLayer',\n",
       "              'url': 'http://services.arcgisonline.com/arcgis/rest/services/Canvas/World_Dark_Gray_Base/MapServer'}],\n",
       "            'elevationLayers': [{'id': 'globalElevation_0',\n",
       "              'layerType': 'ArcGISTiledElevationServiceLayer',\n",
       "              'url': 'http://elevation3d.arcgis.com/arcgis/rest/services/WorldElevation3D/Terrain3D/ImageServer'}],\n",
       "            'id': 'basemap',\n",
       "            'title': 'Topographic',\n",
       "            'visibility': True}),\n",
       "          ('presentation',\n",
       "           {'slides': [{'baseMap': {'baseMapLayers': [{'id': '73e9780a7d6f413f8547abbd19ec786c',\n",
       "                 'layerType': 'ArcGISTiledMapServiceLayer',\n",
       "                 'url': 'http://services.arcgisonline.com/ArcGIS/rest/services/World_Topo_Map/MapServer'}],\n",
       "               'elevationLayers': [{'id': 'globalElevation_0',\n",
       "                 'layerType': 'ArcGISTiledElevationServiceLayer',\n",
       "                 'url': 'http://elevation3d.arcgis.com/arcgis/rest/services/WorldElevation3D/Terrain3D/ImageServer'}],\n",
       "               'id': 'basemap',\n",
       "               'title': 'Topographic',\n",
       "               'visibility': True},\n",
       "              'description': {'text': ''},\n",
       "              'id': 'slide_1',\n",
       "              'thumbnail': {'url': 'data:image/jpeg;base64,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'},\n",
       "              'title': {'text': 'Start of 2005'},\n",
       "              'viewpoint': {'camera': {'heading': 351.1964858600443,\n",
       "                'position': {'spatialReference': {'wkid': 102100},\n",
       "                 'x': 16338046.55787945,\n",
       "                 'y': -255903.18543654634,\n",
       "                 'z': 6324439.902154693},\n",
       "                'tilt': 17.653475866991755},\n",
       "               'scale': 17308012.743044183,\n",
       "               'targetGeometry': {'spatialReference': {'wkid': 102100},\n",
       "                'xmax': 19230710.0979518,\n",
       "                'xmin': 12763430.856557569,\n",
       "                'ymax': 5583288.779274275,\n",
       "                'ymin': -1210472.734638156}},\n",
       "              'visibleLayers': [{'id': '882ce65eceda4e2ba2ad65f9e2c0632f'},\n",
       "               {'id': '14a37c2a1a7-layer16'},\n",
       "               {'id': '16c9bf0e374443d394f0b77980171499'},\n",
       "               {'id': '3921d1e5c45c41b4a0b498df8fab4e2c'}]},\n",
       "             {'baseMap': {'baseMapLayers': [{'id': '73e9780a7d6f413f8547abbd19ec786c',\n",
       "                 'layerType': 'ArcGISTiledMapServiceLayer',\n",
       "                 'url': 'http://services.arcgisonline.com/ArcGIS/rest/services/World_Topo_Map/MapServer'}],\n",
       "               'elevationLayers': [{'id': 'globalElevation_0',\n",
       "                 'layerType': 'ArcGISTiledElevationServiceLayer',\n",
       "                 'url': 'http://elevation3d.arcgis.com/arcgis/rest/services/WorldElevation3D/Terrain3D/ImageServer'}],\n",
       "               'id': 'basemap',\n",
       "               'title': 'Topographic',\n",
       "               'visibility': True},\n",
       "              'description': {'text': ''},\n",
       "              'id': 'slide_2',\n",
       "              'thumbnail': {'url': 'data:image/jpeg;base64,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'},\n",
       "              'title': {'text': 'August origins'},\n",
       "              'viewpoint': {'camera': {'heading': 315.5348196196585,\n",
       "                'position': {'spatialReference': {'wkid': 102100},\n",
       "                 'x': 18034663.07613952,\n",
       "                 'y': 544179.4588633721,\n",
       "                 'z': 2819426.3450047094},\n",
       "                'tilt': 37.399468879606104},\n",
       "               'scale': 7737759.332723031,\n",
       "               'targetGeometry': {'spatialReference': {'wkid': 102100},\n",
       "                'xmax': 18071800.740437724,\n",
       "                'xmin': 14071538.172449483,\n",
       "                'ymax': 4593143.012538526,\n",
       "                'ymin': 516126.52477937605}},\n",
       "              'visibleLayers': [{'id': '882ce65eceda4e2ba2ad65f9e2c0632f'},\n",
       "               {'id': '14a37c78bc8-layer19'},\n",
       "               {'id': '6e54f2736388480ab0a214cb468d48f9'},\n",
       "               {'id': '6b549bb78d824b4c8d24f5c90b93c4f6'}]},\n",
       "             {'baseMap': {'baseMapLayers': [{'id': '73e9780a7d6f413f8547abbd19ec786c',\n",
       "                 'layerType': 'ArcGISTiledMapServiceLayer',\n",
       "                 'url': 'http://services.arcgisonline.com/ArcGIS/rest/services/World_Topo_Map/MapServer'}],\n",
       "               'elevationLayers': [{'id': 'globalElevation_0',\n",
       "                 'layerType': 'ArcGISTiledElevationServiceLayer',\n",
       "                 'url': 'http://elevation3d.arcgis.com/arcgis/rest/services/WorldElevation3D/Terrain3D/ImageServer'}],\n",
       "               'id': 'basemap',\n",
       "               'title': 'Topographic',\n",
       "               'visibility': True},\n",
       "              'description': {'text': ''},\n",
       "              'id': 'slide_3',\n",
       "              'thumbnail': {'url': 'data:image/jpeg;base64,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'},\n",
       "              'title': {'text': 'August in Japan'},\n",
       "              'viewpoint': {'camera': {'heading': 41.187868723912416,\n",
       "                'position': {'spatialReference': {'wkid': 102100},\n",
       "                 'x': 14317116.922236785,\n",
       "                 'y': 3162810.5410621683,\n",
       "                 'z': 1942131.4690581001},\n",
       "                'tilt': 38.22074788332464},\n",
       "               'scale': 5977175.794663719,\n",
       "               'targetGeometry': {'spatialReference': {'wkid': 102100},\n",
       "                'xmax': 17329254.887698036,\n",
       "                'xmin': 14212941.909390198,\n",
       "                'ymax': 6343789.09167628,\n",
       "                'ymin': 3183340.4223876353}},\n",
       "              'visibleLayers': [{'id': '882ce65eceda4e2ba2ad65f9e2c0632f'},\n",
       "               {'id': '14a37c78bc8-layer19'},\n",
       "               {'id': '6e54f2736388480ab0a214cb468d48f9'},\n",
       "               {'id': '6b549bb78d824b4c8d24f5c90b93c4f6'}]},\n",
       "             {'baseMap': {'baseMapLayers': [{'id': '73e9780a7d6f413f8547abbd19ec786c',\n",
       "                 'layerType': 'ArcGISTiledMapServiceLayer',\n",
       "                 'url': 'http://services.arcgisonline.com/ArcGIS/rest/services/World_Topo_Map/MapServer'}],\n",
       "               'elevationLayers': [{'id': 'globalElevation_0',\n",
       "                 'layerType': 'ArcGISTiledElevationServiceLayer',\n",
       "                 'url': 'http://elevation3d.arcgis.com/arcgis/rest/services/WorldElevation3D/Terrain3D/ImageServer'}],\n",
       "               'id': 'basemap',\n",
       "               'title': 'Topographic',\n",
       "               'visibility': True},\n",
       "              'description': {'text': ''},\n",
       "              'id': 'slide_4',\n",
       "              'thumbnail': {'url': 'data:image/jpeg;base64,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'},\n",
       "              'title': {'text': 'All Typhoons'},\n",
       "              'viewpoint': {'camera': {'heading': 3.086488857999165,\n",
       "                'position': {'spatialReference': {'wkid': 102100},\n",
       "                 'x': 15204174.902554411,\n",
       "                 'y': 1790041.1372453775,\n",
       "                 'z': 10970890.001691733},\n",
       "                'tilt': 4.939849335423939},\n",
       "               'scale': 31188997.007979963,\n",
       "               'targetGeometry': {'spatialReference': {'wkid': 102100},\n",
       "                'xmax': 60177194.60815952,\n",
       "                'xmin': 10395709.650468588,\n",
       "                'ymax': 9092227.091906952,\n",
       "                'ymin': -1971400.5897845216}},\n",
       "              'visibleLayers': [{'id': '882ce65eceda4e2ba2ad65f9e2c0632f'},\n",
       "               {'id': '14a37c86f84-layer21'},\n",
       "               {'id': '7a24e304d2474d7eb29a712c95202140'},\n",
       "               {'id': '10944e27c9f04bc39b5821c0046523a5'},\n",
       "               {'id': '14a37c7f247-layer20'},\n",
       "               {'id': '90eba5af0b084c569a55ebc9b3bfc21e'},\n",
       "               {'id': '341d7b380907439990e4c238147b46ce'},\n",
       "               {'id': '14a37c78bc8-layer19'},\n",
       "               {'id': '6e54f2736388480ab0a214cb468d48f9'},\n",
       "               {'id': '6b549bb78d824b4c8d24f5c90b93c4f6'},\n",
       "               {'id': '14a37c4590b-layer18'},\n",
       "               {'id': 'b8cc403be27e475ca93db04a34845e89'},\n",
       "               {'id': 'e60bd6abdb094bf2b9daacd8bb57495c'},\n",
       "               {'id': '14a37c397dc-layer17'},\n",
       "               {'id': '56803f3d64184140950f0ef1256a0603'},\n",
       "               {'id': '72668fcc8a904bd6a1444bef2e72f420'},\n",
       "               {'id': '14a37c2a1a7-layer16'},\n",
       "               {'id': '16c9bf0e374443d394f0b77980171499'},\n",
       "               {'id': '3921d1e5c45c41b4a0b498df8fab4e2c'}]}]})])"
      ]
     },
     "execution_count": 31,
     "metadata": {},
     "output_type": "execute_result"
    }
   ],
   "source": [
    "new_web_scene_obj = arcgis.viz.WebScene(new_item)\n",
    "new_web_scene_obj"
   ]
  },
  {
   "cell_type": "markdown",
   "metadata": {},
   "source": [
    "Our required updates have been applied to the new web scene. However notice the **April - June** layer is **turned off** by default. Let us fix that and update the web scene.\n",
    "\n",
    "Let us query the `operationalLayer` dictionary of the new web scene and look for a key called `visibility`."
   ]
  },
  {
   "cell_type": "code",
   "execution_count": 32,
   "metadata": {
    "collapsed": false
   },
   "outputs": [
    {
     "name": "stdout",
     "output_type": "stream",
     "text": [
      "False\n"
     ]
    }
   ],
   "source": [
    "for layer in new_web_scene_obj['operationalLayers']:\n",
    "    print(layer['visibility'])"
   ]
  },
  {
   "cell_type": "markdown",
   "metadata": {},
   "source": [
    "As we know, there is just 1 group layer and it is turned off. Let us change that and update the web scene."
   ]
  },
  {
   "cell_type": "code",
   "execution_count": 33,
   "metadata": {
    "collapsed": true
   },
   "outputs": [],
   "source": [
    "for layer in new_web_scene_obj['operationalLayers']:\n",
    "    layer['visibility'] = True"
   ]
  },
  {
   "cell_type": "markdown",
   "metadata": {},
   "source": [
    "To update the web scene call the `update()` method on the web scene object."
   ]
  },
  {
   "cell_type": "code",
   "execution_count": 34,
   "metadata": {
    "collapsed": false
   },
   "outputs": [
    {
     "data": {
      "text/html": [
       "<iframe width=960 height=600 src=\"http://www.arcgis.com/home/webscene/viewer.html?webscene=35e3aaafa10f4d8eb3617ee818e2f0e6\"/>"
      ],
      "text/plain": [
       "WebScene([('operationalLayers',\n",
       "           [{'id': '14a37c397dc-layer17',\n",
       "             'layerType': 'GroupLayer',\n",
       "             'layers': [{'id': '56803f3d64184140950f0ef1256a0603',\n",
       "               'layerDefinition': {'drawingInfo': {'renderer': {'description': '',\n",
       "                  'label': '',\n",
       "                  'symbol': {'name': 'Pushpin 1',\n",
       "                   'styleName': 'EsriIconsStyle',\n",
       "                   'type': 'styleSymbolReference'},\n",
       "                  'type': 'simple',\n",
       "                  'visualVariables': [{'axis': 'all',\n",
       "                    'minSize': 25,\n",
       "                    'type': 'sizeInfo',\n",
       "                    'valueUnit': 'unknown'}]}},\n",
       "                'elevationInfo': {'mode': 'absoluteHeight'}},\n",
       "               'layerType': 'ArcGISFeatureLayer',\n",
       "               'opacity': 1,\n",
       "               'showLabels': True,\n",
       "               'title': 'Labels Q2',\n",
       "               'url': 'http://services.arcgis.com/P3ePLMYs2RVChkJx/arcgis/rest/services/PacificTyphoons2005_WFL/FeatureServer/5',\n",
       "               'visibility': False},\n",
       "              {'id': '72668fcc8a904bd6a1444bef2e72f420',\n",
       "               'layerDefinition': {'drawingInfo': {'renderer': {'description': '',\n",
       "                  'label': '',\n",
       "                  'symbol': {'name': 'Standing Cylinder',\n",
       "                   'styleName': 'EsriThematicShapesStyle',\n",
       "                   'type': 'styleSymbolReference'},\n",
       "                  'type': 'simple',\n",
       "                  'visualVariables': [{'axis': 'height',\n",
       "                    'field': 'windspeed',\n",
       "                    'minDataValue': 0.0001,\n",
       "                    'minSize': 1,\n",
       "                    'type': 'sizeInfo'},\n",
       "                   {'axis': 'widthAndDepth',\n",
       "                    'minSize': 100000,\n",
       "                    'type': 'sizeInfo',\n",
       "                    'valueUnit': 'meters'},\n",
       "                   {'field': 'airpressure',\n",
       "                    'stops': [{'color': [245, 0, 0], 'value': 920},\n",
       "                     {'color': [245, 245, 0], 'value': 1014}],\n",
       "                    'type': 'colorInfo'}]}},\n",
       "                'elevationInfo': {'mode': 'absoluteHeight'}},\n",
       "               'layerType': 'ArcGISFeatureLayer',\n",
       "               'opacity': 1,\n",
       "               'popupInfo': {'mediaInfos': [{'caption': \"<div><p><span style='font-weight:bold;'>Pressure: </span><span>{airpressure} hPa</span></p><p><span style='font-weight:bold;'>Wind speed: </span><span>{wind_mph} mph / {wind_kph} kph</span></p><p><p><span style='font-weight:bold;'>Date: </span><span>{timedescription}</span></p></div></p>\",\n",
       "                  'title': \"<div><p style='font-weight:bold;'><span>{typhoonclass} {typhoon}</span></p></div>\",\n",
       "                  'type': 'image',\n",
       "                  'value': {'sourceURL': '{image}'}}],\n",
       "                'title': '{typhoon}'},\n",
       "               'title': 'Typhoons Q2',\n",
       "               'url': 'http://services.arcgis.com/P3ePLMYs2RVChkJx/arcgis/rest/services/PacificTyphoons2005_WFL/FeatureServer/4',\n",
       "               'visibility': False}],\n",
       "             'listMode': 'hide-children',\n",
       "             'opacity': 1,\n",
       "             'title': 'April - June',\n",
       "             'visibility': True,\n",
       "             'visibilityMode': 'inherited'}]),\n",
       "          ('initialState',\n",
       "           {'viewpoint': {'camera': {'heading': 351.1964858132987,\n",
       "              'position': {'spatialReference': {'wkid': 102100},\n",
       "               'x': 16338046.55787945,\n",
       "               'y': -255903.18543654715,\n",
       "               'z': 6324439.902154693},\n",
       "              'tilt': 17.65347586839879}}}),\n",
       "          ('version', '1.0'),\n",
       "          ('authoringApp', 'WebSceneViewer'),\n",
       "          ('authoringAppVersion', '3.6.0.0'),\n",
       "          ('baseMap',\n",
       "           {'baseMapLayers': [{'id': '73e9780a7d6f413f8547abbd19ec786c',\n",
       "              'layerType': 'ArcGISTiledMapServiceLayer',\n",
       "              'url': 'http://services.arcgisonline.com/arcgis/rest/services/Canvas/World_Dark_Gray_Base/MapServer'}],\n",
       "            'elevationLayers': [{'id': 'globalElevation_0',\n",
       "              'layerType': 'ArcGISTiledElevationServiceLayer',\n",
       "              'url': 'http://elevation3d.arcgis.com/arcgis/rest/services/WorldElevation3D/Terrain3D/ImageServer'}],\n",
       "            'id': 'basemap',\n",
       "            'title': 'Topographic',\n",
       "            'visibility': True}),\n",
       "          ('presentation',\n",
       "           {'slides': [{'baseMap': {'baseMapLayers': [{'id': '73e9780a7d6f413f8547abbd19ec786c',\n",
       "                 'layerType': 'ArcGISTiledMapServiceLayer',\n",
       "                 'url': 'http://services.arcgisonline.com/ArcGIS/rest/services/World_Topo_Map/MapServer'}],\n",
       "               'elevationLayers': [{'id': 'globalElevation_0',\n",
       "                 'layerType': 'ArcGISTiledElevationServiceLayer',\n",
       "                 'url': 'http://elevation3d.arcgis.com/arcgis/rest/services/WorldElevation3D/Terrain3D/ImageServer'}],\n",
       "               'id': 'basemap',\n",
       "               'title': 'Topographic',\n",
       "               'visibility': True},\n",
       "              'description': {'text': ''},\n",
       "              'id': 'slide_1',\n",
       "              'thumbnail': {'url': 'data:image/jpeg;base64,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'},\n",
       "              'title': {'text': 'Start of 2005'},\n",
       "              'viewpoint': {'camera': {'heading': 351.1964858600443,\n",
       "                'position': {'spatialReference': {'wkid': 102100},\n",
       "                 'x': 16338046.55787945,\n",
       "                 'y': -255903.18543654634,\n",
       "                 'z': 6324439.902154693},\n",
       "                'tilt': 17.653475866991755},\n",
       "               'scale': 17308012.743044183,\n",
       "               'targetGeometry': {'spatialReference': {'wkid': 102100},\n",
       "                'xmax': 19230710.0979518,\n",
       "                'xmin': 12763430.856557569,\n",
       "                'ymax': 5583288.779274275,\n",
       "                'ymin': -1210472.734638156}},\n",
       "              'visibleLayers': [{'id': '882ce65eceda4e2ba2ad65f9e2c0632f'},\n",
       "               {'id': '14a37c2a1a7-layer16'},\n",
       "               {'id': '16c9bf0e374443d394f0b77980171499'},\n",
       "               {'id': '3921d1e5c45c41b4a0b498df8fab4e2c'}]},\n",
       "             {'baseMap': {'baseMapLayers': [{'id': '73e9780a7d6f413f8547abbd19ec786c',\n",
       "                 'layerType': 'ArcGISTiledMapServiceLayer',\n",
       "                 'url': 'http://services.arcgisonline.com/ArcGIS/rest/services/World_Topo_Map/MapServer'}],\n",
       "               'elevationLayers': [{'id': 'globalElevation_0',\n",
       "                 'layerType': 'ArcGISTiledElevationServiceLayer',\n",
       "                 'url': 'http://elevation3d.arcgis.com/arcgis/rest/services/WorldElevation3D/Terrain3D/ImageServer'}],\n",
       "               'id': 'basemap',\n",
       "               'title': 'Topographic',\n",
       "               'visibility': True},\n",
       "              'description': {'text': ''},\n",
       "              'id': 'slide_2',\n",
       "              'thumbnail': {'url': 'data:image/jpeg;base64,/9j/4AAQSkZJRgABAQAAAQABAAD/2wBDAAYEBQYFBAYGBQYHBwYIChAKCgkJChQODwwQFxQYGBcUFhYaHSUfGhsjHBYWICwgIyYnKSopGR8tMC0oMCUoKSj/2wBDAQcHBwoIChMKChMoGhYaKCgoKCgoKCgoKCgoKCgoKCgoKCgoKCgoKCgoKCgoKCgoKCgoKCgoKCgoKCgoKCgoKCj/wAARCAA9AHADASIAAhEBAxEB/8QAHwAAAQUBAQEBAQEAAAAAAAAAAAECAwQFBgcICQoL/8QAtRAAAgEDAwIEAwUFBAQAAAF9AQIDAAQRBRIhMUEGE1FhByJxFDKBkaEII0KxwRVS0fAkM2JyggkKFhcYGRolJicoKSo0NTY3ODk6Q0RFRkdISUpTVFVWV1hZWmNkZWZnaGlqc3R1dnd4eXqDhIWGh4iJipKTlJWWl5iZmqKjpKWmp6ipqrKztLW2t7i5usLDxMXGx8jJytLT1NXW19jZ2uHi4+Tl5ufo6erx8vP09fb3+Pn6/8QAHwEAAwEBAQEBAQEBAQAAAAAAAAECAwQFBgcICQoL/8QAtREAAgECBAQDBAcFBAQAAQJ3AAECAxEEBSExBhJBUQdhcRMiMoEIFEKRobHBCSMzUvAVYnLRChYkNOEl8RcYGRomJygpKjU2Nzg5OkNERUZHSElKU1RVVldYWVpjZGVmZ2hpanN0dXZ3eHl6goOEhYaHiImKkpOUlZaXmJmaoqOkpaanqKmqsrO0tba3uLm6wsPExcbHyMnK0tPU1dbX2Nna4uPk5ebn6Onq8vP09fb3+Pn6/9oADAMBAAIRAxEAPwD5UooooAKKK0tN0TUdSjMllatJGDt3ZCjPHGSR6j86mc4wV5OyGouTsh8WizzQwyROhDjJzxjjP41Kvh65YDbLDnGTkn/CuitI3hTybqErNGArKTnDKdrHj3BqZEICbQfLPG7Bwc15ksZO+jPpoZZh5wUrPW3X0OX/AOEduiFCPGznoucD86WPw1fOoJaFD6Mxz+gPrXXJFtFq+Bli3P8An6VIn3ffH9P/AK1ZvHVOgv7Lw7eif3nnt9p91YMou4Wj3fdPUH8RxVSvZIMSWyKyghxnBHcCuf8AEHgmOaKKbSFSFiwV1eQ7SGIAI4POTjr26VpRzSDfLVVn36Hl4nL3T96m7r8TzuitG80XUbTHnWsmCruMDJ2qcFiOoX3IFZ1enGcZq8Xc85xa3CiiiqEFFbPh/wAN6nr17Ha6ZZzXEz9EiQsa988Gfs8NFBHeeLLsR8g/Y7Zg0hGecuflHHPGfwrpp4WcrN6LzMalaMNz560nSbrU7jyrZBu2l/mzyAMnp7V7vo3h66vkjstE092CICse0KsbD5l3ZxjnBJPUj1r1/wDsDQ/DekvB4d0+HTZWXH2xlzKpIwD5nJCk4ztPGe1avhbR/wCy9DitnmKhMvI2MF2PJJ/PHtjHbNc2Myd4mrBNtQWrfn2t+N+nzMaebRpqXIry7fr/AF+h4H4r+H2radeRX88Ja2uG8ubyT5jQfKApYDjBIPIJAJ55IzyOh6ZdaxcR2mnW7zXbvhF3hV6dyeO3rXvPxD1zzrfVtLs4GhubQo0rud3mREAZ56fM0X514x4ZnttP8UCW8WRoIblJvLTGHVXBwc9sfzrxcTGhSrKlTbcVZa76Np/1Y+ly/G4iph5SmlzLbt3X5lzX/Dd7pEun6fJF5t0kjRsIhu3OegXueo7Vo6f8NPFl0kMi6S8aSKGHmyojYxjlS2QeehFeueG7a1uviVqN8sYazsoz5TMRiKRlRGPrk7XGe4B65rvZ2BkV4HAPOGHzZB7c546dPQV34DKoV1KU5O3NJK3ZN69Tzq2f1qEVGMVzaN37vy0Pn3U/h7rOi2XnXot/s8bAM0UvIyewI569s1z1p5ssk0kQkbYu/A5AHUZ/Hj8a9u+Jsc+padY6fayhbq5ulAVzjA2kEk9wC6HgVU074daZZafNBNcXZeePZLKCqjAdW44IXlR1J71yYjJXVxMqWH2ile76u7/yJhnF6SniN29LLoeHapp817ZywwqzRMqLIV5CR7xuYkdMgqPrj1qpqHh+zuvtU10FbzFjaQyD/UxoQdqYGQduO/JP4V9C6r8P7K/klYXUqJNOJpQVBYqAQEU9FUZPY9vSuD1PwTqunJLFNZNeNOAyS2oaRUYMDgjGfXqMc+3HPisuxWDScU7Lqvl2va9l8/I1pY+hX3evn/XqfP2p6Aj68LHTiI28ozTLK2Ut+p2luuACoz71zoidkd1RmjTG5wDgZ6ZPbNe5+J/BCrB4hl0eRreNrn7O73jHzZOSWA2rjAxz04I9cVwV9ot5b2dnoVhE264cSXU5BCseuM+ijn8q76ddw91u9vyW8n5diHBT96P9X2X+Z9qeHNC0vwxYiz0Gxhto8YZ1XLOfVmPJP6DsK0WjErbnbc351IaTaDgYBr6frfqfON30Zk67AWgkMcIdo42C9m3HrtPsobIxg8deaTwyyS6NabniaVBhgrZ2sBg/j6/U1e1Oye+msikoSOGUSSKeQy4IIx3znHpgnrVFgpvruZ22eXdpH6blaNAFJ9Nz5+tbxkpQ5TilFwre06bfrf5WOPfTY/Efji5S6jhjhQPFcIC6yXEaN8ox/vBCT1IAxxXPfGTwJpmlabDrWk2kkEoeO2mRXJTy9hVWIOSDlUGe+eck5r02TTbL+3DqVrbq2pBRG0+SAo6c9i2OPXGAcDFN17Q4tb0yew1C7uDbzBQ6xbVGQQwIyCeoHc14UMpcaFSE2nKTbTe+uq9PyPap5jyVYyhdRVk108/U8T0Dxg2jeNb69gJFjcXUsropK+Yp37QcdhnI4Ne76Te22s2NvfIF3yxqcZy0ZIBKkjoRnmvEfHvgG40Jmv8ATyZ9LQKrEkB4gAFG71yT1A+tdr8FrqVvC940yyXDG72ht2WHyJ6npz6964sunWwuLlh6uieuvfy9f61OrHqlXoKtDW39a+hr/EDSJH06K/sEeS8sG3BQSzSRn7yg5znow/3fetTwprEWuaYs6Sb5FAEgHAyc4P6H8Qa0riaB1kguA/l7CHLKwXaRz82MfrVXRNLtbE3Mlrbqk1w++SVSMTdw3t1PAwM5wK9ieBksWsVCVrq0lrr2fqvPoeTGvF03Ra9PLuXShUkodp69OO/b8aIplLbJF2senvx2P+elTFQDg8GmGMY5GVP5V6F09zGzWxBqFlp+qWMtteCOe3f5XUtjkHpkdCCK898R/DtIWMtjB9usQrK1ozlXVSP4WBycdh1/3smu/iDWzvEAzx/fXuQCeec5PJz9D3qUKMh4iRjjCscfl0rixmX0sVZy0a2fVf12d0bUMXUpaR+aL6jJpcqvTk0OcfL2FNrfcRIG4ycHPFZdxbSX15fWtsywJIocSfxNIAASvsP3fPrn61Yv52gt90YBdnSMZ6AswXPvjOcVC8a2c+nNGXMjSPCXLc/MrSMeO5aMe2CRirimldf11MarUmovbT8dP8yyYxFDGgh8raoynHycdOOOPaozzViKQzwkHgAt+hI/pULja2KIu5o1YjK9+PyrjNJ0CbQ/FcY0q026LIpZ380fujtIK4JLNkqpz/tegrtSM1Ew2tWOIwlPEuDnvFpr5fo+pVOtKldR2asyw7D5QHDYHbtTEAQkoApJycDqaDtbDhdpPXnij/DNdBmPJycKOKcy8gjgHsajHXiptpIc7j8uMUnoUtSrdofILrHukT51APJI7fj0/GmgAnzYiDuAJweGHr/9erMoAC4qpCuzfGD8qEbe2B2H4dPpVRd0ZyVpH//Z'},\n",
       "              'title': {'text': 'August origins'},\n",
       "              'viewpoint': {'camera': {'heading': 315.5348196196585,\n",
       "                'position': {'spatialReference': {'wkid': 102100},\n",
       "                 'x': 18034663.07613952,\n",
       "                 'y': 544179.4588633721,\n",
       "                 'z': 2819426.3450047094},\n",
       "                'tilt': 37.399468879606104},\n",
       "               'scale': 7737759.332723031,\n",
       "               'targetGeometry': {'spatialReference': {'wkid': 102100},\n",
       "                'xmax': 18071800.740437724,\n",
       "                'xmin': 14071538.172449483,\n",
       "                'ymax': 4593143.012538526,\n",
       "                'ymin': 516126.52477937605}},\n",
       "              'visibleLayers': [{'id': '882ce65eceda4e2ba2ad65f9e2c0632f'},\n",
       "               {'id': '14a37c78bc8-layer19'},\n",
       "               {'id': '6e54f2736388480ab0a214cb468d48f9'},\n",
       "               {'id': '6b549bb78d824b4c8d24f5c90b93c4f6'}]},\n",
       "             {'baseMap': {'baseMapLayers': [{'id': '73e9780a7d6f413f8547abbd19ec786c',\n",
       "                 'layerType': 'ArcGISTiledMapServiceLayer',\n",
       "                 'url': 'http://services.arcgisonline.com/ArcGIS/rest/services/World_Topo_Map/MapServer'}],\n",
       "               'elevationLayers': [{'id': 'globalElevation_0',\n",
       "                 'layerType': 'ArcGISTiledElevationServiceLayer',\n",
       "                 'url': 'http://elevation3d.arcgis.com/arcgis/rest/services/WorldElevation3D/Terrain3D/ImageServer'}],\n",
       "               'id': 'basemap',\n",
       "               'title': 'Topographic',\n",
       "               'visibility': True},\n",
       "              'description': {'text': ''},\n",
       "              'id': 'slide_3',\n",
       "              'thumbnail': {'url': 'data:image/jpeg;base64,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'},\n",
       "              'title': {'text': 'August in Japan'},\n",
       "              'viewpoint': {'camera': {'heading': 41.187868723912416,\n",
       "                'position': {'spatialReference': {'wkid': 102100},\n",
       "                 'x': 14317116.922236785,\n",
       "                 'y': 3162810.5410621683,\n",
       "                 'z': 1942131.4690581001},\n",
       "                'tilt': 38.22074788332464},\n",
       "               'scale': 5977175.794663719,\n",
       "               'targetGeometry': {'spatialReference': {'wkid': 102100},\n",
       "                'xmax': 17329254.887698036,\n",
       "                'xmin': 14212941.909390198,\n",
       "                'ymax': 6343789.09167628,\n",
       "                'ymin': 3183340.4223876353}},\n",
       "              'visibleLayers': [{'id': '882ce65eceda4e2ba2ad65f9e2c0632f'},\n",
       "               {'id': '14a37c78bc8-layer19'},\n",
       "               {'id': '6e54f2736388480ab0a214cb468d48f9'},\n",
       "               {'id': '6b549bb78d824b4c8d24f5c90b93c4f6'}]},\n",
       "             {'baseMap': {'baseMapLayers': [{'id': '73e9780a7d6f413f8547abbd19ec786c',\n",
       "                 'layerType': 'ArcGISTiledMapServiceLayer',\n",
       "                 'url': 'http://services.arcgisonline.com/ArcGIS/rest/services/World_Topo_Map/MapServer'}],\n",
       "               'elevationLayers': [{'id': 'globalElevation_0',\n",
       "                 'layerType': 'ArcGISTiledElevationServiceLayer',\n",
       "                 'url': 'http://elevation3d.arcgis.com/arcgis/rest/services/WorldElevation3D/Terrain3D/ImageServer'}],\n",
       "               'id': 'basemap',\n",
       "               'title': 'Topographic',\n",
       "               'visibility': True},\n",
       "              'description': {'text': ''},\n",
       "              'id': 'slide_4',\n",
       "              'thumbnail': {'url': 'data:image/jpeg;base64,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'},\n",
       "              'title': {'text': 'All Typhoons'},\n",
       "              'viewpoint': {'camera': {'heading': 3.086488857999165,\n",
       "                'position': {'spatialReference': {'wkid': 102100},\n",
       "                 'x': 15204174.902554411,\n",
       "                 'y': 1790041.1372453775,\n",
       "                 'z': 10970890.001691733},\n",
       "                'tilt': 4.939849335423939},\n",
       "               'scale': 31188997.007979963,\n",
       "               'targetGeometry': {'spatialReference': {'wkid': 102100},\n",
       "                'xmax': 60177194.60815952,\n",
       "                'xmin': 10395709.650468588,\n",
       "                'ymax': 9092227.091906952,\n",
       "                'ymin': -1971400.5897845216}},\n",
       "              'visibleLayers': [{'id': '882ce65eceda4e2ba2ad65f9e2c0632f'},\n",
       "               {'id': '14a37c86f84-layer21'},\n",
       "               {'id': '7a24e304d2474d7eb29a712c95202140'},\n",
       "               {'id': '10944e27c9f04bc39b5821c0046523a5'},\n",
       "               {'id': '14a37c7f247-layer20'},\n",
       "               {'id': '90eba5af0b084c569a55ebc9b3bfc21e'},\n",
       "               {'id': '341d7b380907439990e4c238147b46ce'},\n",
       "               {'id': '14a37c78bc8-layer19'},\n",
       "               {'id': '6e54f2736388480ab0a214cb468d48f9'},\n",
       "               {'id': '6b549bb78d824b4c8d24f5c90b93c4f6'},\n",
       "               {'id': '14a37c4590b-layer18'},\n",
       "               {'id': 'b8cc403be27e475ca93db04a34845e89'},\n",
       "               {'id': 'e60bd6abdb094bf2b9daacd8bb57495c'},\n",
       "               {'id': '14a37c397dc-layer17'},\n",
       "               {'id': '56803f3d64184140950f0ef1256a0603'},\n",
       "               {'id': '72668fcc8a904bd6a1444bef2e72f420'},\n",
       "               {'id': '14a37c2a1a7-layer16'},\n",
       "               {'id': '16c9bf0e374443d394f0b77980171499'},\n",
       "               {'id': '3921d1e5c45c41b4a0b498df8fab4e2c'}]}]})])"
      ]
     },
     "execution_count": 34,
     "metadata": {},
     "output_type": "execute_result"
    }
   ],
   "source": [
    "new_web_scene_obj.update()\n",
    "new_web_scene_obj"
   ]
  },
  {
   "cell_type": "markdown",
   "metadata": {},
   "source": [
    "# Summary\n",
    "In this sample, we observed how to consume web maps, web scenes and how to update them. During this process, the sample showed how to read a web feature layer into a `FeatureService` object, how to use a `Geocoder` to get co-ordinates of a point of interest, how to modify the map widget using code, how to make copy of an existing item into your account, how to look for basemaps and finally, how to update layer properties within a web scene."
   ]
  }
 ],
 "metadata": {
  "kernelspec": {
   "display_name": "Python 3",
   "language": "python",
   "name": "python3"
  },
  "language_info": {
   "codemirror_mode": {
    "name": "ipython",
    "version": 3
   },
   "file_extension": ".py",
   "mimetype": "text/x-python",
   "name": "python",
   "nbconvert_exporter": "python",
   "pygments_lexer": "ipython3",
   "version": "3.5.2"
  }
 },
 "nbformat": 4,
 "nbformat_minor": 0
}

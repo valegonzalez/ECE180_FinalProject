{
 "cells": [
  {
   "cell_type": "markdown",
   "metadata": {},
   "source": [
    "Refer here for instructions to [download and run this sample locally](https://developers.arcgis.com/python/sample-notebooks/#Download-and-run-the-sample-notebooks) on your computer"
   ]
  },
  {
   "cell_type": "markdown",
   "metadata": {},
   "source": [
    "# Clone Portal users, groups and content\n",
    "\n",
    "This sample notebook can be used for cloning an entire Portal, from maybe a staging to a production environment. It clones the users, groups and the content. It does not copy over services and data though, and works at the tier of Portal items."
   ]
  },
  {
   "cell_type": "code",
   "execution_count": 1,
   "metadata": {
    "collapsed": true
   },
   "outputs": [],
   "source": [
    "from arcgis import GIS\n",
    "from IPython.display import display"
   ]
  },
  {
   "cell_type": "markdown",
   "metadata": {},
   "source": [
    "## Define the source and target portals\n",
    "To start with, define the source and target portals. Connect to them using accounts with administrative privileges:"
   ]
  },
  {
   "cell_type": "code",
   "execution_count": 2,
   "metadata": {
    "collapsed": false
   },
   "outputs": [],
   "source": [
    "source = GIS(\"portal or org url\", \"username\", \"password\")\n",
    "target = GIS(\"portal or org url\", \"username\", \"password\")\n",
    "target_admin_username = 'admin'"
   ]
  },
  {
   "cell_type": "markdown",
   "metadata": {},
   "source": [
    "# Users\n",
    "List the users in the source and target portals:"
   ]
  },
  {
   "cell_type": "code",
   "execution_count": 3,
   "metadata": {
    "collapsed": false
   },
   "outputs": [
    {
     "data": {
      "text/plain": [
       "[<User username:admin>,\n",
       " <User username:demo_account>,\n",
       " <User username:esri_boundaries>,\n",
       " <User username:esri_demographics>,\n",
       " <User username:esri_livingatlas>,\n",
       " <User username:esri_nav>,\n",
       " <User username:imagery>,\n",
       " <User username:journalist>,\n",
       " <User username:social>,\n",
       " <User username:system_publisher>,\n",
       " <User username:urban_planning>,\n",
       " <User username:weather>]"
      ]
     },
     "execution_count": 3,
     "metadata": {},
     "output_type": "execute_result"
    }
   ],
   "source": [
    "sourceusers = source.users.search()\n",
    "sourceusers"
   ]
  },
  {
   "cell_type": "code",
   "execution_count": 4,
   "metadata": {
    "collapsed": false
   },
   "outputs": [
    {
     "data": {
      "text/plain": [
       "[<User username:admin>,\n",
       " <User username:esri_boundaries>,\n",
       " <User username:esri_demographics>,\n",
       " <User username:esri_livingatlas>,\n",
       " <User username:esri_nav>,\n",
       " <User username:system_publisher>]"
      ]
     },
     "execution_count": 4,
     "metadata": {},
     "output_type": "execute_result"
    }
   ],
   "source": [
    "targetusers = target.users.search()\n",
    "targetusers"
   ]
  },
  {
   "cell_type": "markdown",
   "metadata": {},
   "source": [
    "If source users are already in the target, run the following code to delete them:"
   ]
  },
  {
   "cell_type": "code",
   "execution_count": 5,
   "metadata": {
    "collapsed": true
   },
   "outputs": [],
   "source": [
    "# create a list of system accounts that should not be modified\n",
    "systemusers = ['system_publisher', 'esri_nav', 'esri_livingatlas', \n",
    "               'esri_boundaries', 'esri_demographics']"
   ]
  },
  {
   "cell_type": "markdown",
   "metadata": {},
   "source": [
    "### Remove existing users from target portal\n",
    "Assign their content to admin account and delete the account"
   ]
  },
  {
   "cell_type": "code",
   "execution_count": 6,
   "metadata": {
    "collapsed": false
   },
   "outputs": [
    {
     "name": "stderr",
     "output_type": "stream",
     "text": [
      "User does not exist or is inaccessible.\n"
     ]
    },
    {
     "name": "stdout",
     "output_type": "stream",
     "text": [
      "User admin does not exist in Target Portal\n",
      "User demo_account does not exist in Target Portal\n"
     ]
    },
    {
     "name": "stderr",
     "output_type": "stream",
     "text": [
      "User does not exist or is inaccessible.\n"
     ]
    },
    {
     "name": "stdout",
     "output_type": "stream",
     "text": [
      "User imagery does not exist in Target Portal\n"
     ]
    },
    {
     "name": "stderr",
     "output_type": "stream",
     "text": [
      "User does not exist or is inaccessible.\n",
      "User does not exist or is inaccessible.\n"
     ]
    },
    {
     "name": "stdout",
     "output_type": "stream",
     "text": [
      "User journalist does not exist in Target Portal\n",
      "User social does not exist in Target Portal\n"
     ]
    },
    {
     "name": "stderr",
     "output_type": "stream",
     "text": [
      "User does not exist or is inaccessible.\n"
     ]
    },
    {
     "name": "stdout",
     "output_type": "stream",
     "text": [
      "User urban_planning does not exist in Target Portal\n"
     ]
    },
    {
     "name": "stderr",
     "output_type": "stream",
     "text": [
      "User does not exist or is inaccessible.\n"
     ]
    },
    {
     "name": "stdout",
     "output_type": "stream",
     "text": [
      "User weather does not exist in Target Portal\n"
     ]
    }
   ],
   "source": [
    "for srcuser in sourceusers:\n",
    "    if not srcuser.username in systemusers:\n",
    "        if srcuser.username is not target_admin_username: #don't delete the account used to connect\n",
    "            try:\n",
    "                targetusr = target.users.get(srcuser.username)\n",
    "                if targetusr is not None:\n",
    "                    print('Deleting user: ' + targetusr.fullname)\n",
    "                    targetusr.reassign_to(target_admin_username)\n",
    "                    targetusr.delete()\n",
    "            except:\n",
    "                print('User {} does not exist in Target Portal'.format(srcuser.username))"
   ]
  },
  {
   "cell_type": "markdown",
   "metadata": {},
   "source": [
    "### Copy Users\n",
    "Create a function that will accept connection to the target portal, user objects and password to create users with."
   ]
  },
  {
   "cell_type": "code",
   "execution_count": 7,
   "metadata": {
    "collapsed": true
   },
   "outputs": [],
   "source": [
    "def copy_user(target, user, password):\n",
    "    # See if the user has firstName and lastName properties\n",
    "    try:\n",
    "        firstname = user.firstName\n",
    "        lastname = user.lastName\n",
    "    except:\n",
    "        # if not, split the fullName\n",
    "        fullName = user.fullName\n",
    "        firstname = fullName.split()[0]\n",
    "        try:\n",
    "            lastname = fullName.split()[1]\n",
    "        except:\n",
    "            lastname = 'NoLastName'\n",
    "\n",
    "    try:\n",
    "        # create user\n",
    "        target_user = target.users.create(user.username, password, firstname, lastname,\n",
    "                                          user.email, user.description, user.role)\n",
    "\n",
    "        # update user properties\n",
    "        target_user.update(user.access, user.preferredView,\n",
    "                           user.description, user.tags, user.get_thumbnail_link(),\n",
    "                           culture=user.culture, region=user.region)\n",
    "        return target_user\n",
    "    \n",
    "    except:\n",
    "        print(\"Unable to create user \"+ user.username)\n",
    "        return None"
   ]
  },
  {
   "cell_type": "markdown",
   "metadata": {},
   "source": [
    "For each user in source portal, make a corresponding user in target portal:"
   ]
  },
  {
   "cell_type": "code",
   "execution_count": 8,
   "metadata": {
    "collapsed": false,
    "scrolled": true
   },
   "outputs": [
    {
     "name": "stdout",
     "output_type": "stream",
     "text": [
      "Creating user: demo_account\n",
      "Creating user: imagery\n",
      "Creating user: journalist\n",
      "Creating user: social\n",
      "Creating user: urban_planning\n",
      "Creating user: weather\n"
     ]
    }
   ],
   "source": [
    "ignore_list = [target_admin_username,'system_publisher', 'esri_nav', 'esri_livingatlas', \n",
    "               'esri_boundaries', 'esri_demographics']\n",
    "for user in sourceusers:\n",
    "    if not user.username in ignore_list:\n",
    "        print(\"Creating user: \" + user.username)\n",
    "        copy_user(target, user, 'TestPassword@123')"
   ]
  },
  {
   "cell_type": "markdown",
   "metadata": {},
   "source": [
    "Verify that users have been added to target portal:"
   ]
  },
  {
   "cell_type": "code",
   "execution_count": 9,
   "metadata": {
    "collapsed": false
   },
   "outputs": [
    {
     "data": {
      "text/plain": [
       "[<User username:admin>,\n",
       " <User username:demo_account>,\n",
       " <User username:esri_boundaries>,\n",
       " <User username:esri_demographics>,\n",
       " <User username:esri_livingatlas>,\n",
       " <User username:esri_nav>,\n",
       " <User username:imagery>,\n",
       " <User username:journalist>,\n",
       " <User username:social>,\n",
       " <User username:system_publisher>,\n",
       " <User username:urban_planning>,\n",
       " <User username:weather>]"
      ]
     },
     "execution_count": 9,
     "metadata": {},
     "output_type": "execute_result"
    }
   ],
   "source": [
    "targetusers = target.users.search()\n",
    "targetusers"
   ]
  },
  {
   "cell_type": "markdown",
   "metadata": {},
   "source": [
    "Thus users have been successfully added to the target portal"
   ]
  },
  {
   "cell_type": "markdown",
   "metadata": {},
   "source": [
    "# Groups"
   ]
  },
  {
   "cell_type": "markdown",
   "metadata": {},
   "source": [
    "List the groups in the source and target portals:"
   ]
  },
  {
   "cell_type": "code",
   "execution_count": 10,
   "metadata": {
    "collapsed": false
   },
   "outputs": [
    {
     "data": {
      "text/plain": [
       "[<Group title:\"Basemaps\" owner:admin>,\n",
       " <Group title:\"Central Services\" owner:admin>,\n",
       " <Group title:\"Compliance\" owner:admin>,\n",
       " <Group title:\"Customer Service, Finance, Billing and Accounting\" owner:admin>,\n",
       " <Group title:\"Demographic Content\" owner:admin>,\n",
       " <Group title:\"Design and Engineering\" owner:admin>,\n",
       " <Group title:\"Disaster Response\" owner:admin>,\n",
       " <Group title:\"Esri Boundary Layers\" owner:esri_boundaries>,\n",
       " <Group title:\"Esri Demographic Layers\" owner:esri_demographics>,\n",
       " <Group title:\"Executive Reports\" owner:admin>,\n",
       " <Group title:\"External Contractors\" owner:admin>,\n",
       " <Group title:\"Featured Apps\" owner:admin>,\n",
       " <Group title:\"Featured Maps and Apps\" owner:admin>,\n",
       " <Group title:\"Field and Facility Maintenance\" owner:admin>,\n",
       " <Group title:\"Fire Service\" owner:admin>,\n",
       " <Group title:\"Gallery\" owner:admin>,\n",
       " <Group title:\"Industrial Monitoring\" owner:admin>,\n",
       " <Group title:\"Lab Services\" owner:admin>,\n",
       " <Group title:\"Land Use Content\" owner:admin>,\n",
       " <Group title:\"Living Atlas\" owner:esri_livingatlas>,\n",
       " <Group title:\"Living Atlas Analysis Layers\" owner:esri_livingatlas>,\n",
       " <Group title:\"Navigator Maps\" owner:esri_nav>,\n",
       " <Group title:\"Network Operations\" owner:admin>,\n",
       " <Group title:\"Public Maps and Apps\" owner:admin>,\n",
       " <Group title:\"Tools and Add-Ins\" owner:admin>,\n",
       " <Group title:\"Wastewater Treatment\" owner:admin>,\n",
       " <Group title:\"Water Treatment\" owner:admin>,\n",
       " <Group title:\"Web App Templates\" owner:admin>]"
      ]
     },
     "execution_count": 10,
     "metadata": {},
     "output_type": "execute_result"
    }
   ],
   "source": [
    "sourcegroups = source.groups.search()\n",
    "sourcegroups"
   ]
  },
  {
   "cell_type": "code",
   "execution_count": 11,
   "metadata": {
    "collapsed": false
   },
   "outputs": [
    {
     "data": {
      "text/plain": [
       "[<Group title:\"Basemaps\" owner:admin>,\n",
       " <Group title:\"Esri Boundary Layers\" owner:esri_boundaries>,\n",
       " <Group title:\"Esri Demographic Layers\" owner:esri_demographics>,\n",
       " <Group title:\"Living Atlas\" owner:esri_livingatlas>,\n",
       " <Group title:\"Living Atlas Analysis Layers\" owner:esri_livingatlas>,\n",
       " <Group title:\"Navigator Maps\" owner:esri_nav>]"
      ]
     },
     "execution_count": 11,
     "metadata": {},
     "output_type": "execute_result"
    }
   ],
   "source": [
    "targetgroups = target.groups.search()\n",
    "targetgroups"
   ]
  },
  {
   "cell_type": "markdown",
   "metadata": {},
   "source": [
    "If source groups are already in the target, run the following code to delete them. If the group belongs to any of built-in user accounts, don't delete it."
   ]
  },
  {
   "cell_type": "code",
   "execution_count": 12,
   "metadata": {
    "collapsed": false
   },
   "outputs": [],
   "source": [
    "groups_to_ignore = ['Basemaps']\n",
    "for tg in targetgroups:\n",
    "    if tg.title not in groups_to_ignore:\n",
    "        for sg in sourcegroups:\n",
    "            if sg.title == tg.title and (not tg.owner in systemusers):\n",
    "                print(\"Cleaning up group {} in target Portal...\".format(tg.title))\n",
    "                tg.delete()\n",
    "                break"
   ]
  },
  {
   "cell_type": "markdown",
   "metadata": {},
   "source": [
    "## Copy Groups"
   ]
  },
  {
   "cell_type": "code",
   "execution_count": 13,
   "metadata": {
    "collapsed": true
   },
   "outputs": [],
   "source": [
    "import tempfile\n",
    "\n",
    "GROUP_COPY_PROPERTIES = ['title', 'description', 'tags', 'snippet', 'phone',\n",
    "                         'access', 'isInvitationOnly']\n",
    "\n",
    "def copy_group(target, source, group):\n",
    "    \"\"\" Copy group to the target portal.\"\"\"\n",
    "    with tempfile.TemporaryDirectory() as temp_dir:\n",
    "        # Create new groups with the subset of properties we want to\n",
    "        # copy to the target portal. Handle switching between org and\n",
    "        # public access when going from an org in a multitenant portal\n",
    "        # and a single tenant portal\n",
    "        target_group = {}\n",
    "        \n",
    "        for property_name in GROUP_COPY_PROPERTIES:\n",
    "            target_group[property_name] = group[property_name]\n",
    "\n",
    "        if target_group['access'] == 'org' and target.properties['portalMode'] == 'singletenant':\n",
    "            target_group['access'] = 'public'\n",
    "        elif target_group['access'] == 'public'\\\n",
    "             and source.properties['portalMode'] == 'singletenant'\\\n",
    "             and target.properties['portalMode'] == 'multitenant'\\\n",
    "             and 'id' in target.properties: # is org\n",
    "            target_group['access'] = 'org'\n",
    "\n",
    "        # Handle the thumbnail (if one exists)\n",
    "        thumbnail_file = None\n",
    "        if 'thumbnail' in group:\n",
    "            target_group['thumbnail'] = group.download_thumbnail(temp_dir)\n",
    "\n",
    "        # Create the group in the target portal\n",
    "        copied_group = target.groups.create_from_dict(target_group)\n",
    "        \n",
    "         # Reassign all groups to correct owners, add users, and find shared items\n",
    "        members = group.get_members()\n",
    "        if not members['owner'] == target_admin_username:\n",
    "            copied_group.reassign_to(members['owner'])\n",
    "        if members['users']:\n",
    "            copied_group.add_users(members['users'])\n",
    "        return copied_group"
   ]
  },
  {
   "cell_type": "markdown",
   "metadata": {},
   "source": [
    "For each group in source portal, make a corresponding group in target portal and a create a dictionary of source group id and corresponding group id in target portal:"
   ]
  },
  {
   "cell_type": "code",
   "execution_count": 14,
   "metadata": {
    "collapsed": false
   },
   "outputs": [
    {
     "name": "stdout",
     "output_type": "stream",
     "text": [
      "Copying group: Central Services\n",
      "Copying group: Compliance\n",
      "Copying group: Customer Service, Finance, Billing and Accounting\n",
      "Copying group: Demographic Content\n",
      "Copying group: Design and Engineering\n",
      "Copying group: Disaster Response\n",
      "Copying group: Executive Reports\n",
      "Copying group: External Contractors\n",
      "Copying group: Featured Apps\n",
      "Copying group: Featured Maps and Apps\n",
      "Copying group: Field and Facility Maintenance\n",
      "Copying group: Fire Service\n",
      "Copying group: Gallery\n",
      "Copying group: Industrial Monitoring\n",
      "Copying group: Lab Services\n",
      "Copying group: Land Use Content\n",
      "Copying group: Network Operations\n",
      "Copying group: Public Maps and Apps\n",
      "Copying group: Tools and Add-Ins\n",
      "Copying group: Wastewater Treatment\n",
      "Copying group: Water Treatment\n",
      "Copying group: Web App Templates\n"
     ]
    }
   ],
   "source": [
    "copied_groups = {}\n",
    "for group in sourcegroups:\n",
    "    if group.title not in groups_to_ignore:\n",
    "        if not group.owner in systemusers:\n",
    "            print(\"Copying group: \" + group.title)\n",
    "            tgt_group = copy_group(target, source, group)\n",
    "            copied_groups[group.groupid] = tgt_group.groupid"
   ]
  },
  {
   "cell_type": "markdown",
   "metadata": {},
   "source": [
    "Verify that groups have been created in the target portal:"
   ]
  },
  {
   "cell_type": "code",
   "execution_count": 15,
   "metadata": {
    "collapsed": false
   },
   "outputs": [
    {
     "data": {
      "text/plain": [
       "[<Group title:\"Basemaps\" owner:admin>,\n",
       " <Group title:\"Central Services\" owner:admin>,\n",
       " <Group title:\"Compliance\" owner:admin>,\n",
       " <Group title:\"Customer Service, Finance, Billing and Accounting\" owner:admin>,\n",
       " <Group title:\"Demographic Content\" owner:admin>,\n",
       " <Group title:\"Design and Engineering\" owner:admin>,\n",
       " <Group title:\"Disaster Response\" owner:admin>,\n",
       " <Group title:\"Esri Boundary Layers\" owner:esri_boundaries>,\n",
       " <Group title:\"Esri Demographic Layers\" owner:esri_demographics>,\n",
       " <Group title:\"Executive Reports\" owner:admin>,\n",
       " <Group title:\"External Contractors\" owner:admin>,\n",
       " <Group title:\"Featured Apps\" owner:admin>,\n",
       " <Group title:\"Featured Maps and Apps\" owner:admin>,\n",
       " <Group title:\"Field and Facility Maintenance\" owner:admin>,\n",
       " <Group title:\"Fire Service\" owner:admin>,\n",
       " <Group title:\"Gallery\" owner:admin>,\n",
       " <Group title:\"Industrial Monitoring\" owner:admin>,\n",
       " <Group title:\"Lab Services\" owner:admin>,\n",
       " <Group title:\"Land Use Content\" owner:admin>,\n",
       " <Group title:\"Living Atlas\" owner:esri_livingatlas>,\n",
       " <Group title:\"Living Atlas Analysis Layers\" owner:esri_livingatlas>,\n",
       " <Group title:\"Navigator Maps\" owner:esri_nav>,\n",
       " <Group title:\"Network Operations\" owner:admin>,\n",
       " <Group title:\"Public Maps and Apps\" owner:admin>,\n",
       " <Group title:\"Tools and Add-Ins\" owner:admin>,\n",
       " <Group title:\"Wastewater Treatment\" owner:admin>,\n",
       " <Group title:\"Water Treatment\" owner:admin>,\n",
       " <Group title:\"Web App Templates\" owner:admin>]"
      ]
     },
     "execution_count": 15,
     "metadata": {},
     "output_type": "execute_result"
    }
   ],
   "source": [
    "targetgroups = target.groups.search()\n",
    "targetgroups"
   ]
  },
  {
   "cell_type": "markdown",
   "metadata": {},
   "source": [
    "Print the mapping of source and target group ids:"
   ]
  },
  {
   "cell_type": "code",
   "execution_count": 16,
   "metadata": {
    "collapsed": false
   },
   "outputs": [
    {
     "data": {
      "text/plain": [
       "{'00685d821437479a846032c421af2e20': '35ba955e06c24448a87a0f840188f2c2',\n",
       " '03b3e9b1f1874ac4bc85f076d7371373': 'aec0c57a26e9499693229c2e8ccd8dad',\n",
       " '04abaffa97e34008a4fdaca17e804b22': '1a555adb5d744c1e878ca6039c20ffcb',\n",
       " '062dca8862854c9c8f3cd186554481b4': '54b3f0c7beb24242b61169e708b3b671',\n",
       " '0cfbd25be6904bb1a871e33248ac3686': '5bd66bb3beb844698a7db6fad533b017',\n",
       " '0f902ab159474ba98e71cc6a83c55deb': '172cd7a24d5344c1b25a9390995b5097',\n",
       " '1c498c18b4a04dc3924426f42457e8c6': '395838c51ca540bba8144373e7806858',\n",
       " '30d6efd349094523aaf118dda49c7b5a': '1d08f1ca6e29431895a4ae56b9fbcbe5',\n",
       " '382d38c360c345a2b10d6205b31d7568': 'd880d334870b4189a548e231318e525f',\n",
       " '4bd58d252e2b40f6869f7af415225b97': '668dc64743a4476cb8898a9988c5b560',\n",
       " '5e6744e9f15e428b8e3c5adc332117dc': '63bbba1742d94496ae4360972c466486',\n",
       " '77f719c3b8fc4b979798121163bd72d1': '7575576e35e249f9912e9631ac12753f',\n",
       " '7d5b72995cc844649b6ad16e34daff6d': '620a39ada91749dfb99da0a2c91c1cec',\n",
       " '856aab07012f487ea0f754db6c8de399': 'b4b38931dee643f389c97a4012372667',\n",
       " '8f00bee7393042e58dc875162865d033': 'c7226b5d3df341aeb25e5661e19aad37',\n",
       " '958049fc218e4d31af295483e8bf276c': '5da971d4f31441a5bcbcfb2e3a71abb3',\n",
       " '9e8d8b3c5dfc4759a35f6c1d7112d443': '14e105e50c204d03a51211567ec6f530',\n",
       " 'a9e53eacec934dab83aaeb1a72e76ab0': 'f423c1beeeed48ffb634808f36074f4a',\n",
       " 'af60dd27694a4cf2a09aa4f26bd5dd4d': '66ec9fbed63244bbaf6d6de21f66a183',\n",
       " 'c93bd0deb7af400a97485240b4c1d7f4': '9b2ed6d7008d447b898bed8278bf6bbc',\n",
       " 'cb3976807e114f23ada7ed10f7bf3590': '2a8f200d1f9d49178aa45927594cf1ee',\n",
       " 'd2884448e25f4971b182689f3d9b68b0': 'd46523d15d1d49c0b276b9c6aeddb110'}"
      ]
     },
     "execution_count": 16,
     "metadata": {},
     "output_type": "execute_result"
    }
   ],
   "source": [
    "copied_groups"
   ]
  },
  {
   "cell_type": "markdown",
   "metadata": {},
   "source": [
    "With this part of the sample, we have successfully created users, groups and added the appropriate users to these groups."
   ]
  },
  {
   "cell_type": "markdown",
   "metadata": {},
   "source": [
    "# Items"
   ]
  },
  {
   "cell_type": "markdown",
   "metadata": {},
   "source": [
    "Copying items consists of multiple steps. The following section of the sample does the following\n",
    "    1. Create a dictionary of itemIds and item objects for each user in each folder\n",
    "    2. Prepare sharing information for each item"
   ]
  },
  {
   "cell_type": "markdown",
   "metadata": {},
   "source": [
    "## Create a dictionary of itemIds and item objects\n",
    "Do this for each user and each folder in the user account"
   ]
  },
  {
   "cell_type": "code",
   "execution_count": 17,
   "metadata": {
    "collapsed": false
   },
   "outputs": [
    {
     "name": "stdout",
     "output_type": "stream",
     "text": [
      "Collecting item ids for admin...\n",
      "Collecting item ids for demo_account...\n",
      "Collecting item ids for imagery...\n",
      "Collecting item ids for journalist...\n",
      "Collecting item ids for social...\n",
      "Collecting item ids for urban_planning...\n",
      "Collecting item ids for weather...\n"
     ]
    }
   ],
   "source": [
    "source_items_by_id = {}\n",
    "for user in sourceusers:\n",
    "    if not user.username in systemusers:  # ignore any 'system' Portal users\n",
    "        print(\"Collecting item ids for {}...\".format(user.username))\n",
    "        usercontent = user.items()\n",
    "        # Copy item ids from root folder first\n",
    "        for item in usercontent:\n",
    "            source_items_by_id[item.itemid] = item \n",
    "        # Copy item ids from folders next\n",
    "        folders = user.folders\n",
    "        for folder in folders:\n",
    "            folderitems = user.items(folder=folder['title'])\n",
    "            for item in folderitems:\n",
    "                source_items_by_id[item.itemid] = item "
   ]
  },
  {
   "cell_type": "markdown",
   "metadata": {},
   "source": [
    "## Prepare sharing information for each item"
   ]
  },
  {
   "cell_type": "code",
   "execution_count": 18,
   "metadata": {
    "collapsed": false,
    "scrolled": false
   },
   "outputs": [],
   "source": [
    "for group in sourcegroups:\n",
    "    if group.title not in groups_to_ignore:\n",
    "        if not group.owner in systemusers:\n",
    "            target_group_id = copied_groups[group.groupid]\n",
    "            for group_item in group.content():\n",
    "                if not group_item.owner in systemusers:\n",
    "                    try:\n",
    "                        item = source_items_by_id[group_item.itemid]\n",
    "                        if item is not None:\n",
    "                            if not 'groups'in item:\n",
    "                                item['groups'] = []\n",
    "                            item['groups'].append(target_group_id)\n",
    "                    except:\n",
    "                        print(\"Not found item : \" + group_item.itemid)"
   ]
  },
  {
   "cell_type": "markdown",
   "metadata": {},
   "source": [
    "### Print a mapping of item and its group membership"
   ]
  },
  {
   "cell_type": "code",
   "execution_count": 19,
   "metadata": {
    "collapsed": false
   },
   "outputs": [
    {
     "name": "stdout",
     "output_type": "stream",
     "text": [
      "\n",
      "hurricane_tracks_agg_result_fullds5      # \n",
      "hurricane_tracks_agg_result_fullds       # \n",
      "Austin_Map_WFL                           # shared # ['9b2ed6d7008d447b898bed8278bf6bbc']\n",
      "Parcel_data                              # org # ['9b2ed6d7008d447b898bed8278bf6bbc']\n",
      "ImgSrv_Iran_WorldView2_Multispectral     # \n",
      "bigDataFileShares_full_dataset2          # \n",
      "PrintingTools                            # \n",
      "Chennai_precipitation                    # \n",
      "SampleWorldCities                        # \n",
      "Austin_Map_WFL                           # \n",
      "bigDataFileShares_ht_ui2                 # \n",
      "Geometry                                 # \n",
      "bigDataFileShares_fixtry4                # \n",
      "Parcel_data                              # \n",
      "hurricane_tracks_agg_result_fullds_shp   # \n",
      "Buildings                                # shared # ['9b2ed6d7008d447b898bed8278bf6bbc']\n",
      "bigDataFileShares_ht_ui5                 # \n",
      "Community_inteaction_map_WFL             # \n",
      "bigDataFileShares_full_dataset3          # \n",
      "Community_inteaction_map                 # org # ['9b2ed6d7008d447b898bed8278bf6bbc']\n",
      "hurricane_tracks_agg_result              # \n",
      "Community_inteaction_map_WFL             # org # ['9b2ed6d7008d447b898bed8278bf6bbc']\n",
      "Hurricanes                               # \n",
      "earthquakes                              # \n",
      "hurricane_tracks_agg_result_fullds_gdb   # \n",
      "SampleWorldCities                        # \n",
      "Hurricanes                               # \n",
      "ImgSrv_Landast_Montana2015               # \n",
      "Geometry                                 # \n",
      "bigDataFileShares_ht_ui3                 # \n",
      "SampleWorldCities                        # \n",
      "PrintingTools                            # \n",
      "bigDataFileShares_Chicago_accidents      # \n",
      "SampleWorldCities                        # \n",
      "earthquakes                              # "
     ]
    }
   ],
   "source": [
    "for key in source_items_by_id.keys():\n",
    "    item = source_items_by_id[key]\n",
    "    print(\"\\n{:40s}\".format(item.title), end = \" # \")\n",
    "    if 'groups' in item:\n",
    "        print(item.access, end = \" # \")\n",
    "        print(item.groups, end = \"\")"
   ]
  },
  {
   "cell_type": "markdown",
   "metadata": {
    "collapsed": true
   },
   "source": [
    "## Copy Items"
   ]
  },
  {
   "cell_type": "code",
   "execution_count": 20,
   "metadata": {
    "collapsed": false
   },
   "outputs": [],
   "source": [
    "TEXT_BASED_ITEM_TYPES = frozenset(['Web Map', 'Feature Service', 'Map Service','Web Scene',\n",
    "                                   'Image Service', 'Feature Collection', \n",
    "                                   'Feature Collection Template',\n",
    "                                   'Web Mapping Application', 'Mobile Application', \n",
    "                                   'Symbol Set', 'Color Set',\n",
    "                                   'Windows Viewer Configuration'])\n",
    "ITEM_COPY_PROPERTIES = ['title', 'type', 'typeKeywords', 'description', 'tags',\n",
    "                        'snippet', 'extent', 'spatialReference', 'name',\n",
    "                        'accessInformation', 'licenseInfo', 'culture', 'url', ]\n",
    "\n",
    "def copy_item(target, owner, folder, item):\n",
    "    with tempfile.TemporaryDirectory() as temp_dir:\n",
    "        copy_item = {}\n",
    "        for property_name in ITEM_COPY_PROPERTIES:\n",
    "            copy_item[property_name] = item[property_name]\n",
    "\n",
    "        data_file = None\n",
    "        if item.type in TEXT_BASED_ITEM_TYPES:\n",
    "            # If its a text-based item, then read the text and add it to the request.\n",
    "            if item.size > 0:\n",
    "                text = item.get_data(False)\n",
    "                #textstr = text.decode('utf-8')\n",
    "                copy_item['text'] = text\n",
    "        elif item.size > 0: # download data for all other types, not just item.type in FILE_BASED_ITEM_TYPES:\n",
    "            # download data and add to the request as a file\n",
    "            data_file = item.download(temp_dir)\n",
    "\n",
    "        thumbnail_file = item.download_thumbnail(temp_dir)\n",
    "\n",
    "        metadata_file = item.download_metadata(temp_dir)\n",
    "\n",
    "        # Add the item to the target portal\n",
    "        copied_item = target.content.add(copy_item, data_file, thumbnail_file, \n",
    "                                         metadata_file, owner, folder)\n",
    "\n",
    "        return copied_item"
   ]
  },
  {
   "cell_type": "code",
   "execution_count": 21,
   "metadata": {
    "collapsed": false
   },
   "outputs": [],
   "source": [
    "RELATIONSHIP_TYPES = frozenset(['Map2Service', 'WMA2Code',\n",
    "                                'Map2FeatureCollection', 'MobileApp2Code', 'Service2Data',\n",
    "                                'Service2Service'])\n",
    "\n",
    "def copy_relationships(target, copied_items, src_item, relationships, owner, folder):\n",
    "    \n",
    "    target_item_id = copied_items.get(src_item.itemid)\n",
    "    if target_item_id is not None:\n",
    "        target_item = target.content.get(target_item_id)\n",
    "\n",
    "        for rel_type in RELATIONSHIP_TYPES:\n",
    "            src_rel_items = src_item.related_items(rel_type)\n",
    "\n",
    "            for src_rel_item in src_rel_items:\n",
    "                print(\"***Found related items for \" + src_rel_item.title)\n",
    "                source_rel_id = src_rel_item.itemid\n",
    "\n",
    "                # See if it's already been copied to the target\n",
    "                target_rel_id = copied_items.get(source_rel_id)\n",
    "                if not target_rel_id:\n",
    "                    # If not, then copy it to the target - folder may have moved though?\n",
    "                    target_rel_item = clone_item(target, owner, folder, src_rel_item)\n",
    "\n",
    "                    if target_rel_item is not None:\n",
    "                        # add relationship from target_item to copied item\n",
    "                        result = target_item.add_relationship(target_rel_item, rel_type)\n",
    "\n",
    "                        if not result:\n",
    "                            print('Unable to add relationship from ' +  target_item.itemid + ' to ' + target_rel_item.itemid)\n",
    "                    else:\n",
    "                        print(\"@@@Error Cloning Item \"+src_rel_item.title)"
   ]
  },
  {
   "cell_type": "code",
   "execution_count": 22,
   "metadata": {
    "collapsed": false,
    "scrolled": false
   },
   "outputs": [
    {
     "name": "stdout",
     "output_type": "stream",
     "text": [
      "**************\n",
      "admin\n"
     ]
    },
    {
     "data": {
      "text/html": [
       "<div class=\"item_container\" style=\"height: auto; overflow: hidden; border: 1px solid #cfcfcf; border-radius: 2px; background: #f6fafa; line-height: 1.21429em; padding: 10px;\">\n",
       "                    <div class=\"item_left\" style=\"width: 210px; float: left;\">\n",
       "                       <a href='https://dev002759.esri.com/portal/home/item.html?id=087438f900c94d1a957992dea0c8bc6a' target='_blank'>\n",
       "                        <img src='https://dev002759.esri.com/portal/portalimages/desktopapp.png' class=\"itemThumbnail\">\n",
       "                       </a>\n",
       "                    </div>\n",
       "\n",
       "                    <div class=\"item_right\"     style=\"float: none; width: auto; overflow: hidden;\">\n",
       "                        <a href='https://dev002759.esri.com/portal/home/item.html?id=087438f900c94d1a957992dea0c8bc6a' target='_blank'><b>SampleWorldCities</b>\n",
       "                        </a>\n",
       "                        <br/><img src='https://dev002759.esri.com/portal/home/js/jsapi/esri/css/images/item_type_icons/mapimages16.png' style=\"vertical-align:middle;\">WMS by admin\n",
       "                        <br/>Last Modified: September 27, 2016\n",
       "                        <br/>0 comments, 0 views\n",
       "                    </div>\n",
       "                </div>\n",
       "                "
      ],
      "text/plain": [
       "<Item title:\"SampleWorldCities\" type:WMS owner:admin>"
      ]
     },
     "metadata": {},
     "output_type": "display_data"
    },
    {
     "data": {
      "text/html": [
       "<div class=\"item_container\" style=\"height: auto; overflow: hidden; border: 1px solid #cfcfcf; border-radius: 2px; background: #f6fafa; line-height: 1.21429em; padding: 10px;\">\n",
       "                    <div class=\"item_left\" style=\"width: 210px; float: left;\">\n",
       "                       <a href='https://dev002759.esri.com/portal/home/item.html?id=0d38e814376445a68d3b2c000f86b8a7' target='_blank'>\n",
       "                        <img src='https://dev002759.esri.com/portal/portalimages/desktopapp.png' class=\"itemThumbnail\">\n",
       "                       </a>\n",
       "                    </div>\n",
       "\n",
       "                    <div class=\"item_right\"     style=\"float: none; width: auto; overflow: hidden;\">\n",
       "                        <a href='https://dev002759.esri.com/portal/home/item.html?id=0d38e814376445a68d3b2c000f86b8a7' target='_blank'><b>SampleWorldCities</b>\n",
       "                        </a>\n",
       "                        <br/><img src='https://dev002759.esri.com/portal/home/js/jsapi/esri/css/images/item_type_icons/mapimages16.png' style=\"vertical-align:middle;\">Map Service by admin\n",
       "                        <br/>Last Modified: September 27, 2016\n",
       "                        <br/>0 comments, 1 views\n",
       "                    </div>\n",
       "                </div>\n",
       "                "
      ],
      "text/plain": [
       "<Item title:\"SampleWorldCities\" type:Map Service owner:admin>"
      ]
     },
     "metadata": {},
     "output_type": "display_data"
    },
    {
     "data": {
      "text/html": [
       "<div class=\"item_container\" style=\"height: auto; overflow: hidden; border: 1px solid #cfcfcf; border-radius: 2px; background: #f6fafa; line-height: 1.21429em; padding: 10px;\">\n",
       "                    <div class=\"item_left\" style=\"width: 210px; float: left;\">\n",
       "                       <a href='https://dev002759.esri.com/portal/home/item.html?id=26b23b1658524a358fd3d6a16d97eb01' target='_blank'>\n",
       "                        <img src='https://dev002759.esri.com/portal/portalimages/desktopapp.png' class=\"itemThumbnail\">\n",
       "                       </a>\n",
       "                    </div>\n",
       "\n",
       "                    <div class=\"item_right\"     style=\"float: none; width: auto; overflow: hidden;\">\n",
       "                        <a href='https://dev002759.esri.com/portal/home/item.html?id=26b23b1658524a358fd3d6a16d97eb01' target='_blank'><b>SampleWorldCities</b>\n",
       "                        </a>\n",
       "                        <br/><img src='https://dev002759.esri.com/portal/home/js/jsapi/esri/css/images/item_type_icons/mapimages16.png' style=\"vertical-align:middle;\">Map Service by admin\n",
       "                        <br/>Last Modified: October 10, 2016\n",
       "                        <br/>0 comments, 1 views\n",
       "                    </div>\n",
       "                </div>\n",
       "                "
      ],
      "text/plain": [
       "<Item title:\"SampleWorldCities\" type:Map Service owner:admin>"
      ]
     },
     "metadata": {},
     "output_type": "display_data"
    },
    {
     "data": {
      "text/html": [
       "<div class=\"item_container\" style=\"height: auto; overflow: hidden; border: 1px solid #cfcfcf; border-radius: 2px; background: #f6fafa; line-height: 1.21429em; padding: 10px;\">\n",
       "                    <div class=\"item_left\" style=\"width: 210px; float: left;\">\n",
       "                       <a href='https://dev002759.esri.com/portal/home/item.html?id=5997bf15b6704878a9b979c096850500' target='_blank'>\n",
       "                        <img src='https://dev002759.esri.com/portal/portalimages/desktopapp.png' class=\"itemThumbnail\">\n",
       "                       </a>\n",
       "                    </div>\n",
       "\n",
       "                    <div class=\"item_right\"     style=\"float: none; width: auto; overflow: hidden;\">\n",
       "                        <a href='https://dev002759.esri.com/portal/home/item.html?id=5997bf15b6704878a9b979c096850500' target='_blank'><b>PrintingTools</b>\n",
       "                        </a>\n",
       "                        <br/><img src='https://dev002759.esri.com/portal/home/js/jsapi/esri/css/images/item_type_icons/layers16.png' style=\"vertical-align:middle;\">Geoprocessing Service by admin\n",
       "                        <br/>Last Modified: October 10, 2016\n",
       "                        <br/>0 comments, 1 views\n",
       "                    </div>\n",
       "                </div>\n",
       "                "
      ],
      "text/plain": [
       "<Item title:\"PrintingTools\" type:Geoprocessing Service owner:admin>"
      ]
     },
     "metadata": {},
     "output_type": "display_data"
    },
    {
     "data": {
      "text/html": [
       "<div class=\"item_container\" style=\"height: auto; overflow: hidden; border: 1px solid #cfcfcf; border-radius: 2px; background: #f6fafa; line-height: 1.21429em; padding: 10px;\">\n",
       "                    <div class=\"item_left\" style=\"width: 210px; float: left;\">\n",
       "                       <a href='https://dev002759.esri.com/portal/home/item.html?id=5ae3157631124ddcb47ca295aac916a3' target='_blank'>\n",
       "                        <img src='https://dev002759.esri.com/portal/portalimages/desktopapp.png' class=\"itemThumbnail\">\n",
       "                       </a>\n",
       "                    </div>\n",
       "\n",
       "                    <div class=\"item_right\"     style=\"float: none; width: auto; overflow: hidden;\">\n",
       "                        <a href='https://dev002759.esri.com/portal/home/item.html?id=5ae3157631124ddcb47ca295aac916a3' target='_blank'><b>SampleWorldCities</b>\n",
       "                        </a>\n",
       "                        <br/><img src='https://dev002759.esri.com/portal/home/js/jsapi/esri/css/images/item_type_icons/mapimages16.png' style=\"vertical-align:middle;\">WMS by admin\n",
       "                        <br/>Last Modified: October 10, 2016\n",
       "                        <br/>0 comments, 0 views\n",
       "                    </div>\n",
       "                </div>\n",
       "                "
      ],
      "text/plain": [
       "<Item title:\"SampleWorldCities\" type:WMS owner:admin>"
      ]
     },
     "metadata": {},
     "output_type": "display_data"
    },
    {
     "data": {
      "text/html": [
       "<div class=\"item_container\" style=\"height: auto; overflow: hidden; border: 1px solid #cfcfcf; border-radius: 2px; background: #f6fafa; line-height: 1.21429em; padding: 10px;\">\n",
       "                    <div class=\"item_left\" style=\"width: 210px; float: left;\">\n",
       "                       <a href='https://dev002759.esri.com/portal/home/item.html?id=f38d4727d7ac44da9627ffaa8ff469c5' target='_blank'>\n",
       "                        <img src='data:image/png;base64,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' width='200' height='133' class=\"itemThumbnail\">\n",
       "                       </a>\n",
       "                    </div>\n",
       "\n",
       "                    <div class=\"item_right\"     style=\"float: none; width: auto; overflow: hidden;\">\n",
       "                        <a href='https://dev002759.esri.com/portal/home/item.html?id=f38d4727d7ac44da9627ffaa8ff469c5' target='_blank'><b>Chennai_precipitation</b>\n",
       "                        </a>\n",
       "                        <br/><img src='https://dev002759.esri.com/portal/home/js/jsapi/esri/css/images/item_type_icons/layers16.png' style=\"vertical-align:middle;\">CSV by admin\n",
       "                        <br/>Last Modified: October 06, 2016\n",
       "                        <br/>0 comments, 3 views\n",
       "                    </div>\n",
       "                </div>\n",
       "                "
      ],
      "text/plain": [
       "<Item title:\"Chennai_precipitation\" type:CSV owner:admin>"
      ]
     },
     "metadata": {},
     "output_type": "display_data"
    },
    {
     "data": {
      "text/html": [
       "<div class=\"item_container\" style=\"height: auto; overflow: hidden; border: 1px solid #cfcfcf; border-radius: 2px; background: #f6fafa; line-height: 1.21429em; padding: 10px;\">\n",
       "                    <div class=\"item_left\" style=\"width: 210px; float: left;\">\n",
       "                       <a href='https://dev002759.esri.com/portal/home/item.html?id=5bd7d31b0f9f4e6787b1dbbd9bdea656' target='_blank'>\n",
       "                        <img src='https://dev002759.esri.com/portal/portalimages/desktopapp.png' class=\"itemThumbnail\">\n",
       "                       </a>\n",
       "                    </div>\n",
       "\n",
       "                    <div class=\"item_right\"     style=\"float: none; width: auto; overflow: hidden;\">\n",
       "                        <a href='https://dev002759.esri.com/portal/home/item.html?id=5bd7d31b0f9f4e6787b1dbbd9bdea656' target='_blank'><b>bigDataFileShares_Chicago_accidents</b>\n",
       "                        </a>\n",
       "                        <br/><img src='https://dev002759.esri.com/portal/home/js/jsapi/esri/css/images/item_type_icons/layers16.png' style=\"vertical-align:middle;\">Big Data File Share by admin\n",
       "                        <br/>Last Modified: October 10, 2016\n",
       "                        <br/>0 comments, 1 views\n",
       "                    </div>\n",
       "                </div>\n",
       "                "
      ],
      "text/plain": [
       "<Item title:\"bigDataFileShares_Chicago_accidents\" type:Big Data File Share owner:admin>"
      ]
     },
     "metadata": {},
     "output_type": "display_data"
    },
    {
     "data": {
      "text/html": [
       "<div class=\"item_container\" style=\"height: auto; overflow: hidden; border: 1px solid #cfcfcf; border-radius: 2px; background: #f6fafa; line-height: 1.21429em; padding: 10px;\">\n",
       "                    <div class=\"item_left\" style=\"width: 210px; float: left;\">\n",
       "                       <a href='https://dev002759.esri.com/portal/home/item.html?id=78bfd850093c4e6e96c8d1ec013b08e6' target='_blank'>\n",
       "                        <img src='https://dev002759.esri.com/portal/portalimages/desktopapp.png' class=\"itemThumbnail\">\n",
       "                       </a>\n",
       "                    </div>\n",
       "\n",
       "                    <div class=\"item_right\"     style=\"float: none; width: auto; overflow: hidden;\">\n",
       "                        <a href='https://dev002759.esri.com/portal/home/item.html?id=78bfd850093c4e6e96c8d1ec013b08e6' target='_blank'><b>Geometry</b>\n",
       "                        </a>\n",
       "                        <br/><img src='https://dev002759.esri.com/portal/home/js/jsapi/esri/css/images/item_type_icons/layers16.png' style=\"vertical-align:middle;\">Geometry Service by admin\n",
       "                        <br/>Last Modified: September 27, 2016\n",
       "                        <br/>0 comments, 1 views\n",
       "                    </div>\n",
       "                </div>\n",
       "                "
      ],
      "text/plain": [
       "<Item title:\"Geometry\" type:Geometry Service owner:admin>"
      ]
     },
     "metadata": {},
     "output_type": "display_data"
    },
    {
     "data": {
      "text/html": [
       "<div class=\"item_container\" style=\"height: auto; overflow: hidden; border: 1px solid #cfcfcf; border-radius: 2px; background: #f6fafa; line-height: 1.21429em; padding: 10px;\">\n",
       "                    <div class=\"item_left\" style=\"width: 210px; float: left;\">\n",
       "                       <a href='https://dev002759.esri.com/portal/home/item.html?id=056f923ecf954a8bb36129258c1998c4' target='_blank'>\n",
       "                        <img src='https://dev002759.esri.com/portal/portalimages/desktopapp.png' class=\"itemThumbnail\">\n",
       "                       </a>\n",
       "                    </div>\n",
       "\n",
       "                    <div class=\"item_right\"     style=\"float: none; width: auto; overflow: hidden;\">\n",
       "                        <a href='https://dev002759.esri.com/portal/home/item.html?id=056f923ecf954a8bb36129258c1998c4' target='_blank'><b>bigDataFileShares_ht_ui5</b>\n",
       "                        </a>\n",
       "                        <br/><img src='https://dev002759.esri.com/portal/home/js/jsapi/esri/css/images/item_type_icons/layers16.png' style=\"vertical-align:middle;\">Big Data File Share by admin\n",
       "                        <br/>Last Modified: October 16, 2016\n",
       "                        <br/>0 comments, 1 views\n",
       "                    </div>\n",
       "                </div>\n",
       "                "
      ],
      "text/plain": [
       "<Item title:\"bigDataFileShares_ht_ui5\" type:Big Data File Share owner:admin>"
      ]
     },
     "metadata": {},
     "output_type": "display_data"
    },
    {
     "data": {
      "text/html": [
       "<div class=\"item_container\" style=\"height: auto; overflow: hidden; border: 1px solid #cfcfcf; border-radius: 2px; background: #f6fafa; line-height: 1.21429em; padding: 10px;\">\n",
       "                    <div class=\"item_left\" style=\"width: 210px; float: left;\">\n",
       "                       <a href='https://dev002759.esri.com/portal/home/item.html?id=7831ebcdcc9043fab69889fb00cee204' target='_blank'>\n",
       "                        <img src='https://dev002759.esri.com/portal/portalimages/desktopapp.png' class=\"itemThumbnail\">\n",
       "                       </a>\n",
       "                    </div>\n",
       "\n",
       "                    <div class=\"item_right\"     style=\"float: none; width: auto; overflow: hidden;\">\n",
       "                        <a href='https://dev002759.esri.com/portal/home/item.html?id=7831ebcdcc9043fab69889fb00cee204' target='_blank'><b>PrintingTools</b>\n",
       "                        </a>\n",
       "                        <br/><img src='https://dev002759.esri.com/portal/home/js/jsapi/esri/css/images/item_type_icons/layers16.png' style=\"vertical-align:middle;\">Geoprocessing Service by admin\n",
       "                        <br/>Last Modified: September 27, 2016\n",
       "                        <br/>0 comments, 1 views\n",
       "                    </div>\n",
       "                </div>\n",
       "                "
      ],
      "text/plain": [
       "<Item title:\"PrintingTools\" type:Geoprocessing Service owner:admin>"
      ]
     },
     "metadata": {},
     "output_type": "display_data"
    },
    {
     "data": {
      "text/html": [
       "<div class=\"item_container\" style=\"height: auto; overflow: hidden; border: 1px solid #cfcfcf; border-radius: 2px; background: #f6fafa; line-height: 1.21429em; padding: 10px;\">\n",
       "                    <div class=\"item_left\" style=\"width: 210px; float: left;\">\n",
       "                       <a href='https://dev002759.esri.com/portal/home/item.html?id=8b3ce6a9a9e149d6bb0cf532aa8f4062' target='_blank'>\n",
       "                        <img src='https://dev002759.esri.com/portal/portalimages/desktopapp.png' class=\"itemThumbnail\">\n",
       "                       </a>\n",
       "                    </div>\n",
       "\n",
       "                    <div class=\"item_right\"     style=\"float: none; width: auto; overflow: hidden;\">\n",
       "                        <a href='https://dev002759.esri.com/portal/home/item.html?id=8b3ce6a9a9e149d6bb0cf532aa8f4062' target='_blank'><b>bigDataFileShares_ht_ui3</b>\n",
       "                        </a>\n",
       "                        <br/><img src='https://dev002759.esri.com/portal/home/js/jsapi/esri/css/images/item_type_icons/layers16.png' style=\"vertical-align:middle;\">Big Data File Share by admin\n",
       "                        <br/>Last Modified: October 16, 2016\n",
       "                        <br/>0 comments, 1 views\n",
       "                    </div>\n",
       "                </div>\n",
       "                "
      ],
      "text/plain": [
       "<Item title:\"bigDataFileShares_ht_ui3\" type:Big Data File Share owner:admin>"
      ]
     },
     "metadata": {},
     "output_type": "display_data"
    },
    {
     "data": {
      "text/html": [
       "<div class=\"item_container\" style=\"height: auto; overflow: hidden; border: 1px solid #cfcfcf; border-radius: 2px; background: #f6fafa; line-height: 1.21429em; padding: 10px;\">\n",
       "                    <div class=\"item_left\" style=\"width: 210px; float: left;\">\n",
       "                       <a href='https://dev002759.esri.com/portal/home/item.html?id=ae9719f05b0d4b26aeb63d919c64cf26' target='_blank'>\n",
       "                        <img src='https://dev002759.esri.com/portal/portalimages/desktopapp.png' class=\"itemThumbnail\">\n",
       "                       </a>\n",
       "                    </div>\n",
       "\n",
       "                    <div class=\"item_right\"     style=\"float: none; width: auto; overflow: hidden;\">\n",
       "                        <a href='https://dev002759.esri.com/portal/home/item.html?id=ae9719f05b0d4b26aeb63d919c64cf26' target='_blank'><b>Geometry</b>\n",
       "                        </a>\n",
       "                        <br/><img src='https://dev002759.esri.com/portal/home/js/jsapi/esri/css/images/item_type_icons/layers16.png' style=\"vertical-align:middle;\">Geometry Service by admin\n",
       "                        <br/>Last Modified: October 10, 2016\n",
       "                        <br/>0 comments, 1 views\n",
       "                    </div>\n",
       "                </div>\n",
       "                "
      ],
      "text/plain": [
       "<Item title:\"Geometry\" type:Geometry Service owner:admin>"
      ]
     },
     "metadata": {},
     "output_type": "display_data"
    },
    {
     "data": {
      "text/html": [
       "<div class=\"item_container\" style=\"height: auto; overflow: hidden; border: 1px solid #cfcfcf; border-radius: 2px; background: #f6fafa; line-height: 1.21429em; padding: 10px;\">\n",
       "                    <div class=\"item_left\" style=\"width: 210px; float: left;\">\n",
       "                       <a href='https://dev002759.esri.com/portal/home/item.html?id=c3569f1b517a4625b3949b3a994db0a9' target='_blank'>\n",
       "                        <img src='https://dev002759.esri.com/portal/portalimages/desktopapp.png' class=\"itemThumbnail\">\n",
       "                       </a>\n",
       "                    </div>\n",
       "\n",
       "                    <div class=\"item_right\"     style=\"float: none; width: auto; overflow: hidden;\">\n",
       "                        <a href='https://dev002759.esri.com/portal/home/item.html?id=c3569f1b517a4625b3949b3a994db0a9' target='_blank'><b>bigDataFileShares_full_dataset2</b>\n",
       "                        </a>\n",
       "                        <br/><img src='https://dev002759.esri.com/portal/home/js/jsapi/esri/css/images/item_type_icons/layers16.png' style=\"vertical-align:middle;\">Big Data File Share by admin\n",
       "                        <br/>Last Modified: October 16, 2016\n",
       "                        <br/>0 comments, 1 views\n",
       "                    </div>\n",
       "                </div>\n",
       "                "
      ],
      "text/plain": [
       "<Item title:\"bigDataFileShares_full_dataset2\" type:Big Data File Share owner:admin>"
      ]
     },
     "metadata": {},
     "output_type": "display_data"
    },
    {
     "data": {
      "text/html": [
       "<div class=\"item_container\" style=\"height: auto; overflow: hidden; border: 1px solid #cfcfcf; border-radius: 2px; background: #f6fafa; line-height: 1.21429em; padding: 10px;\">\n",
       "                    <div class=\"item_left\" style=\"width: 210px; float: left;\">\n",
       "                       <a href='https://dev002759.esri.com/portal/home/item.html?id=6e3f552fd3f04a1cba2fa94d9ac704ca' target='_blank'>\n",
       "                        <img src='https://dev002759.esri.com/portal/portalimages/desktopapp.png' class=\"itemThumbnail\">\n",
       "                       </a>\n",
       "                    </div>\n",
       "\n",
       "                    <div class=\"item_right\"     style=\"float: none; width: auto; overflow: hidden;\">\n",
       "                        <a href='https://dev002759.esri.com/portal/home/item.html?id=6e3f552fd3f04a1cba2fa94d9ac704ca' target='_blank'><b>bigDataFileShares_full_dataset3</b>\n",
       "                        </a>\n",
       "                        <br/><img src='https://dev002759.esri.com/portal/home/js/jsapi/esri/css/images/item_type_icons/layers16.png' style=\"vertical-align:middle;\">Big Data File Share by admin\n",
       "                        <br/>Last Modified: October 16, 2016\n",
       "                        <br/>0 comments, 1 views\n",
       "                    </div>\n",
       "                </div>\n",
       "                "
      ],
      "text/plain": [
       "<Item title:\"bigDataFileShares_full_dataset3\" type:Big Data File Share owner:admin>"
      ]
     },
     "metadata": {},
     "output_type": "display_data"
    },
    {
     "data": {
      "text/html": [
       "<div class=\"item_container\" style=\"height: auto; overflow: hidden; border: 1px solid #cfcfcf; border-radius: 2px; background: #f6fafa; line-height: 1.21429em; padding: 10px;\">\n",
       "                    <div class=\"item_left\" style=\"width: 210px; float: left;\">\n",
       "                       <a href='https://dev002759.esri.com/portal/home/item.html?id=df1cf25d67c743b2aefbf80bf9ed2ef2' target='_blank'>\n",
       "                        <img src='https://dev002759.esri.com/portal/portalimages/desktopapp.png' class=\"itemThumbnail\">\n",
       "                       </a>\n",
       "                    </div>\n",
       "\n",
       "                    <div class=\"item_right\"     style=\"float: none; width: auto; overflow: hidden;\">\n",
       "                        <a href='https://dev002759.esri.com/portal/home/item.html?id=df1cf25d67c743b2aefbf80bf9ed2ef2' target='_blank'><b>bigDataFileShares_ht_ui2</b>\n",
       "                        </a>\n",
       "                        <br/><img src='https://dev002759.esri.com/portal/home/js/jsapi/esri/css/images/item_type_icons/layers16.png' style=\"vertical-align:middle;\">Big Data File Share by admin\n",
       "                        <br/>Last Modified: October 16, 2016\n",
       "                        <br/>0 comments, 1 views\n",
       "                    </div>\n",
       "                </div>\n",
       "                "
      ],
      "text/plain": [
       "<Item title:\"bigDataFileShares_ht_ui2\" type:Big Data File Share owner:admin>"
      ]
     },
     "metadata": {},
     "output_type": "display_data"
    },
    {
     "data": {
      "text/html": [
       "<div class=\"item_container\" style=\"height: auto; overflow: hidden; border: 1px solid #cfcfcf; border-radius: 2px; background: #f6fafa; line-height: 1.21429em; padding: 10px;\">\n",
       "                    <div class=\"item_left\" style=\"width: 210px; float: left;\">\n",
       "                       <a href='https://dev002759.esri.com/portal/home/item.html?id=0b733f13257547e5b0fed41e6299696a' target='_blank'>\n",
       "                        <img src='https://dev002759.esri.com/portal/portalimages/desktopapp.png' class=\"itemThumbnail\">\n",
       "                       </a>\n",
       "                    </div>\n",
       "\n",
       "                    <div class=\"item_right\"     style=\"float: none; width: auto; overflow: hidden;\">\n",
       "                        <a href='https://dev002759.esri.com/portal/home/item.html?id=0b733f13257547e5b0fed41e6299696a' target='_blank'><b>hurricane_tracks_agg_result_fullds_gdb</b>\n",
       "                        </a>\n",
       "                        <br/>gdb<img src='https://dev002759.esri.com/portal/home/js/jsapi/esri/css/images/item_type_icons/layers16.png' style=\"vertical-align:middle;\">File Geodatabase by admin\n",
       "                        <br/>Last Modified: October 16, 2016\n",
       "                        <br/>0 comments, 0 views\n",
       "                    </div>\n",
       "                </div>\n",
       "                "
      ],
      "text/plain": [
       "<Item title:\"hurricane_tracks_agg_result_fullds_gdb\" type:File Geodatabase owner:admin>"
      ]
     },
     "metadata": {},
     "output_type": "display_data"
    },
    {
     "data": {
      "text/html": [
       "<div class=\"item_container\" style=\"height: auto; overflow: hidden; border: 1px solid #cfcfcf; border-radius: 2px; background: #f6fafa; line-height: 1.21429em; padding: 10px;\">\n",
       "                    <div class=\"item_left\" style=\"width: 210px; float: left;\">\n",
       "                       <a href='https://dev002759.esri.com/portal/home/item.html?id=2363c03312d64e1a997cd191b79d7e25' target='_blank'>\n",
       "                        <img src='https://dev002759.esri.com/portal/portalimages/desktopapp.png' class=\"itemThumbnail\">\n",
       "                       </a>\n",
       "                    </div>\n",
       "\n",
       "                    <div class=\"item_right\"     style=\"float: none; width: auto; overflow: hidden;\">\n",
       "                        <a href='https://dev002759.esri.com/portal/home/item.html?id=2363c03312d64e1a997cd191b79d7e25' target='_blank'><b>hurricane_tracks_agg_result_fullds</b>\n",
       "                        </a>\n",
       "                        <br/>Analysis Feature Service generated from ReconstructTracks<img src='https://dev002759.esri.com/portal/home/js/jsapi/esri/css/images/item_type_icons/featureshosted16.png' style=\"vertical-align:middle;\">Feature Service by admin\n",
       "                        <br/>Last Modified: October 16, 2016\n",
       "                        <br/>0 comments, 4 views\n",
       "                    </div>\n",
       "                </div>\n",
       "                "
      ],
      "text/plain": [
       "<Item title:\"hurricane_tracks_agg_result_fullds\" type:Feature Service owner:admin>"
      ]
     },
     "metadata": {},
     "output_type": "display_data"
    },
    {
     "data": {
      "text/html": [
       "<div class=\"item_container\" style=\"height: auto; overflow: hidden; border: 1px solid #cfcfcf; border-radius: 2px; background: #f6fafa; line-height: 1.21429em; padding: 10px;\">\n",
       "                    <div class=\"item_left\" style=\"width: 210px; float: left;\">\n",
       "                       <a href='https://dev002759.esri.com/portal/home/item.html?id=2e6c4f98e0bd4aab9b72a32330fea66a' target='_blank'>\n",
       "                        <img src='https://dev002759.esri.com/portal/portalimages/desktopapp.png' class=\"itemThumbnail\">\n",
       "                       </a>\n",
       "                    </div>\n",
       "\n",
       "                    <div class=\"item_right\"     style=\"float: none; width: auto; overflow: hidden;\">\n",
       "                        <a href='https://dev002759.esri.com/portal/home/item.html?id=2e6c4f98e0bd4aab9b72a32330fea66a' target='_blank'><b>hurricane_tracks_agg_result_fullds_shp</b>\n",
       "                        </a>\n",
       "                        <br/>shp<img src='https://dev002759.esri.com/portal/home/js/jsapi/esri/css/images/item_type_icons/datafiles16.png' style=\"vertical-align:middle;\">Shapefile by admin\n",
       "                        <br/>Last Modified: October 16, 2016\n",
       "                        <br/>0 comments, 1 views\n",
       "                    </div>\n",
       "                </div>\n",
       "                "
      ],
      "text/plain": [
       "<Item title:\"hurricane_tracks_agg_result_fullds_shp\" type:Shapefile owner:admin>"
      ]
     },
     "metadata": {},
     "output_type": "display_data"
    },
    {
     "data": {
      "text/html": [
       "<div class=\"item_container\" style=\"height: auto; overflow: hidden; border: 1px solid #cfcfcf; border-radius: 2px; background: #f6fafa; line-height: 1.21429em; padding: 10px;\">\n",
       "                    <div class=\"item_left\" style=\"width: 210px; float: left;\">\n",
       "                       <a href='https://dev002759.esri.com/portal/home/item.html?id=94d90259707f4977a74cc8af479ae208' target='_blank'>\n",
       "                        <img src='https://dev002759.esri.com/portal/portalimages/desktopapp.png' class=\"itemThumbnail\">\n",
       "                       </a>\n",
       "                    </div>\n",
       "\n",
       "                    <div class=\"item_right\"     style=\"float: none; width: auto; overflow: hidden;\">\n",
       "                        <a href='https://dev002759.esri.com/portal/home/item.html?id=94d90259707f4977a74cc8af479ae208' target='_blank'><b>hurricane_tracks_agg_result</b>\n",
       "                        </a>\n",
       "                        <br/>Analysis Feature Service generated from ReconstructTracks<img src='https://dev002759.esri.com/portal/home/js/jsapi/esri/css/images/item_type_icons/featureshosted16.png' style=\"vertical-align:middle;\">Feature Service by admin\n",
       "                        <br/>Last Modified: October 16, 2016\n",
       "                        <br/>0 comments, 5 views\n",
       "                    </div>\n",
       "                </div>\n",
       "                "
      ],
      "text/plain": [
       "<Item title:\"hurricane_tracks_agg_result\" type:Feature Service owner:admin>"
      ]
     },
     "metadata": {},
     "output_type": "display_data"
    },
    {
     "data": {
      "text/html": [
       "<div class=\"item_container\" style=\"height: auto; overflow: hidden; border: 1px solid #cfcfcf; border-radius: 2px; background: #f6fafa; line-height: 1.21429em; padding: 10px;\">\n",
       "                    <div class=\"item_left\" style=\"width: 210px; float: left;\">\n",
       "                       <a href='https://dev002759.esri.com/portal/home/item.html?id=09599c5fd6904109b543b38d3224f6ed' target='_blank'>\n",
       "                        <img src='https://dev002759.esri.com/portal/portalimages/desktopapp.png' class=\"itemThumbnail\">\n",
       "                       </a>\n",
       "                    </div>\n",
       "\n",
       "                    <div class=\"item_right\"     style=\"float: none; width: auto; overflow: hidden;\">\n",
       "                        <a href='https://dev002759.esri.com/portal/home/item.html?id=09599c5fd6904109b543b38d3224f6ed' target='_blank'><b>hurricane_tracks_agg_result_fullds5</b>\n",
       "                        </a>\n",
       "                        <br/>Analysis Feature Service generated from ReconstructTracks<img src='https://dev002759.esri.com/portal/home/js/jsapi/esri/css/images/item_type_icons/featureshosted16.png' style=\"vertical-align:middle;\">Feature Service by admin\n",
       "                        <br/>Last Modified: October 17, 2016\n",
       "                        <br/>0 comments, 0 views\n",
       "                    </div>\n",
       "                </div>\n",
       "                "
      ],
      "text/plain": [
       "<Item title:\"hurricane_tracks_agg_result_fullds5\" type:Feature Service owner:admin>"
      ]
     },
     "metadata": {},
     "output_type": "display_data"
    },
    {
     "data": {
      "text/html": [
       "<div class=\"item_container\" style=\"height: auto; overflow: hidden; border: 1px solid #cfcfcf; border-radius: 2px; background: #f6fafa; line-height: 1.21429em; padding: 10px;\">\n",
       "                    <div class=\"item_left\" style=\"width: 210px; float: left;\">\n",
       "                       <a href='https://dev002759.esri.com/portal/home/item.html?id=e0c48da183394feaaf04540a1a055653' target='_blank'>\n",
       "                        <img src='https://dev002759.esri.com/portal/portalimages/desktopapp.png' class=\"itemThumbnail\">\n",
       "                       </a>\n",
       "                    </div>\n",
       "\n",
       "                    <div class=\"item_right\"     style=\"float: none; width: auto; overflow: hidden;\">\n",
       "                        <a href='https://dev002759.esri.com/portal/home/item.html?id=e0c48da183394feaaf04540a1a055653' target='_blank'><b>bigDataFileShares_fixtry4</b>\n",
       "                        </a>\n",
       "                        <br/><img src='https://dev002759.esri.com/portal/home/js/jsapi/esri/css/images/item_type_icons/layers16.png' style=\"vertical-align:middle;\">Big Data File Share by admin\n",
       "                        <br/>Last Modified: October 18, 2016\n",
       "                        <br/>0 comments, 1 views\n",
       "                    </div>\n",
       "                </div>\n",
       "                "
      ],
      "text/plain": [
       "<Item title:\"bigDataFileShares_fixtry4\" type:Big Data File Share owner:admin>"
      ]
     },
     "metadata": {},
     "output_type": "display_data"
    },
    {
     "data": {
      "text/html": [
       "<div class=\"item_container\" style=\"height: auto; overflow: hidden; border: 1px solid #cfcfcf; border-radius: 2px; background: #f6fafa; line-height: 1.21429em; padding: 10px;\">\n",
       "                    <div class=\"item_left\" style=\"width: 210px; float: left;\">\n",
       "                       <a href='https://dev002759.esri.com/portal/home/item.html?id=674c263c12c540f9b8b2699c6d98d328' target='_blank'>\n",
       "                        <img src='data:image/png;base64,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' width='200' height='133' class=\"itemThumbnail\">\n",
       "                       </a>\n",
       "                    </div>\n",
       "\n",
       "                    <div class=\"item_right\"     style=\"float: none; width: auto; overflow: hidden;\">\n",
       "                        <a href='https://dev002759.esri.com/portal/home/item.html?id=674c263c12c540f9b8b2699c6d98d328' target='_blank'><b>Landast Montana2015</b>\n",
       "                        </a>\n",
       "                        <br/>Show the burned area  from the montana fires<img src='https://dev002759.esri.com/portal/home/js/jsapi/esri/css/images/item_type_icons/imagery16.png' style=\"vertical-align:middle;\">Image Service by admin\n",
       "                        <br/>Last Modified: October 24, 2016\n",
       "                        <br/>0 comments, 1 views\n",
       "                    </div>\n",
       "                </div>\n",
       "                "
      ],
      "text/plain": [
       "<Item title:\"Landast Montana2015\" type:Image Service owner:admin>"
      ]
     },
     "metadata": {},
     "output_type": "display_data"
    },
    {
     "data": {
      "text/html": [
       "<div class=\"item_container\" style=\"height: auto; overflow: hidden; border: 1px solid #cfcfcf; border-radius: 2px; background: #f6fafa; line-height: 1.21429em; padding: 10px;\">\n",
       "                    <div class=\"item_left\" style=\"width: 210px; float: left;\">\n",
       "                       <a href='https://dev002759.esri.com/portal/home/item.html?id=b0ca8358f62e4338aa03be9478784499' target='_blank'>\n",
       "                        <img src='data:image/png;base64,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' width='200' height='133' class=\"itemThumbnail\">\n",
       "                       </a>\n",
       "                    </div>\n",
       "\n",
       "                    <div class=\"item_right\"     style=\"float: none; width: auto; overflow: hidden;\">\n",
       "                        <a href='https://dev002759.esri.com/portal/home/item.html?id=b0ca8358f62e4338aa03be9478784499' target='_blank'><b>ImgSrv WorldView2 Multispectral</b>\n",
       "                        </a>\n",
       "                        <br/>Iran WorldView2 multispectral dataset<img src='https://dev002759.esri.com/portal/home/js/jsapi/esri/css/images/item_type_icons/imagery16.png' style=\"vertical-align:middle;\">Image Service by admin\n",
       "                        <br/>Last Modified: October 24, 2016\n",
       "                        <br/>0 comments, 1 views\n",
       "                    </div>\n",
       "                </div>\n",
       "                "
      ],
      "text/plain": [
       "<Item title:\"ImgSrv WorldView2 Multispectral\" type:Image Service owner:admin>"
      ]
     },
     "metadata": {},
     "output_type": "display_data"
    },
    {
     "name": "stdout",
     "output_type": "stream",
     "text": [
      "**************\n",
      "demo_account\n",
      "**************\n",
      "imagery\n",
      "**************\n",
      "journalist\n",
      "**************\n",
      "social\n"
     ]
    },
    {
     "data": {
      "text/html": [
       "<div class=\"item_container\" style=\"height: auto; overflow: hidden; border: 1px solid #cfcfcf; border-radius: 2px; background: #f6fafa; line-height: 1.21429em; padding: 10px;\">\n",
       "                    <div class=\"item_left\" style=\"width: 210px; float: left;\">\n",
       "                       <a href='https://dev002759.esri.com/portal/home/item.html?id=739f90b43791469e9de82f1bab3bfaf9' target='_blank'>\n",
       "                        <img src='data:image/png;base64,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' width='200' height='133' class=\"itemThumbnail\">\n",
       "                       </a>\n",
       "                    </div>\n",
       "\n",
       "                    <div class=\"item_right\"     style=\"float: none; width: auto; overflow: hidden;\">\n",
       "                        <a href='https://dev002759.esri.com/portal/home/item.html?id=739f90b43791469e9de82f1bab3bfaf9' target='_blank'><b>Community_inteaction_map_WFL</b>\n",
       "                        </a>\n",
       "                        <br/>Map showing how entities in a community interact<img src='https://dev002759.esri.com/portal/home/js/jsapi/esri/css/images/item_type_icons/layers16.png' style=\"vertical-align:middle;\">Service Definition by social\n",
       "                        <br/>Last Modified: October 24, 2016\n",
       "                        <br/>0 comments, 2 views\n",
       "                    </div>\n",
       "                </div>\n",
       "                "
      ],
      "text/plain": [
       "<Item title:\"Community_inteaction_map_WFL\" type:Service Definition owner:social>"
      ]
     },
     "metadata": {},
     "output_type": "display_data"
    },
    {
     "data": {
      "text/html": [
       "<div class=\"item_container\" style=\"height: auto; overflow: hidden; border: 1px solid #cfcfcf; border-radius: 2px; background: #f6fafa; line-height: 1.21429em; padding: 10px;\">\n",
       "                    <div class=\"item_left\" style=\"width: 210px; float: left;\">\n",
       "                       <a href='https://dev002759.esri.com/portal/home/item.html?id=dd22731bb6b64c2eb10ce5fcdb6282cf' target='_blank'>\n",
       "                        <img src='data:image/png;base64,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' width='200' height='133' class=\"itemThumbnail\">\n",
       "                       </a>\n",
       "                    </div>\n",
       "\n",
       "                    <div class=\"item_right\"     style=\"float: none; width: auto; overflow: hidden;\">\n",
       "                        <a href='https://dev002759.esri.com/portal/home/item.html?id=dd22731bb6b64c2eb10ce5fcdb6282cf' target='_blank'><b>Community_inteaction_map_WFL</b>\n",
       "                        </a>\n",
       "                        <br/>Map showing how entities in a community interact<img src='https://dev002759.esri.com/portal/home/js/jsapi/esri/css/images/item_type_icons/featureshosted16.png' style=\"vertical-align:middle;\">Feature Service by social\n",
       "                        <br/>Last Modified: October 24, 2016\n",
       "                        <br/>0 comments, 0 views\n",
       "                    </div>\n",
       "                </div>\n",
       "                "
      ],
      "text/plain": [
       "<Item title:\"Community_inteaction_map_WFL\" type:Feature Service owner:social>"
      ]
     },
     "metadata": {},
     "output_type": "display_data"
    },
    {
     "data": {
      "text/html": [
       "<div class=\"item_container\" style=\"height: auto; overflow: hidden; border: 1px solid #cfcfcf; border-radius: 2px; background: #f6fafa; line-height: 1.21429em; padding: 10px;\">\n",
       "                    <div class=\"item_left\" style=\"width: 210px; float: left;\">\n",
       "                       <a href='https://dev002759.esri.com/portal/home/item.html?id=95a763665d424d6b929587f9e7879c9e' target='_blank'>\n",
       "                        <img src='data:image/png;base64,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' width='200' height='133' class=\"itemThumbnail\">\n",
       "                       </a>\n",
       "                    </div>\n",
       "\n",
       "                    <div class=\"item_right\"     style=\"float: none; width: auto; overflow: hidden;\">\n",
       "                        <a href='https://dev002759.esri.com/portal/home/item.html?id=95a763665d424d6b929587f9e7879c9e' target='_blank'><b>Community_inteaction_map</b>\n",
       "                        </a>\n",
       "                        <br/>Map showing how entities in a community interact<img src='https://dev002759.esri.com/portal/home/js/jsapi/esri/css/images/item_type_icons/maps16.png' style=\"vertical-align:middle;\">Web Map by social\n",
       "                        <br/>Last Modified: October 24, 2016\n",
       "                        <br/>0 comments, 0 views\n",
       "                    </div>\n",
       "                </div>\n",
       "                "
      ],
      "text/plain": [
       "<Item title:\"Community_inteaction_map\" type:Web Map owner:social>"
      ]
     },
     "metadata": {},
     "output_type": "display_data"
    },
    {
     "name": "stdout",
     "output_type": "stream",
     "text": [
      "**************\n",
      "urban_planning\n"
     ]
    },
    {
     "data": {
      "text/html": [
       "<div class=\"item_container\" style=\"height: auto; overflow: hidden; border: 1px solid #cfcfcf; border-radius: 2px; background: #f6fafa; line-height: 1.21429em; padding: 10px;\">\n",
       "                    <div class=\"item_left\" style=\"width: 210px; float: left;\">\n",
       "                       <a href='https://dev002759.esri.com/portal/home/item.html?id=b079df0401a84aa3994aef1a6f9cf26f' target='_blank'>\n",
       "                        <img src='data:image/png;base64,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' width='200' height='133' class=\"itemThumbnail\">\n",
       "                       </a>\n",
       "                    </div>\n",
       "\n",
       "                    <div class=\"item_right\"     style=\"float: none; width: auto; overflow: hidden;\">\n",
       "                        <a href='https://dev002759.esri.com/portal/home/item.html?id=b079df0401a84aa3994aef1a6f9cf26f' target='_blank'><b>Parcel_data</b>\n",
       "                        </a>\n",
       "                        <br/>Parcel info shows how properties are located<img src='https://dev002759.esri.com/portal/home/js/jsapi/esri/css/images/item_type_icons/layers16.png' style=\"vertical-align:middle;\">Service Definition by urban_planning\n",
       "                        <br/>Last Modified: October 24, 2016\n",
       "                        <br/>0 comments, 1 views\n",
       "                    </div>\n",
       "                </div>\n",
       "                "
      ],
      "text/plain": [
       "<Item title:\"Parcel_data\" type:Service Definition owner:urban_planning>"
      ]
     },
     "metadata": {},
     "output_type": "display_data"
    },
    {
     "data": {
      "text/html": [
       "<div class=\"item_container\" style=\"height: auto; overflow: hidden; border: 1px solid #cfcfcf; border-radius: 2px; background: #f6fafa; line-height: 1.21429em; padding: 10px;\">\n",
       "                    <div class=\"item_left\" style=\"width: 210px; float: left;\">\n",
       "                       <a href='https://dev002759.esri.com/portal/home/item.html?id=bf8fdbe4b8184c1396f453a71350d8b5' target='_blank'>\n",
       "                        <img src='data:image/png;base64,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' width='200' height='133' class=\"itemThumbnail\">\n",
       "                       </a>\n",
       "                    </div>\n",
       "\n",
       "                    <div class=\"item_right\"     style=\"float: none; width: auto; overflow: hidden;\">\n",
       "                        <a href='https://dev002759.esri.com/portal/home/item.html?id=bf8fdbe4b8184c1396f453a71350d8b5' target='_blank'><b>Austin_Map_WFL</b>\n",
       "                        </a>\n",
       "                        <br/>Map of an urban city<img src='https://dev002759.esri.com/portal/home/js/jsapi/esri/css/images/item_type_icons/layers16.png' style=\"vertical-align:middle;\">Service Definition by urban_planning\n",
       "                        <br/>Last Modified: October 24, 2016\n",
       "                        <br/>0 comments, 1 views\n",
       "                    </div>\n",
       "                </div>\n",
       "                "
      ],
      "text/plain": [
       "<Item title:\"Austin_Map_WFL\" type:Service Definition owner:urban_planning>"
      ]
     },
     "metadata": {},
     "output_type": "display_data"
    },
    {
     "data": {
      "text/html": [
       "<div class=\"item_container\" style=\"height: auto; overflow: hidden; border: 1px solid #cfcfcf; border-radius: 2px; background: #f6fafa; line-height: 1.21429em; padding: 10px;\">\n",
       "                    <div class=\"item_left\" style=\"width: 210px; float: left;\">\n",
       "                       <a href='https://dev002759.esri.com/portal/home/item.html?id=f82ad11d558148ecb034a3f8a754eaee' target='_blank'>\n",
       "                        <img src='data:image/png;base64,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' width='200' height='133' class=\"itemThumbnail\">\n",
       "                       </a>\n",
       "                    </div>\n",
       "\n",
       "                    <div class=\"item_right\"     style=\"float: none; width: auto; overflow: hidden;\">\n",
       "                        <a href='https://dev002759.esri.com/portal/home/item.html?id=f82ad11d558148ecb034a3f8a754eaee' target='_blank'><b>Austin_Map_WFL</b>\n",
       "                        </a>\n",
       "                        <br/>Map of an urban city<img src='https://dev002759.esri.com/portal/home/js/jsapi/esri/css/images/item_type_icons/featureshosted16.png' style=\"vertical-align:middle;\">Feature Service by urban_planning\n",
       "                        <br/>Last Modified: October 24, 2016\n",
       "                        <br/>0 comments, 0 views\n",
       "                    </div>\n",
       "                </div>\n",
       "                "
      ],
      "text/plain": [
       "<Item title:\"Austin_Map_WFL\" type:Feature Service owner:urban_planning>"
      ]
     },
     "metadata": {},
     "output_type": "display_data"
    },
    {
     "data": {
      "text/html": [
       "<div class=\"item_container\" style=\"height: auto; overflow: hidden; border: 1px solid #cfcfcf; border-radius: 2px; background: #f6fafa; line-height: 1.21429em; padding: 10px;\">\n",
       "                    <div class=\"item_left\" style=\"width: 210px; float: left;\">\n",
       "                       <a href='https://dev002759.esri.com/portal/home/item.html?id=a236e0dd2b484acb8499cef271402000' target='_blank'>\n",
       "                        <img src='data:image/png;base64,/9j/4AAQSkZJRgABAgAAAQABAAD/2wBDAAgGBgcGBQgHBwcJCQgKDBQNDAsLDBkSEw8UHRofHh0aHBwgJC4nICIsIxwcKDcpLDAxNDQ0Hyc5PTgyPC4zNDL/2wBDAQkJCQwLDBgNDRgyIRwhMjIyMjIyMjIyMjIyMjIyMjIyMjIyMjIyMjIyMjIyMjIyMjIyMjIyMjIyMjIyMjIyMjL/wAARCACFAMgDASIAAhEBAxEB/8QAHwAAAQUBAQEBAQEAAAAAAAAAAAECAwQFBgcICQoL/8QAtRAAAgEDAwIEAwUFBAQAAAF9AQIDAAQRBRIhMUEGE1FhByJxFDKBkaEII0KxwRVS0fAkM2JyggkKFhcYGRolJicoKSo0NTY3ODk6Q0RFRkdISUpTVFVWV1hZWmNkZWZnaGlqc3R1dnd4eXqDhIWGh4iJipKTlJWWl5iZmqKjpKWmp6ipqrKztLW2t7i5usLDxMXGx8jJytLT1NXW19jZ2uHi4+Tl5ufo6erx8vP09fb3+Pn6/8QAHwEAAwEBAQEBAQEBAQAAAAAAAAECAwQFBgcICQoL/8QAtREAAgECBAQDBAcFBAQAAQJ3AAECAxEEBSExBhJBUQdhcRMiMoEIFEKRobHBCSMzUvAVYnLRChYkNOEl8RcYGRomJygpKjU2Nzg5OkNERUZHSElKU1RVVldYWVpjZGVmZ2hpanN0dXZ3eHl6goOEhYaHiImKkpOUlZaXmJmaoqOkpaanqKmqsrO0tba3uLm6wsPExcbHyMnK0tPU1dbX2Nna4uPk5ebn6Onq8vP09fb3+Pn6/9oADAMBAAIRAxEAPwD2K6U28EIDqzBj0/Or9qqW8JVpUJJz1xVHUJVnji8sN1zyauLdw7UyZBkcfMf8ahXuynayMuZo4rpsEsAeoq1Hah4UYzoP4iO9Upc3NyxjUnceBnn/ADxW5BGVtUU7gwXkZNKLd2OSSSsY9qguZGjdwgxnNT3qrBDEI5A5Un/GorJ/s0zs6t0wAPWn3s/2mJFVGDA8jOaV3yjaXP5CQrNOvmA24yf4gAf5VNd3csGwRlcMDk4z3NLYTLCiwSKysT34pmowySuhRGbG4cc9zTbfKJJc+otkTcOs0sqgxnGD3qPUHMdw2xlKyDnHP+elS6a5iSRHjYYBfJ46VVvZ1upEdFIGMc+tJt8o1bnLdoyTaf5csgX5uOefWoLhY47iOOOQMpABbOcU61lgjtvLnQsS2QMZ4NMuRbtcRGJAI8DcMdun8qevKKy5i0tvB5mTcoVKbRgjPpVEyxKxAV8jIzkVpF7PfsMIwg3D5eO3T86x2U7yQOM8USbWwQSe5oXFpGIN4nBKLnHqRS2E7SRMrEbUIx7cipbi7ga1ZQTuZcAY71DpqOiOSCAxH48im78yErcrZBeAW7hY3DhuSf8AP1q5BDDJFDI8mGUDgEdqq6kwluAEGQowau280UVrCrkgkUlfmY3blRRvokgZTG27dnOe1LaQLdbmdypXjgdc0uoypP5ZiycZzxTbG5W2VgyE7uRg0rvnHZcnmF8ggk+Rt2/k5FOsbWO5Qs5YFflAX0puoSpcSIYskY71JYTpbxOsitnd0FF3zBZcgt3GtvcRbQSHbJDD3q+tvHG5dFcMzAnIPrms68mjuJ4DFkgHnP1rRWaKQssbEsvXr61Svdku1kZdxeP5u1WkXaNpAYjpRUFxDIJWcodrMSD60Vm5yTNOWFi+BZCZYt0m5CeD360kyL+4kgiZ4gCSOtaECv5Y83G/vipQo5+tamJiwG2gut+JABypPfOev51tUMowTWXJd3Jumij4IbAGOo/GgCtJnzX4P3j296IjmeMDrvHH41pWt15p8t1IkUZY1ngn7SCD/H1/GmBK+ZtSAAwQ46+grRT7r/j0+prKmkcXUjhjuBIBz2zV+SVorZ3X73b8zQBVim3LKJZXdQhO1hj+tRMIFjXMLqzZ5DdOff6VZikvZoUePZyTnP1qeFrrzAsyptx1FAEGYBFCGgZwV+9tyactvA88i7GAVQMdj9KlkNyrSYZVTA2s2KI1ufKctKjFh8uOxpAUZnTKvHG2HUoR6Yx/hT5YIII4neOR89s8E+9aMe5YlEhG/HNDnzIyquFYjg96AM+YWohjYwuN3TaeRVqEJ5EXlghTzyeeoqURuLfYZPnxjfjvTQjII1dtzd2xjPIpgQIlvNLMPJO5evPXn/61NLx/Zo3S2JCtjBGSBVgpcDzSsgJP3ARjFV2nuYLdmm2FsgDv9aQD/JtJlT92V35xgEGokjshKIhE+c7QTmryMNiFiFZhnGaikaeXesY8tkb7zdCKAKam2MwH2ZsltucnjmlLW8E8qvG0mT/EowP85qcmaMRK8yby4zz1FXaAMceUT5q20vXpk49fSrtuiFGmETRux5U/Wo1N/wCaR8hX04qeLzyjeeFByMbaAK94UW0hLLuOBgZPp7UUt1BJNbQ+WMkD19qKYEloj22/7RIuGxj5s1bDDJ/PpWXqwxHHyM59Kt74lIVpVB4HbrUp3dh20uWSQQRTWUHJ4Bx17isK6nkS6kVZGwDjrWlDLEbVS0wyFGc46/lQpJuw3GyTGWtuUuHJkRlKkZDZJ5phsdko3TII/UnBNVdNZFuGLsFG3qcVLqTxyQxlHzk+gH9KXNpcfJ73KElvLJLIyLuUscEEVPIxkimj3R5VuBuAPXPPNLpabrTOf4j2FZ18R9pdQOjHJ9aOayuJRvKxpxJINP2IwEgJ6N7561HCrw3SvcSoPl5y/NQadPHGhRyRubrgYpmqMrTIUYMNvUUOXu3BRvLlLd1DLcvuhkVo+ON/pUlqHhhMUzIp/gG71qHTGj+zMGcKQSTnHSo70ob6DawI4yRj1o5tLhy62FezuZEUMcnnktRFZziUFgAMnnd04rRGwnAkBPtisFrmYSECRsZ9acpWCMeY0TZ3AUkzqP8AgRxTkmMWyPBlKgksnI69KfO8clhK6vkbSOg61U0o48wZwDjPFF9bAlpclzceeGMhRN54dgOM+lMNpMyNgAgnI+Yc9ag1KRJJUKNkAYPGKu2txAtvEjSYbGMY/wDrUKWtgcdLkC2tyAgkYHaR1erMP2s3C73BjzzgiqOomFnVomJJzuo0+OCRXSY43EBRkjPb+tLm96w+X3eYs3FmBcCX7Qgy2drHGBnNXoJC6fM6M3cocisfURCHTyjkBcHn0qfTJI0hYO4U7u9HN71g5fduSxQSRySl2UF0IBLdTU1rC8MLiQ8lgQM59Kp37RvPBsdW55xjjn2rRVkdS0bhsHB4FUndktWSZDNC89tEEZQQAeTjtRWVNdTiZwJGADGis3USL9ky09nJO26WZULchGPI61OLKJpXmeb5WIxtI96ldGmeGRoVwR82TgrQiRussRhISM5GSea0M7lBra3eaRnudvzelTNYxpESbhQhIwxH1/xqXCy+Wfsa4cndlen1pF8wosMtoNhJ4XoKSSWw3JvcgXT4TwLkHeDjA7U6ayja3V1nGxe5HWpYJlLoptCnO0H0z/8ArqxJGERYkgDRE/MM9KLK1g5ne5VsZ44IhC+4MW7imz2SSvJNJIIxuPIHXnH9KtQrFcZkeAKwbuKWQ4hf5QwyeGGR1NDslqHM07kC2EUVq4Zxz8wfbyKi/syOSIOs+VxnO2pTcuyFWVSpGMYpFuGSPYFUL6YrL2kLWFz63IYrQKWVJ0KlCQe/X0/Cojbxt8wuUJXtg1ds2jkkIVF4XHA7GpzaW6Kx8odOa1Vmh8z3MyxUG4JLqAMnOevFPj06KUkLcBnHJxT1uLZTlbUDjHBqxayWwVpFQRc7Tk9e9NpPcE2thDZxxWciSSYDHJb+VJa2qQEFH3q4zmori9Yl0CxvH7g8/rVxAQsI2hfl6DoOlFtbiu7WKM1lbPKFScKfTrTorCIqswuPlHGcY6GrU0CRIZIoFaTPpUSR3JhaNoYFUjKr2otrcd3axVe2tZWAS5Yc9GX/AOtSx2iI0TJcKQX7gjOCKsW6Bo5Ga1RWTlcLjNOBK2iSC1G8Nwu3p70rK9w5naxBPa20o8xJdiA4PBPNCWtpEwilmJcngDip4xvVFe0Cq7HcNuAPenIFnuSfs4XYcFmHX0x+VFle4cztYqixinkKxXBJXqCtS6eP3cxzzvAxUkskltKxjgQQ9WYYBNTR3CTxkpngjIIphczbmyjRBMzt85zgDpnmirN7n7HCQcdP5UUuSPYfMx8q3bSPtPyEfLzimvDd+SmJCXHUBv603+0h6f8Aj3/1qY168q7I38pyRhuG7+mB9Kn2ke5F0SyPcxmFOTkYYgZ/WoIZrlFRQH27+6npxUrfb0YkzLsOAv7scH86lIuguPtMW4HOdvbHTFWmMpm4vPnGJOe+w8H2pxW7+1kgS7d3HXHWrsQnIVjKrrg8qQAeeO1S5fOMj/vr/wCtTAzpJ5xbozM6tuI6Yq1J/wAezfX+ppz3KxvsdwCPf/7GkkI8gkjPPIz7mpn8LEynikx71JuT/nn+tPjUSkhYs4/2q41G5A2SNYbNXj+VmOCQcGqvmyH/AJaP/wB9Gr12NtmqkYIbpms6uxbGiClydu3Py5zj3pKbvX+8KYCn7prVkXM9odm7APzf3eKySy4PIrSuDi5sgXCg5HJ68UAPvYZZZYWjXIU889ORVeK2uGKu2RtfOGPOOK0fL9/1P+NJs55b9T/jQBQt3uIkC+WxzJjDKeBgf/XqzPFM13FJH91evNTbR/eH5n/Gl2D1oAout+JGKnK545FJ5V8y4DEDdn71XgoIyCCKpyWRycXsq7zwN3vnAoAja2uhEygE5fdgN1q8kSxwgKioTjdtAHNQ/Z/KcO1xIAOzNwaFtQI+LiSRSNuS2euKAGXUckttFGkW8YBJyOOKKl86FAFZwpwOMHiimBDrChYEYAA7uuKz4ELXC7R0Oaluk1BogbkIUH909DVaN7hZgU8vO7AznkVyzs5IUrWRfvL945WhCgqMEHNRxWksjRyjBEnJPpTbuzuGmMjhPmOBtNSrNALSHzGceU3Vfbmtot3ZpLlsrble2kuGlMUbnjJC5wOtLcxT20pmOVycBgRz1qSyhKzG5cfu1yQQe9P1ArcxRyxk8nGDQr8o3bnRVBMqo7ks2TyfwqxqMrxlFRiAd2QP941PZW6RxiO4RPMLZUNgmo721luChiXO3dnnH8Rod+QFbnG2X7y1mZ+WUjBNQXEskRXy3Zc9cGrGnwgq6O+D1wpqG7i8ybZECSuc5rNwlo0hJL2l+gsczy2TKxZ335GT2xUEm9WQEFcnpxVm1jESYmDqCN24DjFJLC1wyvAjlFPJPGR7VXvh9vyItsn/ADzP5j/GphqskYCeWp2jHU1MjW7QmXc4CnByOlU2spnmlCgfKSefSj951FC32jZlf/RGcZDbM/pWbp7SXE26SQtsIxmpnRPsXmh2wRjFN02F4gzMOHAK4qtW1oCtysr3yzW8i7pSd2SME1Zige5ggmaQcA5J+tR3NpPMsbIHfqfn4I9qnt4jLZ+Q5kjMZwSpxmmr8w3blRSuENvDGUkVsuSCvbgf4U+2+0Xmcy/cIPNLeLG9nE0CkR7j9496WyY2hmWRGJ4BC8460teYenINu0ltI4lEnJJOV49Kit4XuUdVZdxI6ntzz+tLdhflRQ/y55k70ttFCschnDZBAG3t1/wo15wuuQW5dTGjRs/zOSQ3Y8VfswBZoVzguCc/Ws+ZY5IVa3jIRDliT69K1YBGLVPLBCE5GevWqW7JdrIx7qYPOcpgr8vDHnFFF1bSLOxOMMcjntRWd53NLQsbtwVW3kL4xtNYEX+tT/eFajWW8fPI7fUf/XpBp6KwI3ZBz0/+vUzhKTTOZpsmunBEe0gkGs24unljDMqZQkgAcE1fFrhgctwc9B/jU4XbwEA+ij/GtYp3bZSILOTz4HBjRQDjCjA6VFaMJ43WSGMiPlRt6GrobOQpHHXA/wDr0uW/yv8A9eqGUhexkRvLEC4BOQOn0q3Fyp59f5mopLaKdgzLkjjjI/kalXKjhvr8vufemBQtiA7mCNmkA4DEYxmo5JpRPIWVRJggkLyB9a1AT2xn/d/+vSbQGZsKCeCdnX9aQGVJdT+XGu87SOffrUs9xcQuqqcDAzheOlW5GmXIjiRxxgH5aRmuXRQ1tGwOdylsgen1oAoG6uZFGELKTz+7yP5VY+3TIW3KOMcEYq1D5qgAxpGuBwvY9xUh3EcjI/3f/r0wM2S/d8/KmzhgrDOOlaCtv2NjG5QaXb/sD/vkf40fxd88YGPr70AVkuZg1wXUlU+7kYHWm/aZ5GgYIyq55G3jrVwlzxj9B/jQC+Oh/If40gM9Zrg/KUJBYDBSmPd3Tj5QVIJHyr9K1Mv6H8h/jRlvQ/kP8aYGdNPdRxKX4YluoHtUJumTzGEcZOcn5evWtf5j2P5D/GkwfQ/kKAKzTslqsgt9pZsFSPr/AIVOj77dG27c9vSnHdj+L9KQnpuLY/CkBn6kcSxjYrfL3Aoq7J5fHmY9t22imBSVruAq0pYRZ+uB70xGvW2ujuVb7vOenWmyxL5MzJclh1KAHHXFSQyMmnxYuBGCxByM1N9bDtpcRpbosmd+/nAxjP4VI8d21koTfvyT1wfaqV4XVo8y78rkEZ6VZsJgsG0zbWD7jkZyKFLWxXL7tyAhhKEDHzWPzDNWSzW6oWlKyKCfLPcZqpKVfUGYPhS2dwqzdORaqguAylOVwfm5/wA/lQpXuDik0Lp7F7rKklRkn0qxdkeQFLKqM2GJ9MmqmkMqzuCeSMCp9S/49P8AgQ/rS5vduDiuaw222fbV8uQMqrjOcdqS9ieIu8jLsZvlGTVK0iErPucoFG7IGalugPs25ZzKC4HIIxxQpe7cHFKViSCSS4gaEEHaowPpVmZmh02MMSjcCqOnkCVwZNhZdo+tTagJEjRJJt564x+tCk+W4OK5rDZBdFkKiUggZIz6VM8dy7OMORgY5+lBiVURpLnaTH0NULpGhuGjLlsd6cpWVxRjd2LnkXhTBMgAHTPWrNtcJII4y+ZNoBz61VhAa0Km6ZM44GeKhsVzfFckdRmk3sNRvfyJ57WSEBpJUClsZyf8KlJaQR/ZXZo04Y5xVa62rbFBKXO/uDxiks41mhMXnGNy3GB7Uc3vWDl925JGZ44VkLsqb+ct9P8AA1JFukSSOO4VnJyMMelR3TRrZmESl3Vsngiqlp/rceZ5ZIwDQ5NSsCinG5fdJo7RGkk8shjnJP4dKRJZppY44ZicKNzD9TzTL+VZLZNspbGFIweT61HpbAXRycZUihyfNYFFONzVbybeBsttQk857mobQj7KpBbBJ+9+NVLgRpYAJMzqxyobtirlqV+xRbOwOfrg07+9Ym2lyPU1zEjgkMOOKKpamxF2Rk42iip9pbQtU7q5PC6SqLdogA+csDg9Sf6VbSGFD9m8oMqjcC3PNFFX1I6FS8jjNzEuwBeFx7Zp4WCG4WNYFIYEkscmiiiy3E29h5trdSJxFyMnGeKqXMqzFV8pFyMZA6c0UUWQ7sWyKQ3EeEBLnGSen0q5dqr2rbhnBB6+5ooosthNvcoQzLbPujiGSMcnPvWjPFFNbBmTGcMQpxkmiiiy2C73KoSC3+dYdxGCNzZxTZ5/tBw6DGAR6jj1oop2WwXe437U2QdiHA2jcM4HFMcrPI8roNxweKKKVrhdrYelx5eVSGIA+oJ/rVu1t4kSK4VcOy5PPFFFCSHd3K0s8UyCM24UM/O1sc+vT3qWdBp6L5OM5JywBNFFCXUV3sSRQw3sTFoghLclepqiypbO7IgJRiBu56UUUWV7hd7A8glWNPLRAz87Rj0/xp1pthkDhASSBz2zRRRZbhd7BJOZ1SNkUDP8Ix1NT2Dny2TjC8j8Qf8ACiijqPyLUthDct5j7t3saKKKOVPcXM+5/9k=' width='200' height='133' class=\"itemThumbnail\">\n",
       "                       </a>\n",
       "                    </div>\n",
       "\n",
       "                    <div class=\"item_right\"     style=\"float: none; width: auto; overflow: hidden;\">\n",
       "                        <a href='https://dev002759.esri.com/portal/home/item.html?id=a236e0dd2b484acb8499cef271402000' target='_blank'><b>Parcel_data</b>\n",
       "                        </a>\n",
       "                        <br/>Parcel info shows how properties are located<img src='https://dev002759.esri.com/portal/home/js/jsapi/esri/css/images/item_type_icons/featureshosted16.png' style=\"vertical-align:middle;\">Feature Service by urban_planning\n",
       "                        <br/>Last Modified: October 24, 2016\n",
       "                        <br/>0 comments, 0 views\n",
       "                    </div>\n",
       "                </div>\n",
       "                "
      ],
      "text/plain": [
       "<Item title:\"Parcel_data\" type:Feature Service owner:urban_planning>"
      ]
     },
     "metadata": {},
     "output_type": "display_data"
    },
    {
     "data": {
      "text/html": [
       "<div class=\"item_container\" style=\"height: auto; overflow: hidden; border: 1px solid #cfcfcf; border-radius: 2px; background: #f6fafa; line-height: 1.21429em; padding: 10px;\">\n",
       "                    <div class=\"item_left\" style=\"width: 210px; float: left;\">\n",
       "                       <a href='https://dev002759.esri.com/portal/home/item.html?id=da05287be00c458fabd1defc2f6e777f' target='_blank'>\n",
       "                        <img src='data:image/png;base64,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' width='200' height='133' class=\"itemThumbnail\">\n",
       "                       </a>\n",
       "                    </div>\n",
       "\n",
       "                    <div class=\"item_right\"     style=\"float: none; width: auto; overflow: hidden;\">\n",
       "                        <a href='https://dev002759.esri.com/portal/home/item.html?id=da05287be00c458fabd1defc2f6e777f' target='_blank'><b>Buildings</b>\n",
       "                        </a>\n",
       "                        <br/>Location of buildings in downtown<img src='https://dev002759.esri.com/portal/home/js/jsapi/esri/css/images/item_type_icons/mapimages16.png' style=\"vertical-align:middle;\">Map Service by urban_planning\n",
       "                        <br/>Last Modified: October 24, 2016\n",
       "                        <br/>0 comments, 0 views\n",
       "                    </div>\n",
       "                </div>\n",
       "                "
      ],
      "text/plain": [
       "<Item title:\"Buildings\" type:Map Service owner:urban_planning>"
      ]
     },
     "metadata": {},
     "output_type": "display_data"
    },
    {
     "name": "stdout",
     "output_type": "stream",
     "text": [
      "**************\n",
      "weather\n"
     ]
    },
    {
     "data": {
      "text/html": [
       "<div class=\"item_container\" style=\"height: auto; overflow: hidden; border: 1px solid #cfcfcf; border-radius: 2px; background: #f6fafa; line-height: 1.21429em; padding: 10px;\">\n",
       "                    <div class=\"item_left\" style=\"width: 210px; float: left;\">\n",
       "                       <a href='https://dev002759.esri.com/portal/home/item.html?id=f41dc4b2110d455599322fb52a0f1537' target='_blank'>\n",
       "                        <img src='https://dev002759.esri.com/portal/portalimages/desktopapp.png' class=\"itemThumbnail\">\n",
       "                       </a>\n",
       "                    </div>\n",
       "\n",
       "                    <div class=\"item_right\"     style=\"float: none; width: auto; overflow: hidden;\">\n",
       "                        <a href='https://dev002759.esri.com/portal/home/item.html?id=f41dc4b2110d455599322fb52a0f1537' target='_blank'><b>Hurricanes</b>\n",
       "                        </a>\n",
       "                        <br/><img src='https://dev002759.esri.com/portal/home/js/jsapi/esri/css/images/item_type_icons/datafiles16.png' style=\"vertical-align:middle;\">Shapefile by weather\n",
       "                        <br/>Last Modified: October 24, 2016\n",
       "                        <br/>0 comments, 1 views\n",
       "                    </div>\n",
       "                </div>\n",
       "                "
      ],
      "text/plain": [
       "<Item title:\"Hurricanes\" type:Shapefile owner:weather>"
      ]
     },
     "metadata": {},
     "output_type": "display_data"
    },
    {
     "data": {
      "text/html": [
       "<div class=\"item_container\" style=\"height: auto; overflow: hidden; border: 1px solid #cfcfcf; border-radius: 2px; background: #f6fafa; line-height: 1.21429em; padding: 10px;\">\n",
       "                    <div class=\"item_left\" style=\"width: 210px; float: left;\">\n",
       "                       <a href='https://dev002759.esri.com/portal/home/item.html?id=f58a822b9a384edcb24204285f09efa6' target='_blank'>\n",
       "                        <img src='data:image/png;base64,R0lGODlhBQAFAID/AMDAwAAAACH5BAEAAAAALAAAAAAFAAUAQAIEhI+pWAA7' width='200' height='133' class=\"itemThumbnail\">\n",
       "                       </a>\n",
       "                    </div>\n",
       "\n",
       "                    <div class=\"item_right\"     style=\"float: none; width: auto; overflow: hidden;\">\n",
       "                        <a href='https://dev002759.esri.com/portal/home/item.html?id=f58a822b9a384edcb24204285f09efa6' target='_blank'><b>earthquakes</b>\n",
       "                        </a>\n",
       "                        <br/><img src='https://dev002759.esri.com/portal/home/js/jsapi/esri/css/images/item_type_icons/featureshosted16.png' style=\"vertical-align:middle;\">Feature Service by weather\n",
       "                        <br/>Last Modified: October 24, 2016\n",
       "                        <br/>0 comments, 1 views\n",
       "                    </div>\n",
       "                </div>\n",
       "                "
      ],
      "text/plain": [
       "<Item title:\"earthquakes\" type:Feature Service owner:weather>"
      ]
     },
     "metadata": {},
     "output_type": "display_data"
    },
    {
     "data": {
      "text/html": [
       "<div class=\"item_container\" style=\"height: auto; overflow: hidden; border: 1px solid #cfcfcf; border-radius: 2px; background: #f6fafa; line-height: 1.21429em; padding: 10px;\">\n",
       "                    <div class=\"item_left\" style=\"width: 210px; float: left;\">\n",
       "                       <a href='https://dev002759.esri.com/portal/home/item.html?id=6ab894d708e84a02a642b57a633a8802' target='_blank'>\n",
       "                        <img src='data:image/png;base64,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' width='200' height='133' class=\"itemThumbnail\">\n",
       "                       </a>\n",
       "                    </div>\n",
       "\n",
       "                    <div class=\"item_right\"     style=\"float: none; width: auto; overflow: hidden;\">\n",
       "                        <a href='https://dev002759.esri.com/portal/home/item.html?id=6ab894d708e84a02a642b57a633a8802' target='_blank'><b>earthquakes</b>\n",
       "                        </a>\n",
       "                        <br/><img src='https://dev002759.esri.com/portal/home/js/jsapi/esri/css/images/item_type_icons/layers16.png' style=\"vertical-align:middle;\">CSV by weather\n",
       "                        <br/>Last Modified: October 24, 2016\n",
       "                        <br/>0 comments, 2 views\n",
       "                    </div>\n",
       "                </div>\n",
       "                "
      ],
      "text/plain": [
       "<Item title:\"earthquakes\" type:CSV owner:weather>"
      ]
     },
     "metadata": {},
     "output_type": "display_data"
    },
    {
     "data": {
      "text/html": [
       "<div class=\"item_container\" style=\"height: auto; overflow: hidden; border: 1px solid #cfcfcf; border-radius: 2px; background: #f6fafa; line-height: 1.21429em; padding: 10px;\">\n",
       "                    <div class=\"item_left\" style=\"width: 210px; float: left;\">\n",
       "                       <a href='https://dev002759.esri.com/portal/home/item.html?id=0012d57b073c41aebd045b890a4c053f' target='_blank'>\n",
       "                        <img src='data:image/png;base64,R0lGODlhBQAFAID/AMDAwAAAACH5BAEAAAAALAAAAAAFAAUAQAIEhI+pWAA7' width='200' height='133' class=\"itemThumbnail\">\n",
       "                       </a>\n",
       "                    </div>\n",
       "\n",
       "                    <div class=\"item_right\"     style=\"float: none; width: auto; overflow: hidden;\">\n",
       "                        <a href='https://dev002759.esri.com/portal/home/item.html?id=0012d57b073c41aebd045b890a4c053f' target='_blank'><b>Hurricanes</b>\n",
       "                        </a>\n",
       "                        <br/><img src='https://dev002759.esri.com/portal/home/js/jsapi/esri/css/images/item_type_icons/featureshosted16.png' style=\"vertical-align:middle;\">Feature Service by weather\n",
       "                        <br/>Last Modified: October 24, 2016\n",
       "                        <br/>0 comments, 3 views\n",
       "                    </div>\n",
       "                </div>\n",
       "                "
      ],
      "text/plain": [
       "<Item title:\"Hurricanes\" type:Feature Service owner:weather>"
      ]
     },
     "metadata": {},
     "output_type": "display_data"
    }
   ],
   "source": [
    "copied_items = {}\n",
    "relationships = RELATIONSHIP_TYPES\n",
    "\n",
    "for user in sourceusers:\n",
    "    if not user.username in systemusers:\n",
    "        print(\"**************\\n\"+user.username)\n",
    "        usercontent = user.items()\n",
    "        folders = user.folders\n",
    "        for item in usercontent:\n",
    "            try:\n",
    "                copied_item = copy_item(target, user, None, item)\n",
    "                if copied_item is not None:\n",
    "                    copied_items[item.itemid] = copied_item.itemid\n",
    "                    # share the item\n",
    "                    copied_item.share(item.access == 'public',\n",
    "                                        item.access in ['org', 'public'],\n",
    "                                        source_items_by_id[item.itemid].groups \n",
    "                                            if 'groups' in source_items_by_id[item.itemid]\n",
    "                                            else None)\n",
    "                    display(item)\n",
    "                else:\n",
    "                    print('Error copying ' + item.title)\n",
    "            except:\n",
    "                print(\"Error copying \" + item.title)\n",
    "\n",
    "        for folder in folders:\n",
    "            target.content.create_folder(user, folder)\n",
    "            folderitems = user.items(folder.title)\n",
    "            for item in folderitems:\n",
    "                try:\n",
    "                    #display(item)\n",
    "                    #print(item.__repr__())\n",
    "                    copied_item = copy_item(target, user, folder.title, item)\n",
    "                    if copied_item is not None:\n",
    "                        copied_items[item.itemid] = copied_item.itemid\n",
    "\n",
    "                        # share the item\n",
    "                        copied_item.share(item.access == 'public',\n",
    "                                          item.access in ['org', 'public'],\n",
    "                                          source_items_by_id[item.itemid].groups \n",
    "                                              if 'groups' in source_items_by_id[item.itemid]\n",
    "                                              else None)\n",
    "                    else:\n",
    "                        print('Error copying ' + item.title)\n",
    "                except:\n",
    "                    print(\"Error copying \" + item.title )\n",
    "\n",
    "        # Copy the related items for this user (if specified)\n",
    "        if relationships:\n",
    "            for folder in folders:\n",
    "                folderitems = usercontent[folder]\n",
    "                for item in folderitems:\n",
    "                    try:\n",
    "                        copy_relationships(target, copied_items, item, \n",
    "                                           relationships, user, folder)\n",
    "                    except:\n",
    "                        print(\"Error setting relationship for: \" + item.title)\n"
   ]
  }
 ],
 "metadata": {
  "kernelspec": {
   "display_name": "Python 3",
   "language": "python",
   "name": "python3"
  },
  "language_info": {
   "codemirror_mode": {
    "name": "ipython",
    "version": 3
   },
   "file_extension": ".py",
   "mimetype": "text/x-python",
   "name": "python",
   "nbconvert_exporter": "python",
   "pygments_lexer": "ipython3",
   "version": "3.5.2"
  }
 },
 "nbformat": 4,
 "nbformat_minor": 0
}

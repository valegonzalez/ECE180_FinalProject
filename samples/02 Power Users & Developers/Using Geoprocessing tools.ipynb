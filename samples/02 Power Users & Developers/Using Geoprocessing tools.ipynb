{
 "cells": [
  {
   "cell_type": "markdown",
   "metadata": {},
   "source": [
    "Refer here for instructions to [download and run this sample locally](https://developers.arcgis.com/python/sample-notebooks/#Download-and-run-the-sample-notebooks) on your computer"
   ]
  },
  {
   "cell_type": "markdown",
   "metadata": {},
   "source": [
    "# Using Geoprocessing tools\n",
    "\n",
    "This sample notebooks shows how geoprocessing tools can be used in an analysis. The analysis below uses a geoprocessing tool to  deduce the path that the debris of a crashed airplane would take if it went down at different places in the ocean. It should be noted that this tool is for the purpose of demonstrating GIS functionality and the results should not be treated as authoritative. Further this tool excludes wind or atmospheric conditions, which are critical for a real-world analysis."
   ]
  },
  {
   "cell_type": "code",
   "execution_count": 1,
   "metadata": {
    "collapsed": true
   },
   "outputs": [],
   "source": [
    "from arcgis.gis import GIS\n",
    "from IPython.display import display"
   ]
  },
  {
   "cell_type": "code",
   "execution_count": 2,
   "metadata": {
    "collapsed": false
   },
   "outputs": [],
   "source": [
    "gis = GIS()\n",
    "map1 = gis.map()\n",
    "map1"
   ]
  },
  {
   "cell_type": "markdown",
   "metadata": {},
   "source": [
    "There have been speculations that the unfortunate disappearance of flight [MH370](https://en.wikipedia.org/wiki/Malaysia_Airlines_Flight_370) is tied to [Diego Garcia](https://en.wikipedia.org/wiki/Diego_Garcia) an atoll in the central Indian Ocean, in addition to other search locations in southern Indian Ocean to west of Australia. The code below plots these locations on the map:"
   ]
  },
  {
   "cell_type": "code",
   "execution_count": 3,
   "metadata": {
    "collapsed": false
   },
   "outputs": [],
   "source": [
    "# Use geocoder to find the co-ordinates of Diego Garcia\n",
    "diegogarcia = gis.tools.geocoders[0].find_best_match(\"Diego Garcia\")\n",
    "map1.center = diegogarcia"
   ]
  },
  {
   "cell_type": "code",
   "execution_count": 4,
   "metadata": {
    "collapsed": false
   },
   "outputs": [],
   "source": [
    "# Annotate the map by plotting Diego Garcia, and two other search locations\n",
    "map1.draw(gis.tools.geocoders[0].find_best_match(\"La Reunion\"), {\"title\": \"Reunion Island\", \"content\": \"Debris found\"})\n",
    "map1.draw(diegogarcia, {\"title\": \"Diego Garcia\", \"content\": \"Naval Support Facility Diego Garcia\"})\n",
    "map1.draw([-43.5, 90.5], {\"title\":\"Search Location\", \"content\":\"Predicted crash location\"})\n",
    "\n",
    "# Render a feature layer representing the search area\n",
    "#Source: http://www.amsa.gov.au/media/incidents/images/DIGO_00718_01_14.jpg\n",
    "map1.add_layer({\"type\":\"FeatureLayer\", \n",
    "                \"url\" : \"http://services.arcgis.com/WQ9KVmV6xGGMnCiQ/arcgis/rest/services/MH370Search/FeatureServer/1\"})"
   ]
  },
  {
   "cell_type": "markdown",
   "metadata": {},
   "source": [
    "We can search ArcGIS Online for content related to the missing airliner, and bring in layers that we want to use for our analysis and visualization:"
   ]
  },
  {
   "cell_type": "code",
   "execution_count": 5,
   "metadata": {
    "collapsed": false
   },
   "outputs": [
    {
     "data": {
      "text/html": [
       "<div class=\"item_container\" style=\"height: auto; overflow: hidden; border: 1px solid #cfcfcf; border-radius: 2px; background: #f6fafa; line-height: 1.21429em; padding: 10px;\">\n",
       "                    <div class=\"item_left\" style=\"width: 210px; float: left;\">\n",
       "                       <a href='http://www.arcgis.com/home/item.html?id=86a1b6e71af74979ba38095543d48f07' target='_blank'>\n",
       "                        <img src='http://www.arcgis.com/sharing/rest//content/items/86a1b6e71af74979ba38095543d48f07/info/thumbnail/thumbnail.png' class=\"itemThumbnail\">\n",
       "                       </a>\n",
       "                    </div>\n",
       "\n",
       "                    <div class=\"item_right\"     style=\"float: none; width: auto; overflow: hidden;\">\n",
       "                        <a href='http://www.arcgis.com/home/item.html?id=86a1b6e71af74979ba38095543d48f07' target='_blank'><b>MH370_Flight_Path</b>\n",
       "                        </a>\n",
       "                        <br/>MH370 Flight Path<img src='http://www.arcgis.com/home/js/jsapi/esri/css/images/item_type_icons/featureshosted16.png' style=\"vertical-align:middle;\">Feature Service by bflanagan_bureau\n",
       "                        <br/>Last Modified: February 25, 2015\n",
       "                        <br/>0 comments, 23,784 views\n",
       "                    </div>\n",
       "                </div>\n",
       "                "
      ],
      "text/plain": [
       "<Item title:\"MH370_Flight_Path\" type:Feature Service owner:bflanagan_bureau>"
      ]
     },
     "metadata": {},
     "output_type": "display_data"
    },
    {
     "data": {
      "text/html": [
       "<div class=\"item_container\" style=\"height: auto; overflow: hidden; border: 1px solid #cfcfcf; border-radius: 2px; background: #f6fafa; line-height: 1.21429em; padding: 10px;\">\n",
       "                    <div class=\"item_left\" style=\"width: 210px; float: left;\">\n",
       "                       <a href='http://www.arcgis.com/home/item.html?id=cad4c67f0139406fb9c8d3ee8581fd1d' target='_blank'>\n",
       "                        <img src='http://www.arcgis.com/sharing/rest//content/items/cad4c67f0139406fb9c8d3ee8581fd1d/info/thumbnail/thumbnail.png' class=\"itemThumbnail\">\n",
       "                       </a>\n",
       "                    </div>\n",
       "\n",
       "                    <div class=\"item_right\"     style=\"float: none; width: auto; overflow: hidden;\">\n",
       "                        <a href='http://www.arcgis.com/home/item.html?id=cad4c67f0139406fb9c8d3ee8581fd1d' target='_blank'><b>Arc</b>\n",
       "                        </a>\n",
       "                        <br/>Lastknownlocationarc<img src='http://www.arcgis.com/home/js/jsapi/esri/css/images/item_type_icons/featureshosted16.png' style=\"vertical-align:middle;\">Feature Service by bflanagan_bureau\n",
       "                        <br/>Last Modified: March 02, 2015\n",
       "                        <br/>0 comments, 14,468 views\n",
       "                    </div>\n",
       "                </div>\n",
       "                "
      ],
      "text/plain": [
       "<Item title:\"Arc\" type:Feature Service owner:bflanagan_bureau>"
      ]
     },
     "metadata": {},
     "output_type": "display_data"
    },
    {
     "data": {
      "text/html": [
       "<div class=\"item_container\" style=\"height: auto; overflow: hidden; border: 1px solid #cfcfcf; border-radius: 2px; background: #f6fafa; line-height: 1.21429em; padding: 10px;\">\n",
       "                    <div class=\"item_left\" style=\"width: 210px; float: left;\">\n",
       "                       <a href='http://www.arcgis.com/home/item.html?id=aab7322704084ae1abe1a3d591a8bf72' target='_blank'>\n",
       "                        <img src='http://www.arcgis.com/sharing/rest//content/items/aab7322704084ae1abe1a3d591a8bf72/info/thumbnail/thumbnail.png' class=\"itemThumbnail\">\n",
       "                       </a>\n",
       "                    </div>\n",
       "\n",
       "                    <div class=\"item_right\"     style=\"float: none; width: auto; overflow: hidden;\">\n",
       "                        <a href='http://www.arcgis.com/home/item.html?id=aab7322704084ae1abe1a3d591a8bf72' target='_blank'><b>MH370Search</b>\n",
       "                        </a>\n",
       "                        <br/>MH370Search<img src='http://www.arcgis.com/home/js/jsapi/esri/css/images/item_type_icons/featureshosted16.png' style=\"vertical-align:middle;\">Feature Service by bflanagan_bureau\n",
       "                        <br/>Last Modified: March 02, 2015\n",
       "                        <br/>0 comments, 7,995 views\n",
       "                    </div>\n",
       "                </div>\n",
       "                "
      ],
      "text/plain": [
       "<Item title:\"MH370Search\" type:Feature Service owner:bflanagan_bureau>"
      ]
     },
     "metadata": {},
     "output_type": "display_data"
    },
    {
     "data": {
      "text/html": [
       "<div class=\"item_container\" style=\"height: auto; overflow: hidden; border: 1px solid #cfcfcf; border-radius: 2px; background: #f6fafa; line-height: 1.21429em; padding: 10px;\">\n",
       "                    <div class=\"item_left\" style=\"width: 210px; float: left;\">\n",
       "                       <a href='http://www.arcgis.com/home/item.html?id=6867dcf7b4214fcfa78e846f4b666a53' target='_blank'>\n",
       "                        <img src='http://www.arcgis.com/sharing/rest//content/items/6867dcf7b4214fcfa78e846f4b666a53/info/thumbnail/ago_downloaded.png' class=\"itemThumbnail\">\n",
       "                       </a>\n",
       "                    </div>\n",
       "\n",
       "                    <div class=\"item_right\"     style=\"float: none; width: auto; overflow: hidden;\">\n",
       "                        <a href='http://www.arcgis.com/home/item.html?id=6867dcf7b4214fcfa78e846f4b666a53' target='_blank'><b>ActualFlightRoute</b>\n",
       "                        </a>\n",
       "                        <br/><img src='http://www.arcgis.com/home/js/jsapi/esri/css/images/item_type_icons/featureshosted16.png' style=\"vertical-align:middle;\">Feature Service by bflanagan_bureau\n",
       "                        <br/>Last Modified: February 26, 2015\n",
       "                        <br/>0 comments, 4,848 views\n",
       "                    </div>\n",
       "                </div>\n",
       "                "
      ],
      "text/plain": [
       "<Item title:\"ActualFlightRoute\" type:Feature Service owner:bflanagan_bureau>"
      ]
     },
     "metadata": {},
     "output_type": "display_data"
    },
    {
     "data": {
      "text/html": [
       "<div class=\"item_container\" style=\"height: auto; overflow: hidden; border: 1px solid #cfcfcf; border-radius: 2px; background: #f6fafa; line-height: 1.21429em; padding: 10px;\">\n",
       "                    <div class=\"item_left\" style=\"width: 210px; float: left;\">\n",
       "                       <a href='http://www.arcgis.com/home/item.html?id=7615f1a27fd2410d9452762f94582ff7' target='_blank'>\n",
       "                        <img src='http://www.arcgis.com/sharing/rest//content/items/7615f1a27fd2410d9452762f94582ff7/info/thumbnail/thumbnail.png' class=\"itemThumbnail\">\n",
       "                       </a>\n",
       "                    </div>\n",
       "\n",
       "                    <div class=\"item_right\"     style=\"float: none; width: auto; overflow: hidden;\">\n",
       "                        <a href='http://www.arcgis.com/home/item.html?id=7615f1a27fd2410d9452762f94582ff7' target='_blank'><b>SatelliteLocation</b>\n",
       "                        </a>\n",
       "                        <br/>SatelliteLocation<img src='http://www.arcgis.com/home/js/jsapi/esri/css/images/item_type_icons/featureshosted16.png' style=\"vertical-align:middle;\">Feature Service by bflanagan_bureau\n",
       "                        <br/>Last Modified: February 26, 2015\n",
       "                        <br/>0 comments, 4,803 views\n",
       "                    </div>\n",
       "                </div>\n",
       "                "
      ],
      "text/plain": [
       "<Item title:\"SatelliteLocation\" type:Feature Service owner:bflanagan_bureau>"
      ]
     },
     "metadata": {},
     "output_type": "display_data"
    },
    {
     "data": {
      "text/html": [
       "<div class=\"item_container\" style=\"height: auto; overflow: hidden; border: 1px solid #cfcfcf; border-radius: 2px; background: #f6fafa; line-height: 1.21429em; padding: 10px;\">\n",
       "                    <div class=\"item_left\" style=\"width: 210px; float: left;\">\n",
       "                       <a href='http://www.arcgis.com/home/item.html?id=599726f0009a4dd38c06abf036b663c7' target='_blank'>\n",
       "                        <img src='http://www.arcgis.com/sharing/rest//content/items/599726f0009a4dd38c06abf036b663c7/info/thumbnail/ago_downloaded.png' class=\"itemThumbnail\">\n",
       "                       </a>\n",
       "                    </div>\n",
       "\n",
       "                    <div class=\"item_right\"     style=\"float: none; width: auto; overflow: hidden;\">\n",
       "                        <a href='http://www.arcgis.com/home/item.html?id=599726f0009a4dd38c06abf036b663c7' target='_blank'><b>mh370debris</b>\n",
       "                        </a>\n",
       "                        <br/>mh370 imagery debris<img src='http://www.arcgis.com/home/js/jsapi/esri/css/images/item_type_icons/featureshosted16.png' style=\"vertical-align:middle;\">Feature Service by bflanagan_bureau\n",
       "                        <br/>Last Modified: March 02, 2015\n",
       "                        <br/>0 comments, 3,062 views\n",
       "                    </div>\n",
       "                </div>\n",
       "                "
      ],
      "text/plain": [
       "<Item title:\"mh370debris\" type:Feature Service owner:bflanagan_bureau>"
      ]
     },
     "metadata": {},
     "output_type": "display_data"
    }
   ],
   "source": [
    "mh370items = gis.content.search(\"MH370\", \"feature service\", max_items=6)\n",
    "for item in mh370items:\n",
    "    display(item)"
   ]
  },
  {
   "cell_type": "markdown",
   "metadata": {},
   "source": [
    "Let's add a few of these layers to the map for analysis"
   ]
  },
  {
   "cell_type": "code",
   "execution_count": 6,
   "metadata": {
    "collapsed": false
   },
   "outputs": [],
   "source": [
    "map1.add_layer(mh370items[0])\n",
    "map1.add_layer(mh370items[4])\n",
    "map1.add_layer(mh370items[5])"
   ]
  },
  {
   "cell_type": "code",
   "execution_count": 7,
   "metadata": {
    "collapsed": false
   },
   "outputs": [],
   "source": [
    "map1.zoom = 6"
   ]
  },
  {
   "cell_type": "markdown",
   "metadata": {},
   "source": [
    "# Using geoprocessing tools\n",
    "\n",
    "Next, we search ArcGIS Online for the Ocean Currents geoprocessing tool that calculates the path of an unpowered vessel drifiting in ocean currents from a user defined starting point. This tool is for demonstration of GIS functionality only and excludes wind or atmospheric conditions, which are critical for a real-world analysis:"
   ]
  },
  {
   "cell_type": "code",
   "execution_count": 8,
   "metadata": {
    "collapsed": false
   },
   "outputs": [
    {
     "data": {
      "text/html": [
       "<div class=\"item_container\" style=\"height: auto; overflow: hidden; border: 1px solid #cfcfcf; border-radius: 2px; background: #f6fafa; line-height: 1.21429em; padding: 10px;\">\n",
       "                    <div class=\"item_left\" style=\"width: 210px; float: left;\">\n",
       "                       <a href='http://www.arcgis.com/home/item.html?id=383c2039b89d43baa0010c3bf243b144' target='_blank'>\n",
       "                        <img src='http://www.arcgis.com/sharing/rest//content/items/383c2039b89d43baa0010c3bf243b144/info/thumbnail/Ocean_Currents.png' class=\"itemThumbnail\">\n",
       "                       </a>\n",
       "                    </div>\n",
       "\n",
       "                    <div class=\"item_right\"     style=\"float: none; width: auto; overflow: hidden;\">\n",
       "                        <a href='http://www.arcgis.com/home/item.html?id=383c2039b89d43baa0010c3bf243b144' target='_blank'><b>Ocean Currents</b>\n",
       "                        </a>\n",
       "                        <br/>Calculates the path of an unpowered vessel drifiting in ocean currents from a user defined point. Excludes wind or atmospheric conditions.<img src='http://www.arcgis.com/home/js/jsapi/esri/css/images/item_type_icons/layers16.png' style=\"vertical-align:middle;\">Geoprocessing Service by esri_apac\n",
       "                        <br/>Last Modified: August 25, 2014\n",
       "                        <br/>1 comments, 165 views\n",
       "                    </div>\n",
       "                </div>\n",
       "                "
      ],
      "text/plain": [
       "<Item title:\"Ocean Currents\" type:Geoprocessing Service owner:esri_apac>"
      ]
     },
     "metadata": {},
     "output_type": "display_data"
    }
   ],
   "source": [
    "gpsvcs = gis.content.search(\"Ocean Currents\", item_type = \"geoprocessing service\", max_items=1)\n",
    "for gpsvc in gpsvcs:\n",
    "    display(gpsvc)"
   ]
  },
  {
   "cell_type": "markdown",
   "metadata": {},
   "source": [
    "We create a **`GeoprocessingTool`** object out of this service using the `arcgis.tools` module"
   ]
  },
  {
   "cell_type": "code",
   "execution_count": 9,
   "metadata": {
    "collapsed": false
   },
   "outputs": [
    {
     "name": "stdout",
     "output_type": "stream",
     "text": [
      "URL: http://sampleserver1.arcgisonline.com/ArcGIS/rest/Services/Specialty/ESRI_Currents_World/GPServer\n",
      "Task: MessageInABottle\n",
      "Input_Point : GPFeatureRecordSetLayer\n",
      "Days : GPDouble\n"
     ]
    },
    {
     "data": {
      "text/plain": [
       "GeoprocessingTool([('serviceDescription',\n",
       "                    'Use this service to calculate the path a bottle drifting in an ocean current would follow given a user defined point and the number of days the bottle travels. This is a sample service hosted by ESRI, powered by ArcGIS Server. ESRI has provided this example so that you may practice using ArcGIS APIs for JavaScript, Flex, and Silverlight. ESRI reserves the right to change or remove this service at any time and without notice. '),\n",
       "                   ('tasks', ['MessageInABottle']),\n",
       "                   ('executionType', 'esriExecutionTypeSynchronous'),\n",
       "                   ('resultMapServerName', '')])"
      ]
     },
     "metadata": {},
     "output_type": "display_data"
    }
   ],
   "source": [
    "from arcgis.tools import GeoprocessingTool\n",
    "gptool = GeoprocessingTool(gpsvcs[0])\n",
    "\n",
    "display(gptool)"
   ]
  },
  {
   "cell_type": "markdown",
   "metadata": {},
   "source": [
    "The ArcGIS Python API dynamically adds methods (in this case the **`message_in_a_bottle()`** method) based on the tool that is constructed. Such methods are added with documentation strings from the geoprocessing service and can be queried through intellisence."
   ]
  },
  {
   "cell_type": "markdown",
   "metadata": {},
   "source": [
    "From the output of the previous cell, we can see, the geoprocessing tool requires 2 input parameters: a `GPFeatureRecordSetLayer` which contains the input location as a point feature and a `GPDouble` parameter containing the number of days to be used for prediction. A `GPFeatureRecordSetLayer` can be provided as a `FeatureSet` object from `arcgis.lyr` module.\n",
    "\n",
    "When we click the map, we want to invoke this geoprocessing tool and pass in the clicked location. We can do this by adding an event listener to the map using `map.on_click()`. The event listener then calls the tool with the clicked location.\n",
    "\n",
    "The analysis results from this tool would contain the paths that the debris would take if the plane went down at the clicked point. Next, we draw the path on the map using `map.draw()` as shown in the code below"
   ]
  },
  {
   "cell_type": "code",
   "execution_count": 10,
   "metadata": {
    "collapsed": false
   },
   "outputs": [],
   "source": [
    "from arcgis.tools import FeatureSet, Feature\n",
    "def do_analysis(m, g):\n",
    "    #Parameter `g` contains the co-ordinates of the clicked location\n",
    "    \n",
    "    #Construct a FeatureSet object from the clicked locaiton\n",
    "    my_feature_set = FeatureSet([Feature(g)])\n",
    "    \n",
    "    #Pass the input location as a FeatureSet to the service for computation\n",
    "    ret = gptool.message_in_a_bottle(my_feature_set, 150)\n",
    "    \n",
    "    #Render the resulting FeatureSet on the map using `draw()` method\n",
    "    map1.draw(ret)\n",
    "    \n",
    "#Call the method that performs analysis whenever user clicks on the map.\n",
    "map1.on_click(do_analysis)"
   ]
  },
  {
   "cell_type": "markdown",
   "metadata": {
    "collapsed": true
   },
   "source": [
    "Click around on the map, near Diego Garcia as well as at the search locations to find the paths the debris could have taken and find if it could have reached La Reunion.\n",
    "\n",
    "**Note**: The tool expects an input location that is within the worlds oceans and will not work if clicked within land masses. To know more about this tool, visit the [help documentation](http://sampleserver1b.arcgisonline.com/arcgisoutput/Specialty_ESRI_Currents_World/MessageInABottle.htm)."
   ]
  }
 ],
 "metadata": {
  "kernelspec": {
   "display_name": "Python 3",
   "language": "python",
   "name": "python3"
  },
  "language_info": {
   "codemirror_mode": {
    "name": "ipython",
    "version": 3
   },
   "file_extension": ".py",
   "mimetype": "text/x-python",
   "name": "python",
   "nbconvert_exporter": "python",
   "pygments_lexer": "ipython3",
   "version": "3.5.2"
  },
  "widgets": {
   "state": {
    "2cc3b4511298493f8bb16ea79fddd72b": {
     "views": [
      {
       "cell_index": 3
      }
     ]
    }
   },
   "version": "1.2.0"
  }
 },
 "nbformat": 4,
 "nbformat_minor": 0
}

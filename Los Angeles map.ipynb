{
 "cells": [
  {
   "cell_type": "markdown",
   "metadata": {},
   "source": [
    "Previous to this,\n",
    "\n",
    "1. I had anaconda installed \n",
    "2. created a python 3.6 environment\n",
    "3. Activated the environment ($source activate env-name)\n",
    "4. ran this: $conda install -c esri arcgis\n",
    "5. open jupyter notebook, created python 3 file\n",
    "6. copied a few lines from tutorial page found in this link:\n",
    "\n",
    "https://notebooks.esri.com/user/lJfHhP1eOFoHhf6h2GDSGxDbC/notebooks/guide/09-mapping-and-visualization/smart-mapping.ipynb"
   ]
  },
  {
   "cell_type": "code",
   "execution_count": 5,
   "metadata": {},
   "outputs": [],
   "source": [
    "from arcgis.gis import *\n",
    "gis = GIS()\n"
   ]
  },
  {
   "cell_type": "code",
   "execution_count": 7,
   "metadata": {},
   "outputs": [
    {
     "data": {
      "application/vnd.jupyter.widget-view+json": {
       "model_id": "f96e9a60715143b1b04e5c02deac6065"
      }
     },
     "metadata": {},
     "output_type": "display_data"
    }
   ],
   "source": [
    "''' first approach: get map of USA.\n",
    "recenter to Los Angeles, zoom in'''\n",
    "\n",
    "map1 = gis.map('USA', 3)\n",
    "ma1"
   ]
  },
  {
   "cell_type": "code",
   "execution_count": 12,
   "metadata": {},
   "outputs": [],
   "source": [
    "# Change map's extent to Los Angeles city\n",
    "map1.center = [34, -118]\n",
    "map1.zoom = 10"
   ]
  },
  {
   "cell_type": "code",
   "execution_count": 15,
   "metadata": {},
   "outputs": [
    {
     "data": {
      "application/vnd.jupyter.widget-view+json": {
       "model_id": "2095c41560594158a8c4aa3c195a7fb8"
      }
     },
     "metadata": {},
     "output_type": "display_data"
    }
   ],
   "source": [
    "'''Second approach: get map of Los Angeles'''\n",
    "\n",
    "map2 = gis.map('Los Angeles', 8)\n",
    "map2"
   ]
  },
  {
   "cell_type": "code",
   "execution_count": null,
   "metadata": {
    "collapsed": true
   },
   "outputs": [],
   "source": []
  }
 ],
 "metadata": {
  "kernelspec": {
   "display_name": "Python 3",
   "language": "python",
   "name": "python3"
  },
  "language_info": {
   "codemirror_mode": {
    "name": "ipython",
    "version": 3
   },
   "file_extension": ".py",
   "mimetype": "text/x-python",
   "name": "python",
   "nbconvert_exporter": "python",
   "pygments_lexer": "ipython3",
   "version": "3.6.2"
  }
 },
 "nbformat": 4,
 "nbformat_minor": 2
}
